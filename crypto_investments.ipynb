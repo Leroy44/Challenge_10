{
 "cells": [
  {
   "cell_type": "markdown",
   "metadata": {},
   "source": [
    "# Module 10 Application\n",
    "\n",
    "## Challenge: Crypto Clustering\n",
    "\n",
    "In this Challenge, you’ll combine your financial Python programming skills with the new unsupervised learning skills that you acquired in this module.\n",
    "\n",
    "The CSV file provided for this challenge contains price change data of cryptocurrencies in different periods.\n",
    "\n",
    "The steps for this challenge are broken out into the following sections:\n",
    "\n",
    "* Import the Data (provided in the starter code)\n",
    "* Prepare the Data (provided in the starter code)\n",
    "* Find the Best Value for `k` Using the Original Data\n",
    "* Cluster Cryptocurrencies with K-means Using the Original Data\n",
    "* Optimize Clusters with Principal Component Analysis\n",
    "* Find the Best Value for `k` Using the PCA Data\n",
    "* Cluster the Cryptocurrencies with K-means Using the PCA Data\n",
    "* Visualize and Compare the Results"
   ]
  },
  {
   "cell_type": "markdown",
   "metadata": {},
   "source": [
    "### Import the Data\n",
    "\n",
    "This section imports the data into a new DataFrame. It follows these steps:\n",
    "\n",
    "1. Read  the “crypto_market_data.csv” file from the Resources folder into a DataFrame, and use `index_col=\"coin_id\"` to set the cryptocurrency name as the index. Review the DataFrame.\n",
    "\n",
    "2. Generate the summary statistics, and use HvPlot to visualize your data to observe what your DataFrame contains.\n",
    "\n",
    "\n",
    "> **Rewind:** The [Pandas`describe()`function](https://pandas.pydata.org/pandas-docs/stable/reference/api/pandas.DataFrame.describe.html) generates summary statistics for a DataFrame. "
   ]
  },
  {
   "cell_type": "code",
   "execution_count": 34,
   "metadata": {},
   "outputs": [],
   "source": [
    "# Import required libraries and dependencies\n",
    "import pandas as pd\n",
    "import hvplot.pandas\n",
    "from path import Path\n",
    "from sklearn.cluster import KMeans\n",
    "from sklearn.decomposition import PCA\n",
    "from sklearn.preprocessing import StandardScaler"
   ]
  },
  {
   "cell_type": "code",
   "execution_count": 35,
   "metadata": {},
   "outputs": [
    {
     "data": {
      "text/html": [
       "<div>\n",
       "<style scoped>\n",
       "    .dataframe tbody tr th:only-of-type {\n",
       "        vertical-align: middle;\n",
       "    }\n",
       "\n",
       "    .dataframe tbody tr th {\n",
       "        vertical-align: top;\n",
       "    }\n",
       "\n",
       "    .dataframe thead th {\n",
       "        text-align: right;\n",
       "    }\n",
       "</style>\n",
       "<table border=\"1\" class=\"dataframe\">\n",
       "  <thead>\n",
       "    <tr style=\"text-align: right;\">\n",
       "      <th></th>\n",
       "      <th>price_change_percentage_24h</th>\n",
       "      <th>price_change_percentage_7d</th>\n",
       "      <th>price_change_percentage_14d</th>\n",
       "      <th>price_change_percentage_30d</th>\n",
       "      <th>price_change_percentage_60d</th>\n",
       "      <th>price_change_percentage_200d</th>\n",
       "      <th>price_change_percentage_1y</th>\n",
       "    </tr>\n",
       "    <tr>\n",
       "      <th>coin_id</th>\n",
       "      <th></th>\n",
       "      <th></th>\n",
       "      <th></th>\n",
       "      <th></th>\n",
       "      <th></th>\n",
       "      <th></th>\n",
       "      <th></th>\n",
       "    </tr>\n",
       "  </thead>\n",
       "  <tbody>\n",
       "    <tr>\n",
       "      <th>bitcoin</th>\n",
       "      <td>1.08388</td>\n",
       "      <td>7.60278</td>\n",
       "      <td>6.57509</td>\n",
       "      <td>7.67258</td>\n",
       "      <td>-3.25185</td>\n",
       "      <td>83.51840</td>\n",
       "      <td>37.51761</td>\n",
       "    </tr>\n",
       "    <tr>\n",
       "      <th>ethereum</th>\n",
       "      <td>0.22392</td>\n",
       "      <td>10.38134</td>\n",
       "      <td>4.80849</td>\n",
       "      <td>0.13169</td>\n",
       "      <td>-12.88890</td>\n",
       "      <td>186.77418</td>\n",
       "      <td>101.96023</td>\n",
       "    </tr>\n",
       "    <tr>\n",
       "      <th>tether</th>\n",
       "      <td>-0.21173</td>\n",
       "      <td>0.04935</td>\n",
       "      <td>0.00640</td>\n",
       "      <td>-0.04237</td>\n",
       "      <td>0.28037</td>\n",
       "      <td>-0.00542</td>\n",
       "      <td>0.01954</td>\n",
       "    </tr>\n",
       "    <tr>\n",
       "      <th>ripple</th>\n",
       "      <td>-0.37819</td>\n",
       "      <td>-0.60926</td>\n",
       "      <td>2.24984</td>\n",
       "      <td>0.23455</td>\n",
       "      <td>-17.55245</td>\n",
       "      <td>39.53888</td>\n",
       "      <td>-16.60193</td>\n",
       "    </tr>\n",
       "    <tr>\n",
       "      <th>bitcoin-cash</th>\n",
       "      <td>2.90585</td>\n",
       "      <td>17.09717</td>\n",
       "      <td>14.75334</td>\n",
       "      <td>15.74903</td>\n",
       "      <td>-13.71793</td>\n",
       "      <td>21.66042</td>\n",
       "      <td>14.49384</td>\n",
       "    </tr>\n",
       "    <tr>\n",
       "      <th>binancecoin</th>\n",
       "      <td>2.10423</td>\n",
       "      <td>12.85511</td>\n",
       "      <td>6.80688</td>\n",
       "      <td>0.05865</td>\n",
       "      <td>36.33486</td>\n",
       "      <td>155.61937</td>\n",
       "      <td>69.69195</td>\n",
       "    </tr>\n",
       "    <tr>\n",
       "      <th>chainlink</th>\n",
       "      <td>-0.23935</td>\n",
       "      <td>20.69459</td>\n",
       "      <td>9.30098</td>\n",
       "      <td>-11.21747</td>\n",
       "      <td>-43.69522</td>\n",
       "      <td>403.22917</td>\n",
       "      <td>325.13186</td>\n",
       "    </tr>\n",
       "    <tr>\n",
       "      <th>cardano</th>\n",
       "      <td>0.00322</td>\n",
       "      <td>13.99302</td>\n",
       "      <td>5.55476</td>\n",
       "      <td>10.10553</td>\n",
       "      <td>-22.84776</td>\n",
       "      <td>264.51418</td>\n",
       "      <td>156.09756</td>\n",
       "    </tr>\n",
       "    <tr>\n",
       "      <th>litecoin</th>\n",
       "      <td>-0.06341</td>\n",
       "      <td>6.60221</td>\n",
       "      <td>7.28931</td>\n",
       "      <td>1.21662</td>\n",
       "      <td>-17.23960</td>\n",
       "      <td>27.49919</td>\n",
       "      <td>-12.66408</td>\n",
       "    </tr>\n",
       "    <tr>\n",
       "      <th>bitcoin-cash-sv</th>\n",
       "      <td>0.92530</td>\n",
       "      <td>3.29641</td>\n",
       "      <td>-1.86656</td>\n",
       "      <td>2.88926</td>\n",
       "      <td>-24.87434</td>\n",
       "      <td>7.42562</td>\n",
       "      <td>93.73082</td>\n",
       "    </tr>\n",
       "  </tbody>\n",
       "</table>\n",
       "</div>"
      ],
      "text/plain": [
       "                 price_change_percentage_24h  price_change_percentage_7d  \\\n",
       "coin_id                                                                    \n",
       "bitcoin                              1.08388                     7.60278   \n",
       "ethereum                             0.22392                    10.38134   \n",
       "tether                              -0.21173                     0.04935   \n",
       "ripple                              -0.37819                    -0.60926   \n",
       "bitcoin-cash                         2.90585                    17.09717   \n",
       "binancecoin                          2.10423                    12.85511   \n",
       "chainlink                           -0.23935                    20.69459   \n",
       "cardano                              0.00322                    13.99302   \n",
       "litecoin                            -0.06341                     6.60221   \n",
       "bitcoin-cash-sv                      0.92530                     3.29641   \n",
       "\n",
       "                 price_change_percentage_14d  price_change_percentage_30d  \\\n",
       "coin_id                                                                     \n",
       "bitcoin                              6.57509                      7.67258   \n",
       "ethereum                             4.80849                      0.13169   \n",
       "tether                               0.00640                     -0.04237   \n",
       "ripple                               2.24984                      0.23455   \n",
       "bitcoin-cash                        14.75334                     15.74903   \n",
       "binancecoin                          6.80688                      0.05865   \n",
       "chainlink                            9.30098                    -11.21747   \n",
       "cardano                              5.55476                     10.10553   \n",
       "litecoin                             7.28931                      1.21662   \n",
       "bitcoin-cash-sv                     -1.86656                      2.88926   \n",
       "\n",
       "                 price_change_percentage_60d  price_change_percentage_200d  \\\n",
       "coin_id                                                                      \n",
       "bitcoin                             -3.25185                      83.51840   \n",
       "ethereum                           -12.88890                     186.77418   \n",
       "tether                               0.28037                      -0.00542   \n",
       "ripple                             -17.55245                      39.53888   \n",
       "bitcoin-cash                       -13.71793                      21.66042   \n",
       "binancecoin                         36.33486                     155.61937   \n",
       "chainlink                          -43.69522                     403.22917   \n",
       "cardano                            -22.84776                     264.51418   \n",
       "litecoin                           -17.23960                      27.49919   \n",
       "bitcoin-cash-sv                    -24.87434                       7.42562   \n",
       "\n",
       "                 price_change_percentage_1y  \n",
       "coin_id                                      \n",
       "bitcoin                            37.51761  \n",
       "ethereum                          101.96023  \n",
       "tether                              0.01954  \n",
       "ripple                            -16.60193  \n",
       "bitcoin-cash                       14.49384  \n",
       "binancecoin                        69.69195  \n",
       "chainlink                         325.13186  \n",
       "cardano                           156.09756  \n",
       "litecoin                          -12.66408  \n",
       "bitcoin-cash-sv                    93.73082  "
      ]
     },
     "execution_count": 35,
     "metadata": {},
     "output_type": "execute_result"
    }
   ],
   "source": [
    "# Load the data into a Pandas DataFrame\n",
    "df_market_data = pd.read_csv(\n",
    "    Path(\"Resources/crypto_market_data.csv\"),\n",
    "    index_col=\"coin_id\")\n",
    "\n",
    "# Display sample data\n",
    "df_market_data.head(10)"
   ]
  },
  {
   "cell_type": "code",
   "execution_count": 36,
   "metadata": {},
   "outputs": [
    {
     "data": {
      "text/html": [
       "<div>\n",
       "<style scoped>\n",
       "    .dataframe tbody tr th:only-of-type {\n",
       "        vertical-align: middle;\n",
       "    }\n",
       "\n",
       "    .dataframe tbody tr th {\n",
       "        vertical-align: top;\n",
       "    }\n",
       "\n",
       "    .dataframe thead th {\n",
       "        text-align: right;\n",
       "    }\n",
       "</style>\n",
       "<table border=\"1\" class=\"dataframe\">\n",
       "  <thead>\n",
       "    <tr style=\"text-align: right;\">\n",
       "      <th></th>\n",
       "      <th>price_change_percentage_24h</th>\n",
       "      <th>price_change_percentage_7d</th>\n",
       "      <th>price_change_percentage_14d</th>\n",
       "      <th>price_change_percentage_30d</th>\n",
       "      <th>price_change_percentage_60d</th>\n",
       "      <th>price_change_percentage_200d</th>\n",
       "      <th>price_change_percentage_1y</th>\n",
       "    </tr>\n",
       "  </thead>\n",
       "  <tbody>\n",
       "    <tr>\n",
       "      <th>count</th>\n",
       "      <td>41.000000</td>\n",
       "      <td>41.000000</td>\n",
       "      <td>41.000000</td>\n",
       "      <td>41.000000</td>\n",
       "      <td>41.000000</td>\n",
       "      <td>41.000000</td>\n",
       "      <td>41.000000</td>\n",
       "    </tr>\n",
       "    <tr>\n",
       "      <th>mean</th>\n",
       "      <td>-0.269686</td>\n",
       "      <td>4.497147</td>\n",
       "      <td>0.185787</td>\n",
       "      <td>1.545693</td>\n",
       "      <td>-0.094119</td>\n",
       "      <td>236.537432</td>\n",
       "      <td>347.667956</td>\n",
       "    </tr>\n",
       "    <tr>\n",
       "      <th>std</th>\n",
       "      <td>2.694793</td>\n",
       "      <td>6.375218</td>\n",
       "      <td>8.376939</td>\n",
       "      <td>26.344218</td>\n",
       "      <td>47.365803</td>\n",
       "      <td>435.225304</td>\n",
       "      <td>1247.842884</td>\n",
       "    </tr>\n",
       "    <tr>\n",
       "      <th>min</th>\n",
       "      <td>-13.527860</td>\n",
       "      <td>-6.094560</td>\n",
       "      <td>-18.158900</td>\n",
       "      <td>-34.705480</td>\n",
       "      <td>-44.822480</td>\n",
       "      <td>-0.392100</td>\n",
       "      <td>-17.567530</td>\n",
       "    </tr>\n",
       "    <tr>\n",
       "      <th>25%</th>\n",
       "      <td>-0.608970</td>\n",
       "      <td>0.047260</td>\n",
       "      <td>-5.026620</td>\n",
       "      <td>-10.438470</td>\n",
       "      <td>-25.907990</td>\n",
       "      <td>21.660420</td>\n",
       "      <td>0.406170</td>\n",
       "    </tr>\n",
       "    <tr>\n",
       "      <th>50%</th>\n",
       "      <td>-0.063410</td>\n",
       "      <td>3.296410</td>\n",
       "      <td>0.109740</td>\n",
       "      <td>-0.042370</td>\n",
       "      <td>-7.544550</td>\n",
       "      <td>83.905200</td>\n",
       "      <td>69.691950</td>\n",
       "    </tr>\n",
       "    <tr>\n",
       "      <th>75%</th>\n",
       "      <td>0.612090</td>\n",
       "      <td>7.602780</td>\n",
       "      <td>5.510740</td>\n",
       "      <td>4.578130</td>\n",
       "      <td>0.657260</td>\n",
       "      <td>216.177610</td>\n",
       "      <td>168.372510</td>\n",
       "    </tr>\n",
       "    <tr>\n",
       "      <th>max</th>\n",
       "      <td>4.840330</td>\n",
       "      <td>20.694590</td>\n",
       "      <td>24.239190</td>\n",
       "      <td>140.795700</td>\n",
       "      <td>223.064370</td>\n",
       "      <td>2227.927820</td>\n",
       "      <td>7852.089700</td>\n",
       "    </tr>\n",
       "  </tbody>\n",
       "</table>\n",
       "</div>"
      ],
      "text/plain": [
       "       price_change_percentage_24h  price_change_percentage_7d  \\\n",
       "count                    41.000000                   41.000000   \n",
       "mean                     -0.269686                    4.497147   \n",
       "std                       2.694793                    6.375218   \n",
       "min                     -13.527860                   -6.094560   \n",
       "25%                      -0.608970                    0.047260   \n",
       "50%                      -0.063410                    3.296410   \n",
       "75%                       0.612090                    7.602780   \n",
       "max                       4.840330                   20.694590   \n",
       "\n",
       "       price_change_percentage_14d  price_change_percentage_30d  \\\n",
       "count                    41.000000                    41.000000   \n",
       "mean                      0.185787                     1.545693   \n",
       "std                       8.376939                    26.344218   \n",
       "min                     -18.158900                   -34.705480   \n",
       "25%                      -5.026620                   -10.438470   \n",
       "50%                       0.109740                    -0.042370   \n",
       "75%                       5.510740                     4.578130   \n",
       "max                      24.239190                   140.795700   \n",
       "\n",
       "       price_change_percentage_60d  price_change_percentage_200d  \\\n",
       "count                    41.000000                     41.000000   \n",
       "mean                     -0.094119                    236.537432   \n",
       "std                      47.365803                    435.225304   \n",
       "min                     -44.822480                     -0.392100   \n",
       "25%                     -25.907990                     21.660420   \n",
       "50%                      -7.544550                     83.905200   \n",
       "75%                       0.657260                    216.177610   \n",
       "max                     223.064370                   2227.927820   \n",
       "\n",
       "       price_change_percentage_1y  \n",
       "count                   41.000000  \n",
       "mean                   347.667956  \n",
       "std                   1247.842884  \n",
       "min                    -17.567530  \n",
       "25%                      0.406170  \n",
       "50%                     69.691950  \n",
       "75%                    168.372510  \n",
       "max                   7852.089700  "
      ]
     },
     "execution_count": 36,
     "metadata": {},
     "output_type": "execute_result"
    }
   ],
   "source": [
    "# Generate summary statistics\n",
    "df_market_data.describe()"
   ]
  },
  {
   "cell_type": "code",
   "execution_count": 37,
   "metadata": {},
   "outputs": [
    {
     "data": {},
     "metadata": {},
     "output_type": "display_data"
    },
    {
     "data": {
      "application/vnd.holoviews_exec.v0+json": "",
      "text/html": [
       "<div id='2148'>\n",
       "\n",
       "\n",
       "\n",
       "\n",
       "\n",
       "  <div class=\"bk-root\" id=\"c52e4a5d-434f-48ea-a945-d0b028724061\" data-root-id=\"2148\"></div>\n",
       "</div>\n",
       "<script type=\"application/javascript\">(function(root) {\n",
       "  function embed_document(root) {\n",
       "    var docs_json = {\"c44f0ea4-0846-4b17-96bd-638e94330002\":{\"defs\":[{\"extends\":null,\"module\":null,\"name\":\"ReactiveHTML1\",\"overrides\":[],\"properties\":[]},{\"extends\":null,\"module\":null,\"name\":\"FlexBox1\",\"overrides\":[],\"properties\":[{\"default\":\"flex-start\",\"kind\":null,\"name\":\"align_content\"},{\"default\":\"flex-start\",\"kind\":null,\"name\":\"align_items\"},{\"default\":\"row\",\"kind\":null,\"name\":\"flex_direction\"},{\"default\":\"wrap\",\"kind\":null,\"name\":\"flex_wrap\"},{\"default\":\"flex-start\",\"kind\":null,\"name\":\"justify_content\"}]},{\"extends\":null,\"module\":null,\"name\":\"TemplateActions1\",\"overrides\":[],\"properties\":[{\"default\":0,\"kind\":null,\"name\":\"open_modal\"},{\"default\":0,\"kind\":null,\"name\":\"close_modal\"}]},{\"extends\":null,\"module\":null,\"name\":\"MaterialTemplateActions1\",\"overrides\":[],\"properties\":[{\"default\":0,\"kind\":null,\"name\":\"open_modal\"},{\"default\":0,\"kind\":null,\"name\":\"close_modal\"}]}],\"roots\":{\"references\":[{\"attributes\":{\"axis_label\":\"\",\"formatter\":{\"id\":\"2192\"},\"major_label_policy\":{\"id\":\"2191\"},\"ticker\":{\"id\":\"2172\"}},\"id\":\"2171\",\"type\":\"LinearAxis\"},{\"attributes\":{\"click_policy\":\"mute\",\"items\":[{\"id\":\"2213\"},{\"id\":\"2235\"},{\"id\":\"2259\"},{\"id\":\"2285\"},{\"id\":\"2313\"},{\"id\":\"2343\"},{\"id\":\"2375\"}],\"location\":[0,0],\"title\":\"Variable\"},\"id\":\"2212\",\"type\":\"Legend\"},{\"attributes\":{\"line_color\":\"#30a2da\",\"line_width\":2,\"x\":{\"field\":\"coin_id\"},\"y\":{\"field\":\"value\"}},\"id\":\"2214\",\"type\":\"Line\"},{\"attributes\":{},\"id\":\"2172\",\"type\":\"BasicTicker\"},{\"attributes\":{\"callback\":null,\"renderers\":[{\"id\":\"2200\"},{\"id\":\"2221\"},{\"id\":\"2243\"},{\"id\":\"2267\"},{\"id\":\"2293\"},{\"id\":\"2321\"},{\"id\":\"2351\"}],\"tags\":[\"hv_created\"],\"tooltips\":[[\"Variable\",\"@{Variable}\"],[\"coin_id\",\"@{coin_id}\"],[\"value\",\"@{value}\"]]},\"id\":\"2152\",\"type\":\"HoverTool\"},{\"attributes\":{\"line_color\":\"#17becf\",\"line_width\":2,\"x\":{\"field\":\"coin_id\"},\"y\":{\"field\":\"value\"}},\"id\":\"2318\",\"type\":\"Line\"},{\"attributes\":{\"axis\":{\"id\":\"2171\"},\"dimension\":1,\"grid_line_color\":null,\"ticker\":null},\"id\":\"2174\",\"type\":\"Grid\"},{\"attributes\":{\"line_color\":\"#e5ae38\",\"line_width\":2,\"x\":{\"field\":\"coin_id\"},\"y\":{\"field\":\"value\"}},\"id\":\"2260\",\"type\":\"Line\"},{\"attributes\":{\"label\":{\"value\":\"price_change_percentage_24h\"},\"renderers\":[{\"id\":\"2200\"}]},\"id\":\"2213\",\"type\":\"LegendItem\"},{\"attributes\":{\"line_color\":\"#e5ae38\",\"line_width\":2,\"x\":{\"field\":\"coin_id\"},\"y\":{\"field\":\"value\"}},\"id\":\"2240\",\"type\":\"Line\"},{\"attributes\":{},\"id\":\"2316\",\"type\":\"Selection\"},{\"attributes\":{\"margin\":[5,5,5,5],\"name\":\"HSpacer04181\",\"sizing_mode\":\"stretch_width\"},\"id\":\"2149\",\"type\":\"Spacer\"},{\"attributes\":{},\"id\":\"2192\",\"type\":\"BasicTickFormatter\"},{\"attributes\":{\"line_color\":\"#fc4f30\",\"line_width\":2,\"x\":{\"field\":\"coin_id\"},\"y\":{\"field\":\"value\"}},\"id\":\"2218\",\"type\":\"Line\"},{\"attributes\":{\"line_color\":\"#9467bd\",\"line_width\":2,\"x\":{\"field\":\"coin_id\"},\"y\":{\"field\":\"value\"}},\"id\":\"2376\",\"type\":\"Line\"},{\"attributes\":{\"line_color\":\"#fc4f30\",\"line_width\":2,\"x\":{\"field\":\"coin_id\"},\"y\":{\"field\":\"value\"}},\"id\":\"2236\",\"type\":\"Line\"},{\"attributes\":{\"line_color\":\"#6d904f\",\"line_width\":2,\"x\":{\"field\":\"coin_id\"},\"y\":{\"field\":\"value\"}},\"id\":\"2286\",\"type\":\"Line\"},{\"attributes\":{},\"id\":\"2175\",\"type\":\"SaveTool\"},{\"attributes\":{\"data_source\":{\"id\":\"2345\"},\"glyph\":{\"id\":\"2348\"},\"hover_glyph\":null,\"muted_glyph\":{\"id\":\"2350\"},\"nonselection_glyph\":{\"id\":\"2349\"},\"selection_glyph\":{\"id\":\"2376\"},\"view\":{\"id\":\"2352\"}},\"id\":\"2351\",\"type\":\"GlyphRenderer\"},{\"attributes\":{},\"id\":\"2176\",\"type\":\"PanTool\"},{\"attributes\":{\"children\":[{\"id\":\"2149\"},{\"id\":\"2159\"},{\"id\":\"2575\"}],\"margin\":[0,0,0,0],\"name\":\"Row04177\",\"tags\":[\"embedded\"]},\"id\":\"2148\",\"type\":\"Row\"},{\"attributes\":{},\"id\":\"2179\",\"type\":\"ResetTool\"},{\"attributes\":{},\"id\":\"2177\",\"type\":\"WheelZoomTool\"},{\"attributes\":{\"axis\":{\"id\":\"2168\"},\"grid_line_color\":null,\"ticker\":null},\"id\":\"2170\",\"type\":\"Grid\"},{\"attributes\":{\"data\":{\"Variable\":[\"price_change_percentage_30d\",\"price_change_percentage_30d\",\"price_change_percentage_30d\",\"price_change_percentage_30d\",\"price_change_percentage_30d\",\"price_change_percentage_30d\",\"price_change_percentage_30d\",\"price_change_percentage_30d\",\"price_change_percentage_30d\",\"price_change_percentage_30d\",\"price_change_percentage_30d\",\"price_change_percentage_30d\",\"price_change_percentage_30d\",\"price_change_percentage_30d\",\"price_change_percentage_30d\",\"price_change_percentage_30d\",\"price_change_percentage_30d\",\"price_change_percentage_30d\",\"price_change_percentage_30d\",\"price_change_percentage_30d\",\"price_change_percentage_30d\",\"price_change_percentage_30d\",\"price_change_percentage_30d\",\"price_change_percentage_30d\",\"price_change_percentage_30d\",\"price_change_percentage_30d\",\"price_change_percentage_30d\",\"price_change_percentage_30d\",\"price_change_percentage_30d\",\"price_change_percentage_30d\",\"price_change_percentage_30d\",\"price_change_percentage_30d\",\"price_change_percentage_30d\",\"price_change_percentage_30d\",\"price_change_percentage_30d\",\"price_change_percentage_30d\",\"price_change_percentage_30d\",\"price_change_percentage_30d\",\"price_change_percentage_30d\",\"price_change_percentage_30d\",\"price_change_percentage_30d\"],\"coin_id\":[\"bitcoin\",\"ethereum\",\"tether\",\"ripple\",\"bitcoin-cash\",\"binancecoin\",\"chainlink\",\"cardano\",\"litecoin\",\"bitcoin-cash-sv\",\"crypto-com-chain\",\"usd-coin\",\"eos\",\"monero\",\"tron\",\"tezos\",\"okb\",\"stellar\",\"cosmos\",\"cdai\",\"neo\",\"wrapped-bitcoin\",\"leo-token\",\"huobi-token\",\"nem\",\"binance-usd\",\"iota\",\"vechain\",\"zcash\",\"theta-token\",\"dash\",\"ethereum-classic\",\"ethlend\",\"maker\",\"havven\",\"omisego\",\"celsius-degree-token\",\"ontology\",\"ftx-token\",\"true-usd\",\"digibyte\"],\"value\":{\"__ndarray__\":\"VMa/z7iwHkAl6ZrJN9vAP/28qUiFsaW/L26jAbwFzj8dcjPcgH8vQPMf0m9fB64/5bhTOlhvJsBnfjUHCDYkQGWNeohGd/M/sCDNWDQdB0Cmft5UpHIxwJgvL8A+OsW/t0WZDTKJEsDeVKTC2HpDQEzD8BExNSnAjWK5pdVALMDjjcwjf+AkwIrIsIo3QiDAjliLTwFQEkAWpBmLpnMBwE3WqIdo9DXAVG8NbJWAHUAnMQisHJoIQGA8g4b+CQrACcTr+gU7DcCPpQ9dUN+SP80Bgjl6nBDA9S1zuixWLMBC7Eyh83odQEku/yH9bj9AtTf4wmQqH8Am/FI/byoHQNjYJaq3/j3A9GxWfa62MECdRloqb9c0wF4R/G8lOyLArK3YX3aZYUC1/SsrTVpBwP/PYb68ICXAFR3J5T+knz+ndLD+z4EqQA==\",\"dtype\":\"float64\",\"order\":\"little\",\"shape\":[41]}},\"selected\":{\"id\":\"2262\"},\"selection_policy\":{\"id\":\"2282\"}},\"id\":\"2261\",\"type\":\"ColumnDataSource\"},{\"attributes\":{\"overlay\":{\"id\":\"2180\"}},\"id\":\"2178\",\"type\":\"BoxZoomTool\"},{\"attributes\":{\"data\":{\"Variable\":[\"price_change_percentage_60d\",\"price_change_percentage_60d\",\"price_change_percentage_60d\",\"price_change_percentage_60d\",\"price_change_percentage_60d\",\"price_change_percentage_60d\",\"price_change_percentage_60d\",\"price_change_percentage_60d\",\"price_change_percentage_60d\",\"price_change_percentage_60d\",\"price_change_percentage_60d\",\"price_change_percentage_60d\",\"price_change_percentage_60d\",\"price_change_percentage_60d\",\"price_change_percentage_60d\",\"price_change_percentage_60d\",\"price_change_percentage_60d\",\"price_change_percentage_60d\",\"price_change_percentage_60d\",\"price_change_percentage_60d\",\"price_change_percentage_60d\",\"price_change_percentage_60d\",\"price_change_percentage_60d\",\"price_change_percentage_60d\",\"price_change_percentage_60d\",\"price_change_percentage_60d\",\"price_change_percentage_60d\",\"price_change_percentage_60d\",\"price_change_percentage_60d\",\"price_change_percentage_60d\",\"price_change_percentage_60d\",\"price_change_percentage_60d\",\"price_change_percentage_60d\",\"price_change_percentage_60d\",\"price_change_percentage_60d\",\"price_change_percentage_60d\",\"price_change_percentage_60d\",\"price_change_percentage_60d\",\"price_change_percentage_60d\",\"price_change_percentage_60d\",\"price_change_percentage_60d\"],\"coin_id\":[\"bitcoin\",\"ethereum\",\"tether\",\"ripple\",\"bitcoin-cash\",\"binancecoin\",\"chainlink\",\"cardano\",\"litecoin\",\"bitcoin-cash-sv\",\"crypto-com-chain\",\"usd-coin\",\"eos\",\"monero\",\"tron\",\"tezos\",\"okb\",\"stellar\",\"cosmos\",\"cdai\",\"neo\",\"wrapped-bitcoin\",\"leo-token\",\"huobi-token\",\"nem\",\"binance-usd\",\"iota\",\"vechain\",\"zcash\",\"theta-token\",\"dash\",\"ethereum-classic\",\"ethlend\",\"maker\",\"havven\",\"omisego\",\"celsius-degree-token\",\"ontology\",\"ftx-token\",\"true-usd\",\"digibyte\"],\"value\":{\"__ndarray__\":\"FvvL7skDCsAs1JrmHccpwKjjMQOV8dE/2qz6XG2NMcBzol2FlG8rwIleRrHcKkJAN8MN+PzYRcBi26LMBtk2wCEf9GxWPTHAq5UJv9TfOMBg5dAi23kwwDygbMoV3qU/l631RUIrPsDNzMzMzNxEQJm7lpAPGhZAms5OBkdpRsBKe4MvTKYGwEsfuqC+zT7APL1SliHOHMC4AZ8fRgjlP9L7xteeCStAFqQZi6azDMCvJeSDni0ewDeOWItPQQvAXvQVpBm3VEDaOGItPgW4PwpLPKBsQkHAaw4QzNHPRcAJM23/yoo0wBmQvd79AVRAfa62Yn85OsBVGFsIcug5wLCsNCkFHQFA529CIQKeMsA0uoPYmbZDwPKwUGua0VNA/pqsUQ/ia0Ao8iTpmllAwFuxv+yenBdAmrFoOjsZ0D8s1JrmHRc/wA==\",\"dtype\":\"float64\",\"order\":\"little\",\"shape\":[41]}},\"selected\":{\"id\":\"2288\"},\"selection_policy\":{\"id\":\"2310\"}},\"id\":\"2287\",\"type\":\"ColumnDataSource\"},{\"attributes\":{\"label\":{\"value\":\"price_change_percentage_14d\"},\"renderers\":[{\"id\":\"2243\"}]},\"id\":\"2259\",\"type\":\"LegendItem\"},{\"attributes\":{},\"id\":\"2195\",\"type\":\"Selection\"},{\"attributes\":{\"data\":{\"Variable\":[\"price_change_percentage_1y\",\"price_change_percentage_1y\",\"price_change_percentage_1y\",\"price_change_percentage_1y\",\"price_change_percentage_1y\",\"price_change_percentage_1y\",\"price_change_percentage_1y\",\"price_change_percentage_1y\",\"price_change_percentage_1y\",\"price_change_percentage_1y\",\"price_change_percentage_1y\",\"price_change_percentage_1y\",\"price_change_percentage_1y\",\"price_change_percentage_1y\",\"price_change_percentage_1y\",\"price_change_percentage_1y\",\"price_change_percentage_1y\",\"price_change_percentage_1y\",\"price_change_percentage_1y\",\"price_change_percentage_1y\",\"price_change_percentage_1y\",\"price_change_percentage_1y\",\"price_change_percentage_1y\",\"price_change_percentage_1y\",\"price_change_percentage_1y\",\"price_change_percentage_1y\",\"price_change_percentage_1y\",\"price_change_percentage_1y\",\"price_change_percentage_1y\",\"price_change_percentage_1y\",\"price_change_percentage_1y\",\"price_change_percentage_1y\",\"price_change_percentage_1y\",\"price_change_percentage_1y\",\"price_change_percentage_1y\",\"price_change_percentage_1y\",\"price_change_percentage_1y\",\"price_change_percentage_1y\",\"price_change_percentage_1y\",\"price_change_percentage_1y\",\"price_change_percentage_1y\"],\"coin_id\":[\"bitcoin\",\"ethereum\",\"tether\",\"ripple\",\"bitcoin-cash\",\"binancecoin\",\"chainlink\",\"cardano\",\"litecoin\",\"bitcoin-cash-sv\",\"crypto-com-chain\",\"usd-coin\",\"eos\",\"monero\",\"tron\",\"tezos\",\"okb\",\"stellar\",\"cosmos\",\"cdai\",\"neo\",\"wrapped-bitcoin\",\"leo-token\",\"huobi-token\",\"nem\",\"binance-usd\",\"iota\",\"vechain\",\"zcash\",\"theta-token\",\"dash\",\"ethereum-classic\",\"ethlend\",\"maker\",\"havven\",\"omisego\",\"celsius-degree-token\",\"ontology\",\"ftx-token\",\"true-usd\",\"digibyte\"],\"value\":{\"__ndarray__\":\"kQpjC0HCQkDWqIdodH1ZQN/42jNLApQ/NXugFRiaMMDN6bKY2PwsQOcdp+hIbFFAaTo7GRxSdEC6LCY2H4NjQPnaM0sCVCnA0NA/wcVuV0CQvd798RBzQL4wmSoYlci/t39lpUmRMcDovMYuUaFhQEPKT6p9nk1A6PaSxmiAYUBdUN8yp75hQMzuycNCnStAw7ZFmQ2cVEAHsTOFzmvSvx/0bFZ9aWBAhhvw+WHEQkAN/RNcrAA1QN8Vwf9WkjhAS7A4nPkWaUAVUn5S7dPBPzUk7rH04Q/AIsMq3shbaUBf0hito7hUQPyMCwcC64VAzsKedvirA8Dwoq8gzTgmQHRGlPYWrL5Ayk+qfTpOJUDfiVkvRjaFQEfJq3MMC3RAnFCIgONmn0CsVib8Uk8pwNttF5rrC2VAyXGndLD+2T/ZfFwbKgxnQA==\",\"dtype\":\"float64\",\"order\":\"little\",\"shape\":[41]}},\"selected\":{\"id\":\"2346\"},\"selection_policy\":{\"id\":\"2372\"}},\"id\":\"2345\",\"type\":\"ColumnDataSource\"},{\"attributes\":{},\"id\":\"2282\",\"type\":\"UnionRenderers\"},{\"attributes\":{\"below\":[{\"id\":\"2168\"}],\"center\":[{\"id\":\"2170\"},{\"id\":\"2174\"}],\"height\":400,\"left\":[{\"id\":\"2171\"}],\"margin\":[5,5,5,5],\"min_border_bottom\":10,\"min_border_left\":10,\"min_border_right\":10,\"min_border_top\":10,\"renderers\":[{\"id\":\"2200\"},{\"id\":\"2221\"},{\"id\":\"2243\"},{\"id\":\"2267\"},{\"id\":\"2293\"},{\"id\":\"2321\"},{\"id\":\"2351\"}],\"right\":[{\"id\":\"2212\"}],\"sizing_mode\":\"fixed\",\"title\":{\"id\":\"2160\"},\"toolbar\":{\"id\":\"2181\"},\"width\":800,\"x_range\":{\"id\":\"2150\"},\"x_scale\":{\"id\":\"2164\"},\"y_range\":{\"id\":\"2151\"},\"y_scale\":{\"id\":\"2166\"}},\"id\":\"2159\",\"subtype\":\"Figure\",\"type\":\"Plot\"},{\"attributes\":{\"data_source\":{\"id\":\"2261\"},\"glyph\":{\"id\":\"2264\"},\"hover_glyph\":null,\"muted_glyph\":{\"id\":\"2266\"},\"nonselection_glyph\":{\"id\":\"2265\"},\"selection_glyph\":{\"id\":\"2286\"},\"view\":{\"id\":\"2268\"}},\"id\":\"2267\",\"type\":\"GlyphRenderer\"},{\"attributes\":{\"source\":{\"id\":\"2315\"}},\"id\":\"2322\",\"type\":\"CDSView\"},{\"attributes\":{\"line_color\":\"#17becf\",\"line_width\":2,\"x\":{\"field\":\"coin_id\"},\"y\":{\"field\":\"value\"}},\"id\":\"2344\",\"type\":\"Line\"},{\"attributes\":{\"line_alpha\":0.1,\"line_color\":\"#6d904f\",\"line_width\":2,\"x\":{\"field\":\"coin_id\"},\"y\":{\"field\":\"value\"}},\"id\":\"2265\",\"type\":\"Line\"},{\"attributes\":{\"label\":{\"value\":\"price_change_percentage_60d\"},\"renderers\":[{\"id\":\"2293\"}]},\"id\":\"2313\",\"type\":\"LegendItem\"},{\"attributes\":{\"data\":{\"Variable\":[\"price_change_percentage_14d\",\"price_change_percentage_14d\",\"price_change_percentage_14d\",\"price_change_percentage_14d\",\"price_change_percentage_14d\",\"price_change_percentage_14d\",\"price_change_percentage_14d\",\"price_change_percentage_14d\",\"price_change_percentage_14d\",\"price_change_percentage_14d\",\"price_change_percentage_14d\",\"price_change_percentage_14d\",\"price_change_percentage_14d\",\"price_change_percentage_14d\",\"price_change_percentage_14d\",\"price_change_percentage_14d\",\"price_change_percentage_14d\",\"price_change_percentage_14d\",\"price_change_percentage_14d\",\"price_change_percentage_14d\",\"price_change_percentage_14d\",\"price_change_percentage_14d\",\"price_change_percentage_14d\",\"price_change_percentage_14d\",\"price_change_percentage_14d\",\"price_change_percentage_14d\",\"price_change_percentage_14d\",\"price_change_percentage_14d\",\"price_change_percentage_14d\",\"price_change_percentage_14d\",\"price_change_percentage_14d\",\"price_change_percentage_14d\",\"price_change_percentage_14d\",\"price_change_percentage_14d\",\"price_change_percentage_14d\",\"price_change_percentage_14d\",\"price_change_percentage_14d\",\"price_change_percentage_14d\",\"price_change_percentage_14d\",\"price_change_percentage_14d\",\"price_change_percentage_14d\"],\"coin_id\":[\"bitcoin\",\"ethereum\",\"tether\",\"ripple\",\"bitcoin-cash\",\"binancecoin\",\"chainlink\",\"cardano\",\"litecoin\",\"bitcoin-cash-sv\",\"crypto-com-chain\",\"usd-coin\",\"eos\",\"monero\",\"tron\",\"tezos\",\"okb\",\"stellar\",\"cosmos\",\"cdai\",\"neo\",\"wrapped-bitcoin\",\"leo-token\",\"huobi-token\",\"nem\",\"binance-usd\",\"iota\",\"vechain\",\"zcash\",\"theta-token\",\"dash\",\"ethereum-classic\",\"ethlend\",\"maker\",\"havven\",\"omisego\",\"celsius-degree-token\",\"ontology\",\"ftx-token\",\"true-usd\",\"digibyte\"],\"value\":{\"__ndarray__\":\"zQaZZORMGkB5knTN5DsTQC1DHOviNno/ctwpHaz/AUCLic3HtYEtQJgvL8A+OhtACoDxDBqaIkAOhGQBEzgWQICfceFAKB1AIVnABG7d/b8xsfm4NhQhwGtI3GPpQ3e/pfeNrz0z8j8ao3VUNWkyQBUA4xk0dPY/VIzzN6GQAkCXrfVFQhsUwKpla32RUPG/Qgkzbf8KFkDPg7uzdtvFP8MN+PwwsiPAYFlpUgo6GkB3+GuyRh0cwM2v5gDBHN0/jliLTwEwBUDWrZ6T3jeuP7pOIy2VNw7Am1Wfq60oMsAJM23/yioXQJfK2xFOSxrAQE0tW+uL4D9OucK7XET0v0SLbOf7mSPA/pqsUQ/R978vaYzWUZUqwDtT6LzGbirAvodLjjs9OEByUMJM2x8lwJ30vvG1Z8q/ZCMQr+sXvD+7D0BqE0cdwA==\",\"dtype\":\"float64\",\"order\":\"little\",\"shape\":[41]}},\"selected\":{\"id\":\"2238\"},\"selection_policy\":{\"id\":\"2256\"}},\"id\":\"2237\",\"type\":\"ColumnDataSource\"},{\"attributes\":{\"source\":{\"id\":\"2261\"}},\"id\":\"2268\",\"type\":\"CDSView\"},{\"attributes\":{\"line_color\":\"#8b8b8b\",\"line_width\":2,\"x\":{\"field\":\"coin_id\"},\"y\":{\"field\":\"value\"}},\"id\":\"2314\",\"type\":\"Line\"},{\"attributes\":{},\"id\":\"2238\",\"type\":\"Selection\"},{\"attributes\":{\"active_multi\":null,\"tools\":[{\"id\":\"2152\"},{\"id\":\"2175\"},{\"id\":\"2176\"},{\"id\":\"2177\"},{\"id\":\"2178\"},{\"id\":\"2179\"}]},\"id\":\"2181\",\"type\":\"Toolbar\"},{\"attributes\":{\"data_source\":{\"id\":\"2237\"},\"glyph\":{\"id\":\"2240\"},\"hover_glyph\":null,\"muted_glyph\":{\"id\":\"2242\"},\"nonselection_glyph\":{\"id\":\"2241\"},\"selection_glyph\":{\"id\":\"2260\"},\"view\":{\"id\":\"2244\"}},\"id\":\"2243\",\"type\":\"GlyphRenderer\"},{\"attributes\":{},\"id\":\"2372\",\"type\":\"UnionRenderers\"},{\"attributes\":{\"line_alpha\":0.1,\"line_color\":\"#17becf\",\"line_width\":2,\"x\":{\"field\":\"coin_id\"},\"y\":{\"field\":\"value\"}},\"id\":\"2319\",\"type\":\"Line\"},{\"attributes\":{\"line_alpha\":0.1,\"line_color\":\"#e5ae38\",\"line_width\":2,\"x\":{\"field\":\"coin_id\"},\"y\":{\"field\":\"value\"}},\"id\":\"2241\",\"type\":\"Line\"},{\"attributes\":{\"source\":{\"id\":\"2345\"}},\"id\":\"2352\",\"type\":\"CDSView\"},{\"attributes\":{\"label\":{\"value\":\"price_change_percentage_30d\"},\"renderers\":[{\"id\":\"2267\"}]},\"id\":\"2285\",\"type\":\"LegendItem\"},{\"attributes\":{\"data_source\":{\"id\":\"2315\"},\"glyph\":{\"id\":\"2318\"},\"hover_glyph\":null,\"muted_glyph\":{\"id\":\"2320\"},\"nonselection_glyph\":{\"id\":\"2319\"},\"selection_glyph\":{\"id\":\"2344\"},\"view\":{\"id\":\"2322\"}},\"id\":\"2321\",\"type\":\"GlyphRenderer\"},{\"attributes\":{\"bottom_units\":\"screen\",\"fill_alpha\":0.5,\"fill_color\":\"lightgrey\",\"left_units\":\"screen\",\"level\":\"overlay\",\"line_alpha\":1.0,\"line_color\":\"black\",\"line_dash\":[4,4],\"line_width\":2,\"right_units\":\"screen\",\"syncable\":false,\"top_units\":\"screen\"},\"id\":\"2180\",\"type\":\"BoxAnnotation\"},{\"attributes\":{\"source\":{\"id\":\"2237\"}},\"id\":\"2244\",\"type\":\"CDSView\"},{\"attributes\":{},\"id\":\"2216\",\"type\":\"Selection\"},{\"attributes\":{\"line_alpha\":0.1,\"line_color\":\"#30a2da\",\"line_width\":2,\"x\":{\"field\":\"coin_id\"},\"y\":{\"field\":\"value\"}},\"id\":\"2198\",\"type\":\"Line\"},{\"attributes\":{\"line_alpha\":0.2,\"line_color\":\"#9467bd\",\"line_width\":2,\"x\":{\"field\":\"coin_id\"},\"y\":{\"field\":\"value\"}},\"id\":\"2350\",\"type\":\"Line\"},{\"attributes\":{\"data\":{\"Variable\":[\"price_change_percentage_7d\",\"price_change_percentage_7d\",\"price_change_percentage_7d\",\"price_change_percentage_7d\",\"price_change_percentage_7d\",\"price_change_percentage_7d\",\"price_change_percentage_7d\",\"price_change_percentage_7d\",\"price_change_percentage_7d\",\"price_change_percentage_7d\",\"price_change_percentage_7d\",\"price_change_percentage_7d\",\"price_change_percentage_7d\",\"price_change_percentage_7d\",\"price_change_percentage_7d\",\"price_change_percentage_7d\",\"price_change_percentage_7d\",\"price_change_percentage_7d\",\"price_change_percentage_7d\",\"price_change_percentage_7d\",\"price_change_percentage_7d\",\"price_change_percentage_7d\",\"price_change_percentage_7d\",\"price_change_percentage_7d\",\"price_change_percentage_7d\",\"price_change_percentage_7d\",\"price_change_percentage_7d\",\"price_change_percentage_7d\",\"price_change_percentage_7d\",\"price_change_percentage_7d\",\"price_change_percentage_7d\",\"price_change_percentage_7d\",\"price_change_percentage_7d\",\"price_change_percentage_7d\",\"price_change_percentage_7d\",\"price_change_percentage_7d\",\"price_change_percentage_7d\",\"price_change_percentage_7d\",\"price_change_percentage_7d\",\"price_change_percentage_7d\",\"price_change_percentage_7d\"],\"coin_id\":[\"bitcoin\",\"ethereum\",\"tether\",\"ripple\",\"bitcoin-cash\",\"binancecoin\",\"chainlink\",\"cardano\",\"litecoin\",\"bitcoin-cash-sv\",\"crypto-com-chain\",\"usd-coin\",\"eos\",\"monero\",\"tron\",\"tezos\",\"okb\",\"stellar\",\"cosmos\",\"cdai\",\"neo\",\"wrapped-bitcoin\",\"leo-token\",\"huobi-token\",\"nem\",\"binance-usd\",\"iota\",\"vechain\",\"zcash\",\"theta-token\",\"dash\",\"ethereum-classic\",\"ethlend\",\"maker\",\"havven\",\"omisego\",\"celsius-degree-token\",\"ontology\",\"ftx-token\",\"true-usd\",\"digibyte\"],\"value\":{\"__ndarray__\":\"RbsKKT9pHkAzUBn/PsMkQL99HThnRKk/yVnY0w5/47/+JhQi4BgxQBL3WPrQtSlA7yB2ptCxNEA/jBAebfwrQPFL/bypaBpArKjBNAxfCkByv0NRoK8WwPlJtU/HY76/lPsdigL99L+n6Egu/5EvQE1KQbeX9BBA0m9fB87pIUBlU67wLjcSwKbtX1lpkgBAZwqd19gVMEBcIEHxY8ytP3wnZr0YigNAOh4zUBmfHUD3Hi457pT1vzNQGf8+4/k/kQ96Nqs+6781Y9F0djKoP2dEaW/wRRhAgXhdv2A3/L/8GHPXErIkQP8JLlbUYBjAVU0QdR9gFEDRlnMprmoIQGCrBIvD2RBAAiuHFtlOIECbG9MTllgRQKhXyjLEURtAqn06HjNQ4z+UvDrHgGzzvwltOZfiahxAsD2zJEBNxT8yj/zBwHPlPw==\",\"dtype\":\"float64\",\"order\":\"little\",\"shape\":[41]}},\"selected\":{\"id\":\"2216\"},\"selection_policy\":{\"id\":\"2232\"}},\"id\":\"2215\",\"type\":\"ColumnDataSource\"},{\"attributes\":{\"data_source\":{\"id\":\"2287\"},\"glyph\":{\"id\":\"2290\"},\"hover_glyph\":null,\"muted_glyph\":{\"id\":\"2292\"},\"nonselection_glyph\":{\"id\":\"2291\"},\"selection_glyph\":{\"id\":\"2314\"},\"view\":{\"id\":\"2294\"}},\"id\":\"2293\",\"type\":\"GlyphRenderer\"},{\"attributes\":{\"line_color\":\"#9467bd\",\"line_width\":2,\"x\":{\"field\":\"coin_id\"},\"y\":{\"field\":\"value\"}},\"id\":\"2348\",\"type\":\"Line\"},{\"attributes\":{\"line_alpha\":0.1,\"line_color\":\"#8b8b8b\",\"line_width\":2,\"x\":{\"field\":\"coin_id\"},\"y\":{\"field\":\"value\"}},\"id\":\"2291\",\"type\":\"Line\"},{\"attributes\":{\"data\":{\"Variable\":[\"price_change_percentage_24h\",\"price_change_percentage_24h\",\"price_change_percentage_24h\",\"price_change_percentage_24h\",\"price_change_percentage_24h\",\"price_change_percentage_24h\",\"price_change_percentage_24h\",\"price_change_percentage_24h\",\"price_change_percentage_24h\",\"price_change_percentage_24h\",\"price_change_percentage_24h\",\"price_change_percentage_24h\",\"price_change_percentage_24h\",\"price_change_percentage_24h\",\"price_change_percentage_24h\",\"price_change_percentage_24h\",\"price_change_percentage_24h\",\"price_change_percentage_24h\",\"price_change_percentage_24h\",\"price_change_percentage_24h\",\"price_change_percentage_24h\",\"price_change_percentage_24h\",\"price_change_percentage_24h\",\"price_change_percentage_24h\",\"price_change_percentage_24h\",\"price_change_percentage_24h\",\"price_change_percentage_24h\",\"price_change_percentage_24h\",\"price_change_percentage_24h\",\"price_change_percentage_24h\",\"price_change_percentage_24h\",\"price_change_percentage_24h\",\"price_change_percentage_24h\",\"price_change_percentage_24h\",\"price_change_percentage_24h\",\"price_change_percentage_24h\",\"price_change_percentage_24h\",\"price_change_percentage_24h\",\"price_change_percentage_24h\",\"price_change_percentage_24h\",\"price_change_percentage_24h\"],\"coin_id\":[\"bitcoin\",\"ethereum\",\"tether\",\"ripple\",\"bitcoin-cash\",\"binancecoin\",\"chainlink\",\"cardano\",\"litecoin\",\"bitcoin-cash-sv\",\"crypto-com-chain\",\"usd-coin\",\"eos\",\"monero\",\"tron\",\"tezos\",\"okb\",\"stellar\",\"cosmos\",\"cdai\",\"neo\",\"wrapped-bitcoin\",\"leo-token\",\"huobi-token\",\"nem\",\"binance-usd\",\"iota\",\"vechain\",\"zcash\",\"theta-token\",\"dash\",\"ethereum-classic\",\"ethlend\",\"maker\",\"havven\",\"omisego\",\"celsius-degree-token\",\"ontology\",\"ftx-token\",\"true-usd\",\"digibyte\"],\"value\":{\"__ndarray__\":\"nZ0MjpJX8T8MzXUaaanMP5mByvj3Gcu/wCZr1EM02L8ep+hILj8HQL0Yyol21QBAwhcmUwWjzr//CS5W1GBqP7JGPUSjO7C/QKTfvg6c7T8urYbEPZbjPzeJQWDl0Ma/1pC4x9KHwj87NgLxun7bP90HILWJk7M/JjYf14aK5b83iUFg5dAFwG3i5H6HIvC/5nlwd9Zu7r9i83FtqBjLP+iHEcKjjd8/M9yAzw+j8T/fGtgqweLAv+RmuAGfH9q/UdobfGEy678D7KNTVz67v8YzaOif4No/teBFX0Ga9D8G2Eenrnzjvx+duvJZPhLAoMN8eQH28L+cxCCwcmjdv667eapDDivAX5hMFYxK479EUaBP5EkQwAZkr3d/XBNA0JuKVBgbBEDqBDQRNrz1vxo09E9wseo/tI6qJoi6r79qMA3DR8QHQA==\",\"dtype\":\"float64\",\"order\":\"little\",\"shape\":[41]}},\"selected\":{\"id\":\"2195\"},\"selection_policy\":{\"id\":\"2209\"}},\"id\":\"2194\",\"type\":\"ColumnDataSource\"},{\"attributes\":{\"source\":{\"id\":\"2215\"}},\"id\":\"2222\",\"type\":\"CDSView\"},{\"attributes\":{\"line_alpha\":0.2,\"line_color\":\"#6d904f\",\"line_width\":2,\"x\":{\"field\":\"coin_id\"},\"y\":{\"field\":\"value\"}},\"id\":\"2266\",\"type\":\"Line\"},{\"attributes\":{\"data\":{\"Variable\":[\"price_change_percentage_200d\",\"price_change_percentage_200d\",\"price_change_percentage_200d\",\"price_change_percentage_200d\",\"price_change_percentage_200d\",\"price_change_percentage_200d\",\"price_change_percentage_200d\",\"price_change_percentage_200d\",\"price_change_percentage_200d\",\"price_change_percentage_200d\",\"price_change_percentage_200d\",\"price_change_percentage_200d\",\"price_change_percentage_200d\",\"price_change_percentage_200d\",\"price_change_percentage_200d\",\"price_change_percentage_200d\",\"price_change_percentage_200d\",\"price_change_percentage_200d\",\"price_change_percentage_200d\",\"price_change_percentage_200d\",\"price_change_percentage_200d\",\"price_change_percentage_200d\",\"price_change_percentage_200d\",\"price_change_percentage_200d\",\"price_change_percentage_200d\",\"price_change_percentage_200d\",\"price_change_percentage_200d\",\"price_change_percentage_200d\",\"price_change_percentage_200d\",\"price_change_percentage_200d\",\"price_change_percentage_200d\",\"price_change_percentage_200d\",\"price_change_percentage_200d\",\"price_change_percentage_200d\",\"price_change_percentage_200d\",\"price_change_percentage_200d\",\"price_change_percentage_200d\",\"price_change_percentage_200d\",\"price_change_percentage_200d\",\"price_change_percentage_200d\",\"price_change_percentage_200d\"],\"coin_id\":[\"bitcoin\",\"ethereum\",\"tether\",\"ripple\",\"bitcoin-cash\",\"binancecoin\",\"chainlink\",\"cardano\",\"litecoin\",\"bitcoin-cash-sv\",\"crypto-com-chain\",\"usd-coin\",\"eos\",\"monero\",\"tron\",\"tezos\",\"okb\",\"stellar\",\"cosmos\",\"cdai\",\"neo\",\"wrapped-bitcoin\",\"leo-token\",\"huobi-token\",\"nem\",\"binance-usd\",\"iota\",\"vechain\",\"zcash\",\"theta-token\",\"dash\",\"ethereum-classic\",\"ethlend\",\"maker\",\"havven\",\"omisego\",\"celsius-degree-token\",\"ontology\",\"ftx-token\",\"true-usd\",\"digibyte\"],\"value\":{\"__ndarray__\":\"xY8xdy3hVED0piIVxlhnQBe86CtIM3a/9zsUBfrEQ0DTn/1IEak1QPTDCOHRc2NAl3MprqozeUAexM4UOohwQIB9dOrKfztAFhiyutWzHUCN7iB2plZsQIQqNXugFcS/ZHWr56QPMkALe9rhrzBlQH+8V61MnGBA5nlwd9a2RUARHm0csfpDQC+Lic3HJ1VAkj8YeO4/Z0AOvjCZKhjZv2vUQzS61GNAtRX7y+75VEC5GW7A52cwQAPso1NXHkVAKa4q+64Fa0A7NgLxun65P+TaUDHOwVdAyM1wAz7bcEAFwHgGDaNeQH3Qs1k1lYtAOUVHcvnvGEANGvonuMgkQCYZOQvbZ6FAGD4ipkSiVED5MeauZXeDQHi0ccQaSoJAC170FcTYmEB1PGagMmJLQC2yne+nvkxAndfYJaq3tr9R9wFIbSl+QA==\",\"dtype\":\"float64\",\"order\":\"little\",\"shape\":[41]}},\"selected\":{\"id\":\"2316\"},\"selection_policy\":{\"id\":\"2340\"}},\"id\":\"2315\",\"type\":\"ColumnDataSource\"},{\"attributes\":{\"label\":{\"value\":\"price_change_percentage_7d\"},\"renderers\":[{\"id\":\"2221\"}]},\"id\":\"2235\",\"type\":\"LegendItem\"},{\"attributes\":{\"factors\":[\"bitcoin\",\"ethereum\",\"tether\",\"ripple\",\"bitcoin-cash\",\"binancecoin\",\"chainlink\",\"cardano\",\"litecoin\",\"bitcoin-cash-sv\",\"crypto-com-chain\",\"usd-coin\",\"eos\",\"monero\",\"tron\",\"tezos\",\"okb\",\"stellar\",\"cosmos\",\"cdai\",\"neo\",\"wrapped-bitcoin\",\"leo-token\",\"huobi-token\",\"nem\",\"binance-usd\",\"iota\",\"vechain\",\"zcash\",\"theta-token\",\"dash\",\"ethereum-classic\",\"ethlend\",\"maker\",\"havven\",\"omisego\",\"celsius-degree-token\",\"ontology\",\"ftx-token\",\"true-usd\",\"digibyte\"],\"tags\":[[[\"coin_id\",\"coin_id\",null]]]},\"id\":\"2150\",\"type\":\"FactorRange\"},{\"attributes\":{\"line_alpha\":0.1,\"line_color\":\"#9467bd\",\"line_width\":2,\"x\":{\"field\":\"coin_id\"},\"y\":{\"field\":\"value\"}},\"id\":\"2349\",\"type\":\"Line\"},{\"attributes\":{\"data_source\":{\"id\":\"2194\"},\"glyph\":{\"id\":\"2197\"},\"hover_glyph\":null,\"muted_glyph\":{\"id\":\"2199\"},\"nonselection_glyph\":{\"id\":\"2198\"},\"selection_glyph\":{\"id\":\"2214\"},\"view\":{\"id\":\"2201\"}},\"id\":\"2200\",\"type\":\"GlyphRenderer\"},{\"attributes\":{\"line_color\":\"#30a2da\",\"line_width\":2,\"x\":{\"field\":\"coin_id\"},\"y\":{\"field\":\"value\"}},\"id\":\"2197\",\"type\":\"Line\"},{\"attributes\":{\"line_alpha\":0.1,\"line_color\":\"#fc4f30\",\"line_width\":2,\"x\":{\"field\":\"coin_id\"},\"y\":{\"field\":\"value\"}},\"id\":\"2219\",\"type\":\"Line\"},{\"attributes\":{\"label\":{\"value\":\"price_change_percentage_1y\"},\"renderers\":[{\"id\":\"2351\"}]},\"id\":\"2375\",\"type\":\"LegendItem\"},{\"attributes\":{\"axis_label\":\"coin_id\",\"formatter\":{\"id\":\"2190\"},\"major_label_orientation\":1.5707963267948966,\"major_label_policy\":{\"id\":\"2188\"},\"ticker\":{\"id\":\"2169\"}},\"id\":\"2168\",\"type\":\"CategoricalAxis\"},{\"attributes\":{\"source\":{\"id\":\"2194\"}},\"id\":\"2201\",\"type\":\"CDSView\"},{\"attributes\":{\"line_alpha\":0.2,\"line_color\":\"#17becf\",\"line_width\":2,\"x\":{\"field\":\"coin_id\"},\"y\":{\"field\":\"value\"}},\"id\":\"2320\",\"type\":\"Line\"},{\"attributes\":{\"margin\":[5,5,5,5],\"name\":\"HSpacer04182\",\"sizing_mode\":\"stretch_width\"},\"id\":\"2575\",\"type\":\"Spacer\"},{\"attributes\":{\"end\":8641.780918,\"reset_end\":8641.780918,\"reset_start\":-834.5136980000001,\"start\":-834.5136980000001,\"tags\":[[[\"value\",\"value\",null]]]},\"id\":\"2151\",\"type\":\"Range1d\"},{\"attributes\":{},\"id\":\"2346\",\"type\":\"Selection\"},{\"attributes\":{\"text_color\":\"black\",\"text_font_size\":\"12pt\"},\"id\":\"2160\",\"type\":\"Title\"},{\"attributes\":{\"line_color\":\"#6d904f\",\"line_width\":2,\"x\":{\"field\":\"coin_id\"},\"y\":{\"field\":\"value\"}},\"id\":\"2264\",\"type\":\"Line\"},{\"attributes\":{},\"id\":\"2340\",\"type\":\"UnionRenderers\"},{\"attributes\":{},\"id\":\"2209\",\"type\":\"UnionRenderers\"},{\"attributes\":{\"line_alpha\":0.2,\"line_color\":\"#e5ae38\",\"line_width\":2,\"x\":{\"field\":\"coin_id\"},\"y\":{\"field\":\"value\"}},\"id\":\"2242\",\"type\":\"Line\"},{\"attributes\":{\"source\":{\"id\":\"2287\"}},\"id\":\"2294\",\"type\":\"CDSView\"},{\"attributes\":{\"line_alpha\":0.2,\"line_color\":\"#30a2da\",\"line_width\":2,\"x\":{\"field\":\"coin_id\"},\"y\":{\"field\":\"value\"}},\"id\":\"2199\",\"type\":\"Line\"},{\"attributes\":{},\"id\":\"2191\",\"type\":\"AllLabels\"},{\"attributes\":{\"line_color\":\"#8b8b8b\",\"line_width\":2,\"x\":{\"field\":\"coin_id\"},\"y\":{\"field\":\"value\"}},\"id\":\"2290\",\"type\":\"Line\"},{\"attributes\":{},\"id\":\"2262\",\"type\":\"Selection\"},{\"attributes\":{},\"id\":\"2164\",\"type\":\"CategoricalScale\"},{\"attributes\":{},\"id\":\"2188\",\"type\":\"AllLabels\"},{\"attributes\":{},\"id\":\"2256\",\"type\":\"UnionRenderers\"},{\"attributes\":{},\"id\":\"2190\",\"type\":\"CategoricalTickFormatter\"},{\"attributes\":{\"line_alpha\":0.2,\"line_color\":\"#8b8b8b\",\"line_width\":2,\"x\":{\"field\":\"coin_id\"},\"y\":{\"field\":\"value\"}},\"id\":\"2292\",\"type\":\"Line\"},{\"attributes\":{\"line_alpha\":0.2,\"line_color\":\"#fc4f30\",\"line_width\":2,\"x\":{\"field\":\"coin_id\"},\"y\":{\"field\":\"value\"}},\"id\":\"2220\",\"type\":\"Line\"},{\"attributes\":{\"label\":{\"value\":\"price_change_percentage_200d\"},\"renderers\":[{\"id\":\"2321\"}]},\"id\":\"2343\",\"type\":\"LegendItem\"},{\"attributes\":{},\"id\":\"2310\",\"type\":\"UnionRenderers\"},{\"attributes\":{},\"id\":\"2288\",\"type\":\"Selection\"},{\"attributes\":{\"data_source\":{\"id\":\"2215\"},\"glyph\":{\"id\":\"2218\"},\"hover_glyph\":null,\"muted_glyph\":{\"id\":\"2220\"},\"nonselection_glyph\":{\"id\":\"2219\"},\"selection_glyph\":{\"id\":\"2236\"},\"view\":{\"id\":\"2222\"}},\"id\":\"2221\",\"type\":\"GlyphRenderer\"},{\"attributes\":{},\"id\":\"2166\",\"type\":\"LinearScale\"},{\"attributes\":{},\"id\":\"2232\",\"type\":\"UnionRenderers\"},{\"attributes\":{},\"id\":\"2169\",\"type\":\"CategoricalTicker\"}],\"root_ids\":[\"2148\"]},\"title\":\"Bokeh Application\",\"version\":\"2.3.2\"}};\n",
       "    var render_items = [{\"docid\":\"c44f0ea4-0846-4b17-96bd-638e94330002\",\"root_ids\":[\"2148\"],\"roots\":{\"2148\":\"c52e4a5d-434f-48ea-a945-d0b028724061\"}}];\n",
       "    root.Bokeh.embed.embed_items_notebook(docs_json, render_items);\n",
       "  }\n",
       "  if (root.Bokeh !== undefined && root.Bokeh.Panel !== undefined) {\n",
       "    embed_document(root);\n",
       "  } else {\n",
       "    var attempts = 0;\n",
       "    var timer = setInterval(function(root) {\n",
       "      if (root.Bokeh !== undefined && root.Bokeh.Panel !== undefined) {\n",
       "        clearInterval(timer);\n",
       "        embed_document(root);\n",
       "      } else if (document.readyState == \"complete\") {\n",
       "        attempts++;\n",
       "        if (attempts > 200) {\n",
       "          clearInterval(timer);\n",
       "          console.log(\"Bokeh: ERROR: Unable to run BokehJS code because BokehJS library is missing\");\n",
       "        }\n",
       "      }\n",
       "    }, 25, root)\n",
       "  }\n",
       "})(window);</script>"
      ],
      "text/plain": [
       ":NdOverlay   [Variable]\n",
       "   :Curve   [coin_id]   (value)"
      ]
     },
     "execution_count": 37,
     "metadata": {
      "application/vnd.holoviews_exec.v0+json": {
       "id": "2148"
      }
     },
     "output_type": "execute_result"
    }
   ],
   "source": [
    "# Plot your data to see what's in your DataFrame\n",
    "df_market_data.hvplot.line(\n",
    "    width=800,\n",
    "    height=400,\n",
    "    rot=90\n",
    ")"
   ]
  },
  {
   "cell_type": "markdown",
   "metadata": {},
   "source": [
    "---"
   ]
  },
  {
   "cell_type": "markdown",
   "metadata": {},
   "source": [
    "### Prepare the Data\n",
    "\n",
    "This section prepares the data before running the K-Means algorithm. It follows these steps:\n",
    "\n",
    "1. Use the `StandardScaler` module from scikit-learn to normalize the CSV file data. This will require you to utilize the `fit_transform` function.\n",
    "\n",
    "2. Create a DataFrame that contains the scaled data. Be sure to set the `coin_id` index from the original DataFrame as the index for the new DataFrame. Review the resulting DataFrame.\n"
   ]
  },
  {
   "cell_type": "code",
   "execution_count": 38,
   "metadata": {},
   "outputs": [],
   "source": [
    "# Use the `StandardScaler()` module from scikit-learn to normalize the data from the CSV file\n",
    "scaled_data = StandardScaler().fit_transform(df_market_data)"
   ]
  },
  {
   "cell_type": "code",
   "execution_count": 39,
   "metadata": {},
   "outputs": [
    {
     "data": {
      "text/html": [
       "<div>\n",
       "<style scoped>\n",
       "    .dataframe tbody tr th:only-of-type {\n",
       "        vertical-align: middle;\n",
       "    }\n",
       "\n",
       "    .dataframe tbody tr th {\n",
       "        vertical-align: top;\n",
       "    }\n",
       "\n",
       "    .dataframe thead th {\n",
       "        text-align: right;\n",
       "    }\n",
       "</style>\n",
       "<table border=\"1\" class=\"dataframe\">\n",
       "  <thead>\n",
       "    <tr style=\"text-align: right;\">\n",
       "      <th></th>\n",
       "      <th>price_change_percentage_24h</th>\n",
       "      <th>price_change_percentage_7d</th>\n",
       "      <th>price_change_percentage_14d</th>\n",
       "      <th>price_change_percentage_30d</th>\n",
       "      <th>price_change_percentage_60d</th>\n",
       "      <th>price_change_percentage_200d</th>\n",
       "      <th>price_change_percentage_1y</th>\n",
       "    </tr>\n",
       "    <tr>\n",
       "      <th>coin_id</th>\n",
       "      <th></th>\n",
       "      <th></th>\n",
       "      <th></th>\n",
       "      <th></th>\n",
       "      <th></th>\n",
       "      <th></th>\n",
       "      <th></th>\n",
       "    </tr>\n",
       "  </thead>\n",
       "  <tbody>\n",
       "    <tr>\n",
       "      <th>bitcoin</th>\n",
       "      <td>0.508529</td>\n",
       "      <td>0.493193</td>\n",
       "      <td>0.772200</td>\n",
       "      <td>0.235460</td>\n",
       "      <td>-0.067495</td>\n",
       "      <td>-0.355953</td>\n",
       "      <td>-0.251637</td>\n",
       "    </tr>\n",
       "    <tr>\n",
       "      <th>ethereum</th>\n",
       "      <td>0.185446</td>\n",
       "      <td>0.934445</td>\n",
       "      <td>0.558692</td>\n",
       "      <td>-0.054341</td>\n",
       "      <td>-0.273483</td>\n",
       "      <td>-0.115759</td>\n",
       "      <td>-0.199352</td>\n",
       "    </tr>\n",
       "    <tr>\n",
       "      <th>tether</th>\n",
       "      <td>0.021774</td>\n",
       "      <td>-0.706337</td>\n",
       "      <td>-0.021680</td>\n",
       "      <td>-0.061030</td>\n",
       "      <td>0.008005</td>\n",
       "      <td>-0.550247</td>\n",
       "      <td>-0.282061</td>\n",
       "    </tr>\n",
       "    <tr>\n",
       "      <th>ripple</th>\n",
       "      <td>-0.040764</td>\n",
       "      <td>-0.810928</td>\n",
       "      <td>0.249458</td>\n",
       "      <td>-0.050388</td>\n",
       "      <td>-0.373164</td>\n",
       "      <td>-0.458259</td>\n",
       "      <td>-0.295546</td>\n",
       "    </tr>\n",
       "    <tr>\n",
       "      <th>bitcoin-cash</th>\n",
       "      <td>1.193036</td>\n",
       "      <td>2.000959</td>\n",
       "      <td>1.760610</td>\n",
       "      <td>0.545842</td>\n",
       "      <td>-0.291203</td>\n",
       "      <td>-0.499848</td>\n",
       "      <td>-0.270317</td>\n",
       "    </tr>\n",
       "  </tbody>\n",
       "</table>\n",
       "</div>"
      ],
      "text/plain": [
       "              price_change_percentage_24h  price_change_percentage_7d  \\\n",
       "coin_id                                                                 \n",
       "bitcoin                          0.508529                    0.493193   \n",
       "ethereum                         0.185446                    0.934445   \n",
       "tether                           0.021774                   -0.706337   \n",
       "ripple                          -0.040764                   -0.810928   \n",
       "bitcoin-cash                     1.193036                    2.000959   \n",
       "\n",
       "              price_change_percentage_14d  price_change_percentage_30d  \\\n",
       "coin_id                                                                  \n",
       "bitcoin                          0.772200                     0.235460   \n",
       "ethereum                         0.558692                    -0.054341   \n",
       "tether                          -0.021680                    -0.061030   \n",
       "ripple                           0.249458                    -0.050388   \n",
       "bitcoin-cash                     1.760610                     0.545842   \n",
       "\n",
       "              price_change_percentage_60d  price_change_percentage_200d  \\\n",
       "coin_id                                                                   \n",
       "bitcoin                         -0.067495                     -0.355953   \n",
       "ethereum                        -0.273483                     -0.115759   \n",
       "tether                           0.008005                     -0.550247   \n",
       "ripple                          -0.373164                     -0.458259   \n",
       "bitcoin-cash                    -0.291203                     -0.499848   \n",
       "\n",
       "              price_change_percentage_1y  \n",
       "coin_id                                   \n",
       "bitcoin                        -0.251637  \n",
       "ethereum                       -0.199352  \n",
       "tether                         -0.282061  \n",
       "ripple                         -0.295546  \n",
       "bitcoin-cash                   -0.270317  "
      ]
     },
     "execution_count": 39,
     "metadata": {},
     "output_type": "execute_result"
    }
   ],
   "source": [
    "# Create a DataFrame with the scaled data\n",
    "df_market_data_scaled = pd.DataFrame(\n",
    "    scaled_data,\n",
    "    columns=df_market_data.columns\n",
    ")\n",
    "\n",
    "# Copy the crypto names from the original data\n",
    "df_market_data_scaled[\"coin_id\"] = df_market_data.index\n",
    "\n",
    "# Set the coinid column as index\n",
    "df_market_data_scaled = df_market_data_scaled.set_index(\"coin_id\")\n",
    "\n",
    "# Display sample data\n",
    "df_market_data_scaled.head()"
   ]
  },
  {
   "cell_type": "markdown",
   "metadata": {},
   "source": [
    "---"
   ]
  },
  {
   "cell_type": "markdown",
   "metadata": {},
   "source": [
    "### Find the Best Value for k Using the Original Data\n",
    "\n",
    "In this section, you will use the elbow method to find the best value for `k`.\n",
    "\n",
    "1. Code the elbow method algorithm to find the best value for `k`. Use a range from 1 to 11. \n",
    "\n",
    "2. Plot a line chart with all the inertia values computed with the different values of `k` to visually identify the optimal value for `k`.\n",
    "\n",
    "3. Answer the following question: What is the best value for `k`?"
   ]
  },
  {
   "cell_type": "code",
   "execution_count": 40,
   "metadata": {},
   "outputs": [],
   "source": [
    "# Create a list with the number of k-values to try\n",
    "# Use a range from 1 to 11\n",
    "k = list(range(1,11))"
   ]
  },
  {
   "cell_type": "code",
   "execution_count": 41,
   "metadata": {},
   "outputs": [],
   "source": [
    "# Create an empy list to store the inertia values\n",
    "inertia = []"
   ]
  },
  {
   "cell_type": "code",
   "execution_count": 42,
   "metadata": {},
   "outputs": [
    {
     "name": "stderr",
     "output_type": "stream",
     "text": [
      "C:\\Users\\16177\\anaconda3\\envs\\dev\\lib\\site-packages\\sklearn\\cluster\\_kmeans.py:882: UserWarning: KMeans is known to have a memory leak on Windows with MKL, when there are less chunks than available threads. You can avoid it by setting the environment variable OMP_NUM_THREADS=1.\n",
      "  f\"KMeans is known to have a memory leak on Windows \"\n"
     ]
    }
   ],
   "source": [
    "# Create a for loop to compute the inertia with each possible value of k\n",
    "# Inside the loop:\n",
    "# 1. Create a KMeans model using the loop counter for the n_clusters\n",
    "# 2. Fit the model to the data using `df_market_data_scaled`\n",
    "# 3. Append the model.inertia_ to the inertia list\n",
    "for i in k: \n",
    "    model = KMeans(n_clusters=i, random_state=0)\n",
    "    model.fit(df_market_data_scaled)\n",
    "    inertia.append(model.inertia_)"
   ]
  },
  {
   "cell_type": "code",
   "execution_count": 43,
   "metadata": {},
   "outputs": [],
   "source": [
    "# Create a dictionary with the data to plot the Elbow curve\n",
    "elbow_data = {\n",
    "    \"k\" : k, \n",
    "    \"inertia\" : inertia\n",
    "}\n",
    "\n",
    "# Create a DataFrame with the data to plot the Elbow curve\n",
    "df_elbow = pd.DataFrame(elbow_data)"
   ]
  },
  {
   "cell_type": "code",
   "execution_count": 44,
   "metadata": {},
   "outputs": [
    {
     "data": {},
     "metadata": {},
     "output_type": "display_data"
    },
    {
     "data": {
      "application/vnd.holoviews_exec.v0+json": "",
      "text/html": [
       "<div id='2687'>\n",
       "\n",
       "\n",
       "\n",
       "\n",
       "\n",
       "  <div class=\"bk-root\" id=\"8cfcd245-6a3d-456a-97c7-987d97594540\" data-root-id=\"2687\"></div>\n",
       "</div>\n",
       "<script type=\"application/javascript\">(function(root) {\n",
       "  function embed_document(root) {\n",
       "    var docs_json = {\"af67de7f-b648-4e0d-b0f2-ea5f88b13dd7\":{\"defs\":[{\"extends\":null,\"module\":null,\"name\":\"ReactiveHTML1\",\"overrides\":[],\"properties\":[]},{\"extends\":null,\"module\":null,\"name\":\"FlexBox1\",\"overrides\":[],\"properties\":[{\"default\":\"flex-start\",\"kind\":null,\"name\":\"align_content\"},{\"default\":\"flex-start\",\"kind\":null,\"name\":\"align_items\"},{\"default\":\"row\",\"kind\":null,\"name\":\"flex_direction\"},{\"default\":\"wrap\",\"kind\":null,\"name\":\"flex_wrap\"},{\"default\":\"flex-start\",\"kind\":null,\"name\":\"justify_content\"}]},{\"extends\":null,\"module\":null,\"name\":\"TemplateActions1\",\"overrides\":[],\"properties\":[{\"default\":0,\"kind\":null,\"name\":\"open_modal\"},{\"default\":0,\"kind\":null,\"name\":\"close_modal\"}]},{\"extends\":null,\"module\":null,\"name\":\"MaterialTemplateActions1\",\"overrides\":[],\"properties\":[{\"default\":0,\"kind\":null,\"name\":\"open_modal\"},{\"default\":0,\"kind\":null,\"name\":\"close_modal\"}]}],\"roots\":{\"references\":[{\"attributes\":{\"margin\":[5,5,5,5],\"name\":\"HSpacer05297\",\"sizing_mode\":\"stretch_width\"},\"id\":\"2688\",\"type\":\"Spacer\"},{\"attributes\":{},\"id\":\"2702\",\"type\":\"BasicTicker\"},{\"attributes\":{\"children\":[{\"id\":\"2688\"},{\"id\":\"2692\"},{\"id\":\"2757\"}],\"margin\":[0,0,0,0],\"name\":\"Row05293\",\"tags\":[\"embedded\"]},\"id\":\"2687\",\"type\":\"Row\"},{\"attributes\":{\"line_color\":\"#30a2da\",\"line_width\":2,\"x\":{\"field\":\"k\"},\"y\":{\"field\":\"inertia\"}},\"id\":\"2730\",\"type\":\"Line\"},{\"attributes\":{\"axis\":{\"id\":\"2701\"},\"grid_line_color\":null,\"ticker\":null},\"id\":\"2704\",\"type\":\"Grid\"},{\"attributes\":{\"axis_label\":\"inertia\",\"formatter\":{\"id\":\"2735\"},\"major_label_policy\":{\"id\":\"2734\"},\"ticker\":{\"id\":\"2706\"}},\"id\":\"2705\",\"type\":\"LinearAxis\"},{\"attributes\":{\"data\":{\"inertia\":{\"__ndarray__\":\"AAAAAADwcUByhzI6P3poQOGRvNowzF5AGe6ulG/BU0BoEQsuWlNQQOfqC/e6cUpAiSebkxT1RUBt++EeLsJCQMF0IF8cPkBAi3eL7Q85PEA=\",\"dtype\":\"float64\",\"order\":\"little\",\"shape\":[10]},\"k\":[1,2,3,4,5,6,7,8,9,10]},\"selected\":{\"id\":\"2723\"},\"selection_policy\":{\"id\":\"2744\"}},\"id\":\"2722\",\"type\":\"ColumnDataSource\"},{\"attributes\":{},\"id\":\"2723\",\"type\":\"Selection\"},{\"attributes\":{\"axis_label\":\"k\",\"formatter\":{\"id\":\"2732\"},\"major_label_policy\":{\"id\":\"2731\"},\"ticker\":{\"id\":\"2702\"}},\"id\":\"2701\",\"type\":\"LinearAxis\"},{\"attributes\":{\"below\":[{\"id\":\"2701\"}],\"center\":[{\"id\":\"2704\"},{\"id\":\"2708\"}],\"height\":300,\"left\":[{\"id\":\"2705\"}],\"margin\":[5,5,5,5],\"min_border_bottom\":10,\"min_border_left\":10,\"min_border_right\":10,\"min_border_top\":10,\"renderers\":[{\"id\":\"2728\"}],\"sizing_mode\":\"fixed\",\"title\":{\"id\":\"2693\"},\"toolbar\":{\"id\":\"2715\"},\"width\":700,\"x_range\":{\"id\":\"2689\"},\"x_scale\":{\"id\":\"2697\"},\"y_range\":{\"id\":\"2690\"},\"y_scale\":{\"id\":\"2699\"}},\"id\":\"2692\",\"subtype\":\"Figure\",\"type\":\"Plot\"},{\"attributes\":{\"active_multi\":null,\"tools\":[{\"id\":\"2691\"},{\"id\":\"2709\"},{\"id\":\"2710\"},{\"id\":\"2711\"},{\"id\":\"2712\"},{\"id\":\"2713\"}]},\"id\":\"2715\",\"type\":\"Toolbar\"},{\"attributes\":{},\"id\":\"2706\",\"type\":\"BasicTicker\"},{\"attributes\":{\"axis\":{\"id\":\"2705\"},\"dimension\":1,\"grid_line_color\":null,\"ticker\":null},\"id\":\"2708\",\"type\":\"Grid\"},{\"attributes\":{\"text\":\"elbow to find optimal k\",\"text_color\":\"black\",\"text_font_size\":\"12pt\"},\"id\":\"2693\",\"type\":\"Title\"},{\"attributes\":{\"data_source\":{\"id\":\"2722\"},\"glyph\":{\"id\":\"2725\"},\"hover_glyph\":null,\"muted_glyph\":{\"id\":\"2727\"},\"nonselection_glyph\":{\"id\":\"2726\"},\"selection_glyph\":{\"id\":\"2730\"},\"view\":{\"id\":\"2729\"}},\"id\":\"2728\",\"type\":\"GlyphRenderer\"},{\"attributes\":{\"end\":312.8777100709391,\"reset_end\":312.8777100709391,\"reset_start\":2.3451892196698267,\"start\":2.3451892196698267,\"tags\":[[[\"inertia\",\"inertia\",null]]]},\"id\":\"2690\",\"type\":\"Range1d\"},{\"attributes\":{\"end\":10.0,\"reset_end\":10.0,\"reset_start\":1.0,\"start\":1.0,\"tags\":[[[\"k\",\"k\",null]]]},\"id\":\"2689\",\"type\":\"Range1d\"},{\"attributes\":{\"bottom_units\":\"screen\",\"fill_alpha\":0.5,\"fill_color\":\"lightgrey\",\"left_units\":\"screen\",\"level\":\"overlay\",\"line_alpha\":1.0,\"line_color\":\"black\",\"line_dash\":[4,4],\"line_width\":2,\"right_units\":\"screen\",\"syncable\":false,\"top_units\":\"screen\"},\"id\":\"2714\",\"type\":\"BoxAnnotation\"},{\"attributes\":{\"source\":{\"id\":\"2722\"}},\"id\":\"2729\",\"type\":\"CDSView\"},{\"attributes\":{},\"id\":\"2744\",\"type\":\"UnionRenderers\"},{\"attributes\":{\"line_alpha\":0.2,\"line_color\":\"#30a2da\",\"line_width\":2,\"x\":{\"field\":\"k\"},\"y\":{\"field\":\"inertia\"}},\"id\":\"2727\",\"type\":\"Line\"},{\"attributes\":{},\"id\":\"2734\",\"type\":\"AllLabels\"},{\"attributes\":{},\"id\":\"2735\",\"type\":\"BasicTickFormatter\"},{\"attributes\":{},\"id\":\"2731\",\"type\":\"AllLabels\"},{\"attributes\":{},\"id\":\"2732\",\"type\":\"BasicTickFormatter\"},{\"attributes\":{},\"id\":\"2709\",\"type\":\"SaveTool\"},{\"attributes\":{},\"id\":\"2710\",\"type\":\"PanTool\"},{\"attributes\":{\"line_alpha\":0.1,\"line_color\":\"#30a2da\",\"line_width\":2,\"x\":{\"field\":\"k\"},\"y\":{\"field\":\"inertia\"}},\"id\":\"2726\",\"type\":\"Line\"},{\"attributes\":{\"callback\":null,\"renderers\":[{\"id\":\"2728\"}],\"tags\":[\"hv_created\"],\"tooltips\":[[\"k\",\"@{k}\"],[\"inertia\",\"@{inertia}\"]]},\"id\":\"2691\",\"type\":\"HoverTool\"},{\"attributes\":{},\"id\":\"2713\",\"type\":\"ResetTool\"},{\"attributes\":{\"margin\":[5,5,5,5],\"name\":\"HSpacer05298\",\"sizing_mode\":\"stretch_width\"},\"id\":\"2757\",\"type\":\"Spacer\"},{\"attributes\":{},\"id\":\"2711\",\"type\":\"WheelZoomTool\"},{\"attributes\":{},\"id\":\"2697\",\"type\":\"LinearScale\"},{\"attributes\":{\"overlay\":{\"id\":\"2714\"}},\"id\":\"2712\",\"type\":\"BoxZoomTool\"},{\"attributes\":{\"line_color\":\"#30a2da\",\"line_width\":2,\"x\":{\"field\":\"k\"},\"y\":{\"field\":\"inertia\"}},\"id\":\"2725\",\"type\":\"Line\"},{\"attributes\":{},\"id\":\"2699\",\"type\":\"LinearScale\"}],\"root_ids\":[\"2687\"]},\"title\":\"Bokeh Application\",\"version\":\"2.3.2\"}};\n",
       "    var render_items = [{\"docid\":\"af67de7f-b648-4e0d-b0f2-ea5f88b13dd7\",\"root_ids\":[\"2687\"],\"roots\":{\"2687\":\"8cfcd245-6a3d-456a-97c7-987d97594540\"}}];\n",
       "    root.Bokeh.embed.embed_items_notebook(docs_json, render_items);\n",
       "  }\n",
       "  if (root.Bokeh !== undefined && root.Bokeh.Panel !== undefined) {\n",
       "    embed_document(root);\n",
       "  } else {\n",
       "    var attempts = 0;\n",
       "    var timer = setInterval(function(root) {\n",
       "      if (root.Bokeh !== undefined && root.Bokeh.Panel !== undefined) {\n",
       "        clearInterval(timer);\n",
       "        embed_document(root);\n",
       "      } else if (document.readyState == \"complete\") {\n",
       "        attempts++;\n",
       "        if (attempts > 200) {\n",
       "          clearInterval(timer);\n",
       "          console.log(\"Bokeh: ERROR: Unable to run BokehJS code because BokehJS library is missing\");\n",
       "        }\n",
       "      }\n",
       "    }, 25, root)\n",
       "  }\n",
       "})(window);</script>"
      ],
      "text/plain": [
       ":Curve   [k]   (inertia)"
      ]
     },
     "execution_count": 44,
     "metadata": {
      "application/vnd.holoviews_exec.v0+json": {
       "id": "2687"
      }
     },
     "output_type": "execute_result"
    }
   ],
   "source": [
    "# Plot a line chart with all the inertia values computed with \n",
    "elbow = df_elbow.hvplot.line(\n",
    "    x=\"k\",\n",
    "    y=\"inertia\",\n",
    "    title=\"elbow to find optimal k\")\n",
    "elbow\n"
   ]
  },
  {
   "cell_type": "markdown",
   "metadata": {},
   "source": [
    "#### Answer the following question: What is the best value for k?\n",
    "**Question:** What is the best value for `k`?\n",
    "\n",
    "**Answer:** k = 4 is optimal"
   ]
  },
  {
   "cell_type": "markdown",
   "metadata": {},
   "source": [
    "---"
   ]
  },
  {
   "cell_type": "markdown",
   "metadata": {},
   "source": [
    "### Cluster Cryptocurrencies with K-means Using the Original Data\n",
    "\n",
    "In this section, you will use the K-Means algorithm with the best value for `k` found in the previous section to cluster the cryptocurrencies according to the price changes of cryptocurrencies provided.\n",
    "\n",
    "1. Initialize the K-Means model with four clusters using the best value for `k`. \n",
    "\n",
    "2. Fit the K-Means model using the original data.\n",
    "\n",
    "3. Predict the clusters to group the cryptocurrencies using the original data. View the resulting array of cluster values.\n",
    "\n",
    "4. Create a copy of the original data and add a new column with the predicted clusters.\n",
    "\n",
    "5. Create a scatter plot using hvPlot by setting `x=\"price_change_percentage_24h\"` and `y=\"price_change_percentage_7d\"`. Color the graph points with the labels found using K-Means and add the crypto name in the `hover_cols` parameter to identify the cryptocurrency represented by each data point."
   ]
  },
  {
   "cell_type": "code",
   "execution_count": 45,
   "metadata": {},
   "outputs": [],
   "source": [
    "# Initialize the K-Means model using the best value for k\n",
    "model = KMeans(n_clusters=4, random_state=0)"
   ]
  },
  {
   "cell_type": "code",
   "execution_count": 46,
   "metadata": {},
   "outputs": [
    {
     "data": {
      "text/plain": [
       "KMeans(n_clusters=4, random_state=0)"
      ]
     },
     "execution_count": 46,
     "metadata": {},
     "output_type": "execute_result"
    }
   ],
   "source": [
    "# Fit the K-Means model using the scaled data\n",
    "model.fit(df_market_data_scaled)"
   ]
  },
  {
   "cell_type": "code",
   "execution_count": 47,
   "metadata": {},
   "outputs": [
    {
     "data": {
      "text/plain": [
       "array([0, 0, 3, 3, 0, 0, 0, 0, 0, 3, 3, 3, 3, 0, 3, 0, 3, 3, 0, 3, 3, 0,\n",
       "       3, 3, 3, 3, 3, 3, 0, 3, 3, 3, 1, 0, 3, 3, 2, 3, 3, 3, 3])"
      ]
     },
     "execution_count": 47,
     "metadata": {},
     "output_type": "execute_result"
    }
   ],
   "source": [
    "# Predict the clusters to group the cryptocurrencies using the scaled data\n",
    "clusters_k4 = model.predict(df_market_data_scaled) \n",
    "\n",
    "# View the resulting array of cluster values.\n",
    "clusters_k4"
   ]
  },
  {
   "cell_type": "code",
   "execution_count": 48,
   "metadata": {},
   "outputs": [],
   "source": [
    "# Create a copy of the DataFrame\n",
    "df_market_data_scaled_k4 = df_market_data_scaled"
   ]
  },
  {
   "cell_type": "code",
   "execution_count": 49,
   "metadata": {},
   "outputs": [
    {
     "data": {
      "text/html": [
       "<div>\n",
       "<style scoped>\n",
       "    .dataframe tbody tr th:only-of-type {\n",
       "        vertical-align: middle;\n",
       "    }\n",
       "\n",
       "    .dataframe tbody tr th {\n",
       "        vertical-align: top;\n",
       "    }\n",
       "\n",
       "    .dataframe thead th {\n",
       "        text-align: right;\n",
       "    }\n",
       "</style>\n",
       "<table border=\"1\" class=\"dataframe\">\n",
       "  <thead>\n",
       "    <tr style=\"text-align: right;\">\n",
       "      <th></th>\n",
       "      <th>price_change_percentage_24h</th>\n",
       "      <th>price_change_percentage_7d</th>\n",
       "      <th>price_change_percentage_14d</th>\n",
       "      <th>price_change_percentage_30d</th>\n",
       "      <th>price_change_percentage_60d</th>\n",
       "      <th>price_change_percentage_200d</th>\n",
       "      <th>price_change_percentage_1y</th>\n",
       "      <th>clusters</th>\n",
       "    </tr>\n",
       "    <tr>\n",
       "      <th>coin_id</th>\n",
       "      <th></th>\n",
       "      <th></th>\n",
       "      <th></th>\n",
       "      <th></th>\n",
       "      <th></th>\n",
       "      <th></th>\n",
       "      <th></th>\n",
       "      <th></th>\n",
       "    </tr>\n",
       "  </thead>\n",
       "  <tbody>\n",
       "    <tr>\n",
       "      <th>bitcoin</th>\n",
       "      <td>0.508529</td>\n",
       "      <td>0.493193</td>\n",
       "      <td>0.772200</td>\n",
       "      <td>0.235460</td>\n",
       "      <td>-0.067495</td>\n",
       "      <td>-0.355953</td>\n",
       "      <td>-0.251637</td>\n",
       "      <td>0</td>\n",
       "    </tr>\n",
       "    <tr>\n",
       "      <th>ethereum</th>\n",
       "      <td>0.185446</td>\n",
       "      <td>0.934445</td>\n",
       "      <td>0.558692</td>\n",
       "      <td>-0.054341</td>\n",
       "      <td>-0.273483</td>\n",
       "      <td>-0.115759</td>\n",
       "      <td>-0.199352</td>\n",
       "      <td>0</td>\n",
       "    </tr>\n",
       "    <tr>\n",
       "      <th>tether</th>\n",
       "      <td>0.021774</td>\n",
       "      <td>-0.706337</td>\n",
       "      <td>-0.021680</td>\n",
       "      <td>-0.061030</td>\n",
       "      <td>0.008005</td>\n",
       "      <td>-0.550247</td>\n",
       "      <td>-0.282061</td>\n",
       "      <td>3</td>\n",
       "    </tr>\n",
       "    <tr>\n",
       "      <th>ripple</th>\n",
       "      <td>-0.040764</td>\n",
       "      <td>-0.810928</td>\n",
       "      <td>0.249458</td>\n",
       "      <td>-0.050388</td>\n",
       "      <td>-0.373164</td>\n",
       "      <td>-0.458259</td>\n",
       "      <td>-0.295546</td>\n",
       "      <td>3</td>\n",
       "    </tr>\n",
       "    <tr>\n",
       "      <th>bitcoin-cash</th>\n",
       "      <td>1.193036</td>\n",
       "      <td>2.000959</td>\n",
       "      <td>1.760610</td>\n",
       "      <td>0.545842</td>\n",
       "      <td>-0.291203</td>\n",
       "      <td>-0.499848</td>\n",
       "      <td>-0.270317</td>\n",
       "      <td>0</td>\n",
       "    </tr>\n",
       "  </tbody>\n",
       "</table>\n",
       "</div>"
      ],
      "text/plain": [
       "              price_change_percentage_24h  price_change_percentage_7d  \\\n",
       "coin_id                                                                 \n",
       "bitcoin                          0.508529                    0.493193   \n",
       "ethereum                         0.185446                    0.934445   \n",
       "tether                           0.021774                   -0.706337   \n",
       "ripple                          -0.040764                   -0.810928   \n",
       "bitcoin-cash                     1.193036                    2.000959   \n",
       "\n",
       "              price_change_percentage_14d  price_change_percentage_30d  \\\n",
       "coin_id                                                                  \n",
       "bitcoin                          0.772200                     0.235460   \n",
       "ethereum                         0.558692                    -0.054341   \n",
       "tether                          -0.021680                    -0.061030   \n",
       "ripple                           0.249458                    -0.050388   \n",
       "bitcoin-cash                     1.760610                     0.545842   \n",
       "\n",
       "              price_change_percentage_60d  price_change_percentage_200d  \\\n",
       "coin_id                                                                   \n",
       "bitcoin                         -0.067495                     -0.355953   \n",
       "ethereum                        -0.273483                     -0.115759   \n",
       "tether                           0.008005                     -0.550247   \n",
       "ripple                          -0.373164                     -0.458259   \n",
       "bitcoin-cash                    -0.291203                     -0.499848   \n",
       "\n",
       "              price_change_percentage_1y  clusters  \n",
       "coin_id                                             \n",
       "bitcoin                        -0.251637         0  \n",
       "ethereum                       -0.199352         0  \n",
       "tether                         -0.282061         3  \n",
       "ripple                         -0.295546         3  \n",
       "bitcoin-cash                   -0.270317         0  "
      ]
     },
     "metadata": {},
     "output_type": "display_data"
    }
   ],
   "source": [
    "# Add a new column to the DataFrame with the predicted clusters\n",
    "df_market_data_scaled_k4[\"clusters\"]=clusters_k4\n",
    "\n",
    "# Display sample data\n",
    "display(df_market_data_scaled_k4.head())"
   ]
  },
  {
   "cell_type": "code",
   "execution_count": 50,
   "metadata": {},
   "outputs": [
    {
     "data": {},
     "metadata": {},
     "output_type": "display_data"
    },
    {
     "data": {
      "application/vnd.holoviews_exec.v0+json": "",
      "text/html": [
       "<div id='2809'>\n",
       "\n",
       "\n",
       "\n",
       "\n",
       "\n",
       "  <div class=\"bk-root\" id=\"c3cc5edc-8785-4d3d-ac7b-ebabbaee80e5\" data-root-id=\"2809\"></div>\n",
       "</div>\n",
       "<script type=\"application/javascript\">(function(root) {\n",
       "  function embed_document(root) {\n",
       "    var docs_json = {\"d12e1a6d-b5cd-4a5b-89b0-6616d716b4ad\":{\"defs\":[{\"extends\":null,\"module\":null,\"name\":\"ReactiveHTML1\",\"overrides\":[],\"properties\":[]},{\"extends\":null,\"module\":null,\"name\":\"FlexBox1\",\"overrides\":[],\"properties\":[{\"default\":\"flex-start\",\"kind\":null,\"name\":\"align_content\"},{\"default\":\"flex-start\",\"kind\":null,\"name\":\"align_items\"},{\"default\":\"row\",\"kind\":null,\"name\":\"flex_direction\"},{\"default\":\"wrap\",\"kind\":null,\"name\":\"flex_wrap\"},{\"default\":\"flex-start\",\"kind\":null,\"name\":\"justify_content\"}]},{\"extends\":null,\"module\":null,\"name\":\"TemplateActions1\",\"overrides\":[],\"properties\":[{\"default\":0,\"kind\":null,\"name\":\"open_modal\"},{\"default\":0,\"kind\":null,\"name\":\"close_modal\"}]},{\"extends\":null,\"module\":null,\"name\":\"MaterialTemplateActions1\",\"overrides\":[],\"properties\":[{\"default\":0,\"kind\":null,\"name\":\"open_modal\"},{\"default\":0,\"kind\":null,\"name\":\"close_modal\"}]}],\"roots\":{\"references\":[{\"attributes\":{\"fill_alpha\":{\"value\":0.2},\"fill_color\":{\"value\":\"#e5ae38\"},\"line_alpha\":{\"value\":0.2},\"line_color\":{\"value\":\"#e5ae38\"},\"size\":{\"value\":5.477225575051661},\"x\":{\"field\":\"price_change_percentage_24h\"},\"y\":{\"field\":\"price_change_percentage_7d\"}},\"id\":\"2901\",\"type\":\"Scatter\"},{\"attributes\":{\"fill_alpha\":{\"value\":0.1},\"fill_color\":{\"value\":\"#6d904f\"},\"line_alpha\":{\"value\":0.1},\"line_color\":{\"value\":\"#6d904f\"},\"size\":{\"value\":5.477225575051661},\"x\":{\"field\":\"price_change_percentage_24h\"},\"y\":{\"field\":\"price_change_percentage_7d\"}},\"id\":\"2924\",\"type\":\"Scatter\"},{\"attributes\":{\"bottom_units\":\"screen\",\"fill_alpha\":0.5,\"fill_color\":\"lightgrey\",\"left_units\":\"screen\",\"level\":\"overlay\",\"line_alpha\":1.0,\"line_color\":\"black\",\"line_dash\":[4,4],\"line_width\":2,\"right_units\":\"screen\",\"syncable\":false,\"top_units\":\"screen\"},\"id\":\"2839\",\"type\":\"BoxAnnotation\"},{\"attributes\":{\"end\":2.997678656273595,\"reset_end\":2.997678656273595,\"reset_start\":-2.107454305728652,\"start\":-2.107454305728652,\"tags\":[[[\"price_change_percentage_7d\",\"price_change_percentage_7d\",null]]]},\"id\":\"2812\",\"type\":\"Range1d\"},{\"attributes\":{\"active_multi\":null,\"tools\":[{\"id\":\"2813\"},{\"id\":\"2834\"},{\"id\":\"2835\"},{\"id\":\"2836\"},{\"id\":\"2837\"},{\"id\":\"2838\"}]},\"id\":\"2840\",\"type\":\"Toolbar\"},{\"attributes\":{\"data\":{\"clusters\":[3,3,3,3,3,3,3,3,3,3,3,3,3,3,3,3,3,3,3,3,3,3,3,3,3,3],\"coin_id\":[\"tether\",\"ripple\",\"bitcoin-cash-sv\",\"crypto-com-chain\",\"usd-coin\",\"eos\",\"tron\",\"okb\",\"stellar\",\"cdai\",\"neo\",\"leo-token\",\"huobi-token\",\"nem\",\"binance-usd\",\"iota\",\"vechain\",\"theta-token\",\"dash\",\"ethereum-classic\",\"havven\",\"omisego\",\"ontology\",\"ftx-token\",\"true-usd\",\"digibyte\"],\"price_change_percentage_24h\":{\"__ndarray__\":\"mCJF1OlLlj/mJRG3Ed+kv1qZGRifu9w//rJXHrAz1T/yMTqenpahPx9kk3dK7sM/GTRehHalwD90fnl54Irtv9XPDahDw9G/+VOWQSEmxz+kpbukw1bSP6eM4M4OgKo/BcMOj9+jqr/Chq6S5ebLv2h3TIfCZ68/weEQ8QyV0D/KmZTmC7niP1YH9WGFy/m/N7JuVBEB07/EU4GAhEGyv8Ocf0hw2/a/lrPBJY23/j/IKcQzxy3av5WrmDyeito/Bf22eE/6sz9Y362Ir3rzPw==\",\"dtype\":\"float64\",\"order\":\"little\",\"shape\":[26]},\"price_change_percentage_7d\":{\"__ndarray__\":\"bZSIvk+a5r9RujxqH/Ppvw2U7adXaMi/d+r7VGbW+b9EGSx/8nTnv4rfBo4Lhe2/BEBwXEEApb8Udj8VbP/2vySelkVDp9i/7SZvVsyO5r8uu+JVH+LUvziN+gRMte2/o2qlez1D3b/CtPLKIS7rvyYjaswHnea/US6joeTvzz/dRmuCvtDvv/9TV66U6fq/ZWX+mWVCuD8GJ0pHuV/Nv8nIE2ZWH5q/TTxj/me11z+Htdvf1gXtv2Avihmzf9o/e31xtwIC5r/STlu6Y3Ljvw==\",\"dtype\":\"float64\",\"order\":\"little\",\"shape\":[26]}},\"selected\":{\"id\":\"2921\"},\"selection_policy\":{\"id\":\"2941\"}},\"id\":\"2920\",\"type\":\"ColumnDataSource\"},{\"attributes\":{},\"id\":\"2915\",\"type\":\"UnionRenderers\"},{\"attributes\":{\"margin\":[5,5,5,5],\"name\":\"HSpacer05552\",\"sizing_mode\":\"stretch_width\"},\"id\":\"2810\",\"type\":\"Spacer\"},{\"attributes\":{\"angle\":{\"value\":0.0},\"fill_alpha\":{\"value\":1.0},\"fill_color\":{\"value\":\"#fc4f30\"},\"hatch_alpha\":{\"value\":1.0},\"hatch_color\":{\"value\":\"black\"},\"hatch_scale\":{\"value\":12.0},\"hatch_weight\":{\"value\":1.0},\"line_alpha\":{\"value\":1.0},\"line_cap\":{\"value\":\"butt\"},\"line_color\":{\"value\":\"#fc4f30\"},\"line_dash\":{\"value\":[]},\"line_dash_offset\":{\"value\":0},\"line_join\":{\"value\":\"bevel\"},\"line_width\":{\"value\":1},\"marker\":{\"value\":\"circle\"},\"size\":{\"value\":5.477225575051661},\"x\":{\"field\":\"price_change_percentage_24h\"},\"y\":{\"field\":\"price_change_percentage_7d\"}},\"id\":\"2895\",\"type\":\"Scatter\"},{\"attributes\":{},\"id\":\"2851\",\"type\":\"BasicTickFormatter\"},{\"attributes\":{\"children\":[{\"id\":\"2810\"},{\"id\":\"2817\"},{\"id\":\"3090\"}],\"margin\":[0,0,0,0],\"name\":\"Row05548\",\"tags\":[\"embedded\"]},\"id\":\"2809\",\"type\":\"Row\"},{\"attributes\":{\"source\":{\"id\":\"2896\"}},\"id\":\"2903\",\"type\":\"CDSView\"},{\"attributes\":{\"fill_color\":{\"value\":\"#e5ae38\"},\"line_color\":{\"value\":\"#e5ae38\"},\"size\":{\"value\":5.477225575051661},\"x\":{\"field\":\"price_change_percentage_24h\"},\"y\":{\"field\":\"price_change_percentage_7d\"}},\"id\":\"2899\",\"type\":\"Scatter\"},{\"attributes\":{\"fill_color\":{\"value\":\"#6d904f\"},\"line_color\":{\"value\":\"#6d904f\"},\"size\":{\"value\":5.477225575051661},\"x\":{\"field\":\"price_change_percentage_24h\"},\"y\":{\"field\":\"price_change_percentage_7d\"}},\"id\":\"2923\",\"type\":\"Scatter\"},{\"attributes\":{\"text\":\"Coin % change scatterplot - 24 hours vs. 7 days\",\"text_color\":\"black\",\"text_font_size\":\"12pt\"},\"id\":\"2818\",\"type\":\"Title\"},{\"attributes\":{\"fill_alpha\":{\"value\":0.2},\"fill_color\":{\"value\":\"#6d904f\"},\"line_alpha\":{\"value\":0.2},\"line_color\":{\"value\":\"#6d904f\"},\"size\":{\"value\":5.477225575051661},\"x\":{\"field\":\"price_change_percentage_24h\"},\"y\":{\"field\":\"price_change_percentage_7d\"}},\"id\":\"2925\",\"type\":\"Scatter\"},{\"attributes\":{\"label\":{\"value\":\"3\"},\"renderers\":[{\"id\":\"2926\"}]},\"id\":\"2944\",\"type\":\"LegendItem\"},{\"attributes\":{\"axis\":{\"id\":\"2826\"},\"grid_line_color\":null,\"ticker\":null},\"id\":\"2829\",\"type\":\"Grid\"},{\"attributes\":{\"label\":{\"value\":\"2\"},\"renderers\":[{\"id\":\"2902\"}]},\"id\":\"2918\",\"type\":\"LegendItem\"},{\"attributes\":{},\"id\":\"2822\",\"type\":\"LinearScale\"},{\"attributes\":{\"angle\":{\"value\":0.0},\"fill_alpha\":{\"value\":1.0},\"fill_color\":{\"value\":\"#e5ae38\"},\"hatch_alpha\":{\"value\":1.0},\"hatch_color\":{\"value\":\"black\"},\"hatch_scale\":{\"value\":12.0},\"hatch_weight\":{\"value\":1.0},\"line_alpha\":{\"value\":1.0},\"line_cap\":{\"value\":\"butt\"},\"line_color\":{\"value\":\"#e5ae38\"},\"line_dash\":{\"value\":[]},\"line_dash_offset\":{\"value\":0},\"line_join\":{\"value\":\"bevel\"},\"line_width\":{\"value\":1},\"marker\":{\"value\":\"circle\"},\"size\":{\"value\":5.477225575051661},\"x\":{\"field\":\"price_change_percentage_24h\"},\"y\":{\"field\":\"price_change_percentage_7d\"}},\"id\":\"2919\",\"type\":\"Scatter\"},{\"attributes\":{},\"id\":\"2827\",\"type\":\"BasicTicker\"},{\"attributes\":{},\"id\":\"2875\",\"type\":\"Selection\"},{\"attributes\":{\"data_source\":{\"id\":\"2896\"},\"glyph\":{\"id\":\"2899\"},\"hover_glyph\":null,\"muted_glyph\":{\"id\":\"2901\"},\"nonselection_glyph\":{\"id\":\"2900\"},\"selection_glyph\":{\"id\":\"2919\"},\"view\":{\"id\":\"2903\"}},\"id\":\"2902\",\"type\":\"GlyphRenderer\"},{\"attributes\":{},\"id\":\"2824\",\"type\":\"LinearScale\"},{\"attributes\":{\"axis_label\":\"price_change_percentage_7d\",\"formatter\":{\"id\":\"2851\"},\"major_label_policy\":{\"id\":\"2850\"},\"ticker\":{\"id\":\"2831\"}},\"id\":\"2830\",\"type\":\"LinearAxis\"},{\"attributes\":{\"fill_alpha\":{\"value\":0.2},\"fill_color\":{\"value\":\"#fc4f30\"},\"line_alpha\":{\"value\":0.2},\"line_color\":{\"value\":\"#fc4f30\"},\"size\":{\"value\":5.477225575051661},\"x\":{\"field\":\"price_change_percentage_24h\"},\"y\":{\"field\":\"price_change_percentage_7d\"}},\"id\":\"2879\",\"type\":\"Scatter\"},{\"attributes\":{\"axis_label\":\"price_change_percentage_24h\",\"formatter\":{\"id\":\"2848\"},\"major_label_policy\":{\"id\":\"2847\"},\"ticker\":{\"id\":\"2827\"}},\"id\":\"2826\",\"type\":\"LinearAxis\"},{\"attributes\":{\"source\":{\"id\":\"2920\"}},\"id\":\"2927\",\"type\":\"CDSView\"},{\"attributes\":{},\"id\":\"2831\",\"type\":\"BasicTicker\"},{\"attributes\":{},\"id\":\"2941\",\"type\":\"UnionRenderers\"},{\"attributes\":{\"fill_alpha\":{\"value\":0.1},\"fill_color\":{\"value\":\"#e5ae38\"},\"line_alpha\":{\"value\":0.1},\"line_color\":{\"value\":\"#e5ae38\"},\"size\":{\"value\":5.477225575051661},\"x\":{\"field\":\"price_change_percentage_24h\"},\"y\":{\"field\":\"price_change_percentage_7d\"}},\"id\":\"2900\",\"type\":\"Scatter\"},{\"attributes\":{\"angle\":{\"value\":0.0},\"fill_alpha\":{\"value\":1.0},\"fill_color\":{\"value\":\"#6d904f\"},\"hatch_alpha\":{\"value\":1.0},\"hatch_color\":{\"value\":\"black\"},\"hatch_scale\":{\"value\":12.0},\"hatch_weight\":{\"value\":1.0},\"line_alpha\":{\"value\":1.0},\"line_cap\":{\"value\":\"butt\"},\"line_color\":{\"value\":\"#6d904f\"},\"line_dash\":{\"value\":[]},\"line_dash_offset\":{\"value\":0},\"line_join\":{\"value\":\"bevel\"},\"line_width\":{\"value\":1},\"marker\":{\"value\":\"circle\"},\"size\":{\"value\":5.477225575051661},\"x\":{\"field\":\"price_change_percentage_24h\"},\"y\":{\"field\":\"price_change_percentage_7d\"}},\"id\":\"2945\",\"type\":\"Scatter\"},{\"attributes\":{\"axis\":{\"id\":\"2830\"},\"dimension\":1,\"grid_line_color\":null,\"ticker\":null},\"id\":\"2833\",\"type\":\"Grid\"},{\"attributes\":{\"fill_color\":{\"value\":\"#30a2da\"},\"line_color\":{\"value\":\"#30a2da\"},\"size\":{\"value\":5.477225575051661},\"x\":{\"field\":\"price_change_percentage_24h\"},\"y\":{\"field\":\"price_change_percentage_7d\"}},\"id\":\"2856\",\"type\":\"Scatter\"},{\"attributes\":{\"fill_alpha\":{\"value\":0.1},\"fill_color\":{\"value\":\"#30a2da\"},\"line_alpha\":{\"value\":0.1},\"line_color\":{\"value\":\"#30a2da\"},\"size\":{\"value\":5.477225575051661},\"x\":{\"field\":\"price_change_percentage_24h\"},\"y\":{\"field\":\"price_change_percentage_7d\"}},\"id\":\"2857\",\"type\":\"Scatter\"},{\"attributes\":{\"data\":{\"clusters\":[0,0,0,0,0,0,0,0,0,0,0,0,0],\"coin_id\":[\"bitcoin\",\"ethereum\",\"bitcoin-cash\",\"binancecoin\",\"chainlink\",\"cardano\",\"litecoin\",\"monero\",\"tezos\",\"cosmos\",\"wrapped-bitcoin\",\"zcash\",\"maker\"],\"price_change_percentage_24h\":{\"__ndarray__\":\"DdlqYN9F4D86azDosLzHPzALIwCtFvM/9w6McDSK7D/VDHOpb1eHPzMEvaFkP7o/Sds39trWsz9Epj8/c9DQP4xAeNEVZ8O/qq8st/Fh0L8FWWk3mH7gP6wo083aUMC//ACFOIMFwL8=\",\"dtype\":\"float64\",\"order\":\"little\",\"shape\":[13]},\"price_change_percentage_7d\":{\"__ndarray__\":\"U1k8q3mQ3z9yoPpI+ebtPzAB2dP2AQBAgmkOMZk89T8FNulI+JMEQCZRaSLGIPg/84wjaB1l1T8rMp3jf678P2VmURqKqeY/XK6ZksNx/T9DfMqy1o7dPyTPDB1Xu+0/srW7TleV4j8=\",\"dtype\":\"float64\",\"order\":\"little\",\"shape\":[13]}},\"selected\":{\"id\":\"2854\"},\"selection_policy\":{\"id\":\"2868\"}},\"id\":\"2853\",\"type\":\"ColumnDataSource\"},{\"attributes\":{\"end\":2.2155632386560065,\"reset_end\":2.2155632386560065,\"reset_start\":-5.276792781891412,\"start\":-5.276792781891412,\"tags\":[[[\"price_change_percentage_24h\",\"price_change_percentage_24h\",null]]]},\"id\":\"2811\",\"type\":\"Range1d\"},{\"attributes\":{},\"id\":\"2854\",\"type\":\"Selection\"},{\"attributes\":{\"data_source\":{\"id\":\"2920\"},\"glyph\":{\"id\":\"2923\"},\"hover_glyph\":null,\"muted_glyph\":{\"id\":\"2925\"},\"nonselection_glyph\":{\"id\":\"2924\"},\"selection_glyph\":{\"id\":\"2945\"},\"view\":{\"id\":\"2927\"}},\"id\":\"2926\",\"type\":\"GlyphRenderer\"},{\"attributes\":{\"below\":[{\"id\":\"2826\"}],\"center\":[{\"id\":\"2829\"},{\"id\":\"2833\"}],\"height\":300,\"left\":[{\"id\":\"2830\"}],\"margin\":[5,5,5,5],\"min_border_bottom\":10,\"min_border_left\":10,\"min_border_right\":10,\"min_border_top\":10,\"renderers\":[{\"id\":\"2859\"},{\"id\":\"2880\"},{\"id\":\"2902\"},{\"id\":\"2926\"}],\"right\":[{\"id\":\"2871\"}],\"sizing_mode\":\"fixed\",\"title\":{\"id\":\"2818\"},\"toolbar\":{\"id\":\"2840\"},\"width\":700,\"x_range\":{\"id\":\"2811\"},\"x_scale\":{\"id\":\"2822\"},\"y_range\":{\"id\":\"2812\"},\"y_scale\":{\"id\":\"2824\"}},\"id\":\"2817\",\"subtype\":\"Figure\",\"type\":\"Plot\"},{\"attributes\":{\"angle\":{\"value\":0.0},\"fill_alpha\":{\"value\":1.0},\"fill_color\":{\"value\":\"#30a2da\"},\"hatch_alpha\":{\"value\":1.0},\"hatch_color\":{\"value\":\"black\"},\"hatch_scale\":{\"value\":12.0},\"hatch_weight\":{\"value\":1.0},\"line_alpha\":{\"value\":1.0},\"line_cap\":{\"value\":\"butt\"},\"line_color\":{\"value\":\"#30a2da\"},\"line_dash\":{\"value\":[]},\"line_dash_offset\":{\"value\":0},\"line_join\":{\"value\":\"bevel\"},\"line_width\":{\"value\":1},\"marker\":{\"value\":\"circle\"},\"size\":{\"value\":5.477225575051661},\"x\":{\"field\":\"price_change_percentage_24h\"},\"y\":{\"field\":\"price_change_percentage_7d\"}},\"id\":\"2873\",\"type\":\"Scatter\"},{\"attributes\":{},\"id\":\"2834\",\"type\":\"SaveTool\"},{\"attributes\":{},\"id\":\"2835\",\"type\":\"PanTool\"},{\"attributes\":{},\"id\":\"2838\",\"type\":\"ResetTool\"},{\"attributes\":{},\"id\":\"2836\",\"type\":\"WheelZoomTool\"},{\"attributes\":{\"data\":{\"clusters\":[2],\"coin_id\":[\"celsius-degree-token\"],\"price_change_percentage_24h\":{\"__ndarray__\":\"VLqXBn668D8=\",\"dtype\":\"float64\",\"order\":\"little\",\"shape\":[1]},\"price_change_percentage_7d\":{\"__ndarray__\":\"Nv03JFjJ478=\",\"dtype\":\"float64\",\"order\":\"little\",\"shape\":[1]}},\"selected\":{\"id\":\"2897\"},\"selection_policy\":{\"id\":\"2915\"}},\"id\":\"2896\",\"type\":\"ColumnDataSource\"},{\"attributes\":{\"overlay\":{\"id\":\"2839\"}},\"id\":\"2837\",\"type\":\"BoxZoomTool\"},{\"attributes\":{\"fill_color\":{\"value\":\"#fc4f30\"},\"line_color\":{\"value\":\"#fc4f30\"},\"size\":{\"value\":5.477225575051661},\"x\":{\"field\":\"price_change_percentage_24h\"},\"y\":{\"field\":\"price_change_percentage_7d\"}},\"id\":\"2877\",\"type\":\"Scatter\"},{\"attributes\":{\"data_source\":{\"id\":\"2853\"},\"glyph\":{\"id\":\"2856\"},\"hover_glyph\":null,\"muted_glyph\":{\"id\":\"2858\"},\"nonselection_glyph\":{\"id\":\"2857\"},\"selection_glyph\":{\"id\":\"2873\"},\"view\":{\"id\":\"2860\"}},\"id\":\"2859\",\"type\":\"GlyphRenderer\"},{\"attributes\":{\"click_policy\":\"mute\",\"items\":[{\"id\":\"2872\"},{\"id\":\"2894\"},{\"id\":\"2918\"},{\"id\":\"2944\"}],\"location\":[0,0],\"title\":\"clusters\"},\"id\":\"2871\",\"type\":\"Legend\"},{\"attributes\":{},\"id\":\"2847\",\"type\":\"AllLabels\"},{\"attributes\":{\"fill_alpha\":{\"value\":0.2},\"fill_color\":{\"value\":\"#30a2da\"},\"line_alpha\":{\"value\":0.2},\"line_color\":{\"value\":\"#30a2da\"},\"size\":{\"value\":5.477225575051661},\"x\":{\"field\":\"price_change_percentage_24h\"},\"y\":{\"field\":\"price_change_percentage_7d\"}},\"id\":\"2858\",\"type\":\"Scatter\"},{\"attributes\":{\"margin\":[5,5,5,5],\"name\":\"HSpacer05553\",\"sizing_mode\":\"stretch_width\"},\"id\":\"3090\",\"type\":\"Spacer\"},{\"attributes\":{},\"id\":\"2850\",\"type\":\"AllLabels\"},{\"attributes\":{\"data_source\":{\"id\":\"2874\"},\"glyph\":{\"id\":\"2877\"},\"hover_glyph\":null,\"muted_glyph\":{\"id\":\"2879\"},\"nonselection_glyph\":{\"id\":\"2878\"},\"selection_glyph\":{\"id\":\"2895\"},\"view\":{\"id\":\"2881\"}},\"id\":\"2880\",\"type\":\"GlyphRenderer\"},{\"attributes\":{},\"id\":\"2921\",\"type\":\"Selection\"},{\"attributes\":{},\"id\":\"2868\",\"type\":\"UnionRenderers\"},{\"attributes\":{},\"id\":\"2848\",\"type\":\"BasicTickFormatter\"},{\"attributes\":{\"callback\":null,\"renderers\":[{\"id\":\"2859\"},{\"id\":\"2880\"},{\"id\":\"2902\"},{\"id\":\"2926\"}],\"tags\":[\"hv_created\"],\"tooltips\":[[\"clusters\",\"@{clusters}\"],[\"price_change_percentage_24h\",\"@{price_change_percentage_24h}\"],[\"price_change_percentage_7d\",\"@{price_change_percentage_7d}\"],[\"coin_id\",\"@{coin_id}\"]]},\"id\":\"2813\",\"type\":\"HoverTool\"},{\"attributes\":{\"source\":{\"id\":\"2853\"}},\"id\":\"2860\",\"type\":\"CDSView\"},{\"attributes\":{\"fill_alpha\":{\"value\":0.1},\"fill_color\":{\"value\":\"#fc4f30\"},\"line_alpha\":{\"value\":0.1},\"line_color\":{\"value\":\"#fc4f30\"},\"size\":{\"value\":5.477225575051661},\"x\":{\"field\":\"price_change_percentage_24h\"},\"y\":{\"field\":\"price_change_percentage_7d\"}},\"id\":\"2878\",\"type\":\"Scatter\"},{\"attributes\":{\"data\":{\"clusters\":[1],\"coin_id\":[\"ethlend\"],\"price_change_percentage_24h\":{\"__ndarray__\":\"3WeHPpbsE8A=\",\"dtype\":\"float64\",\"order\":\"little\",\"shape\":[1]},\"price_change_percentage_7d\":{\"__ndarray__\":\"dIWi2pshp78=\",\"dtype\":\"float64\",\"order\":\"little\",\"shape\":[1]}},\"selected\":{\"id\":\"2875\"},\"selection_policy\":{\"id\":\"2891\"}},\"id\":\"2874\",\"type\":\"ColumnDataSource\"},{\"attributes\":{},\"id\":\"2897\",\"type\":\"Selection\"},{\"attributes\":{\"label\":{\"value\":\"0\"},\"renderers\":[{\"id\":\"2859\"}]},\"id\":\"2872\",\"type\":\"LegendItem\"},{\"attributes\":{},\"id\":\"2891\",\"type\":\"UnionRenderers\"},{\"attributes\":{\"label\":{\"value\":\"1\"},\"renderers\":[{\"id\":\"2880\"}]},\"id\":\"2894\",\"type\":\"LegendItem\"},{\"attributes\":{\"source\":{\"id\":\"2874\"}},\"id\":\"2881\",\"type\":\"CDSView\"}],\"root_ids\":[\"2809\"]},\"title\":\"Bokeh Application\",\"version\":\"2.3.2\"}};\n",
       "    var render_items = [{\"docid\":\"d12e1a6d-b5cd-4a5b-89b0-6616d716b4ad\",\"root_ids\":[\"2809\"],\"roots\":{\"2809\":\"c3cc5edc-8785-4d3d-ac7b-ebabbaee80e5\"}}];\n",
       "    root.Bokeh.embed.embed_items_notebook(docs_json, render_items);\n",
       "  }\n",
       "  if (root.Bokeh !== undefined && root.Bokeh.Panel !== undefined) {\n",
       "    embed_document(root);\n",
       "  } else {\n",
       "    var attempts = 0;\n",
       "    var timer = setInterval(function(root) {\n",
       "      if (root.Bokeh !== undefined && root.Bokeh.Panel !== undefined) {\n",
       "        clearInterval(timer);\n",
       "        embed_document(root);\n",
       "      } else if (document.readyState == \"complete\") {\n",
       "        attempts++;\n",
       "        if (attempts > 200) {\n",
       "          clearInterval(timer);\n",
       "          console.log(\"Bokeh: ERROR: Unable to run BokehJS code because BokehJS library is missing\");\n",
       "        }\n",
       "      }\n",
       "    }, 25, root)\n",
       "  }\n",
       "})(window);</script>"
      ],
      "text/plain": [
       ":NdOverlay   [clusters]\n",
       "   :Scatter   [price_change_percentage_24h]   (price_change_percentage_7d,coin_id)"
      ]
     },
     "execution_count": 50,
     "metadata": {
      "application/vnd.holoviews_exec.v0+json": {
       "id": "2809"
      }
     },
     "output_type": "execute_result"
    }
   ],
   "source": [
    "# Create a scatter plot using hvPlot by setting \n",
    "# `x=\"price_change_percentage_24h\"` and `y=\"price_change_percentage_7d\"`. \n",
    "# Color the graph points with the labels found using K-Means and \n",
    "# add the crypto name in the `hover_cols` parameter to identify \n",
    "# the cryptocurrency represented by each data point.\n",
    "cluster = df_market_data_scaled_k4.hvplot.scatter(\n",
    "    x=\"price_change_percentage_24h\",\n",
    "    y=\"price_change_percentage_7d\",\n",
    "    by=\"clusters\",\n",
    "    hover_cols=\"coin_id\",\n",
    "    title=\"Coin % change scatterplot - 24 hours vs. 7 days\"\n",
    ")\n",
    "cluster"
   ]
  },
  {
   "cell_type": "markdown",
   "metadata": {},
   "source": [
    "---"
   ]
  },
  {
   "cell_type": "markdown",
   "metadata": {},
   "source": [
    "### Optimize Clusters with Principal Component Analysis\n",
    "\n",
    "In this section, you will perform a principal component analysis (PCA) and reduce the features to three principal components.\n",
    "\n",
    "1. Create a PCA model instance and set `n_components=3`.\n",
    "\n",
    "2. Use the PCA model to reduce to three principal components. View the first five rows of the DataFrame. \n",
    "\n",
    "3. Retrieve the explained variance to determine how much information can be attributed to each principal component.\n",
    "\n",
    "4. Answer the following question: What is the total explained variance of the three principal components?\n",
    "\n",
    "5. Create a new DataFrame with the PCA data. Be sure to set the `coin_id` index from the original DataFrame as the index for the new DataFrame. Review the resulting DataFrame."
   ]
  },
  {
   "cell_type": "code",
   "execution_count": 51,
   "metadata": {},
   "outputs": [],
   "source": [
    "# Create a PCA model instance and set `n_components=3`.\n",
    "pca = PCA(n_components=3)"
   ]
  },
  {
   "cell_type": "code",
   "execution_count": 52,
   "metadata": {},
   "outputs": [
    {
     "data": {
      "text/plain": [
       "array([[ 2.03409288, -0.64157137, -0.35762863],\n",
       "       [ 1.99450168, -0.49054937, -0.91224962],\n",
       "       [-1.06854412, -0.41720452,  0.5963108 ],\n",
       "       [-1.04091865, -0.45523427,  0.4678008 ],\n",
       "       [ 3.30276384, -1.24245766, -0.217276  ]])"
      ]
     },
     "execution_count": 52,
     "metadata": {},
     "output_type": "execute_result"
    }
   ],
   "source": [
    "# Use the PCA model with `fit_transform` to reduce to \n",
    "# three principal components.\n",
    "pca_data= pca.fit_transform(df_market_data_scaled)\n",
    "\n",
    "# View the first five rows of the DataFrame. \n",
    "pca_data[:5]"
   ]
  },
  {
   "cell_type": "code",
   "execution_count": 53,
   "metadata": {},
   "outputs": [
    {
     "data": {
      "text/plain": [
       "array([0.36941241, 0.29169375, 0.22893878])"
      ]
     },
     "execution_count": 53,
     "metadata": {},
     "output_type": "execute_result"
    }
   ],
   "source": [
    "# Retrieve the explained variance to determine how much information \n",
    "# can be attributed to each principal component.\n",
    "pca.explained_variance_ratio_"
   ]
  },
  {
   "cell_type": "code",
   "execution_count": 54,
   "metadata": {},
   "outputs": [
    {
     "data": {
      "text/plain": [
       "86.18288899999989"
      ]
     },
     "execution_count": 54,
     "metadata": {},
     "output_type": "execute_result"
    }
   ],
   "source": [
    "sum([0.35325376, 0.30419594, 0.20437919]*100)"
   ]
  },
  {
   "cell_type": "markdown",
   "metadata": {},
   "source": [
    "#### Answer the following question: What is the total explained variance of the three principal components?\n",
    "\n",
    "**Question:** What is the total explained variance of the three principal components?\n",
    "\n",
    "**Answer:** 86.18%"
   ]
  },
  {
   "cell_type": "code",
   "execution_count": 55,
   "metadata": {},
   "outputs": [
    {
     "data": {
      "text/html": [
       "<div>\n",
       "<style scoped>\n",
       "    .dataframe tbody tr th:only-of-type {\n",
       "        vertical-align: middle;\n",
       "    }\n",
       "\n",
       "    .dataframe tbody tr th {\n",
       "        vertical-align: top;\n",
       "    }\n",
       "\n",
       "    .dataframe thead th {\n",
       "        text-align: right;\n",
       "    }\n",
       "</style>\n",
       "<table border=\"1\" class=\"dataframe\">\n",
       "  <thead>\n",
       "    <tr style=\"text-align: right;\">\n",
       "      <th></th>\n",
       "      <th>PC1</th>\n",
       "      <th>PC2</th>\n",
       "      <th>PC3</th>\n",
       "    </tr>\n",
       "    <tr>\n",
       "      <th>coin_id</th>\n",
       "      <th></th>\n",
       "      <th></th>\n",
       "      <th></th>\n",
       "    </tr>\n",
       "  </thead>\n",
       "  <tbody>\n",
       "    <tr>\n",
       "      <th>bitcoin</th>\n",
       "      <td>2.034093</td>\n",
       "      <td>-0.641571</td>\n",
       "      <td>-0.357629</td>\n",
       "    </tr>\n",
       "    <tr>\n",
       "      <th>ethereum</th>\n",
       "      <td>1.994502</td>\n",
       "      <td>-0.490549</td>\n",
       "      <td>-0.912250</td>\n",
       "    </tr>\n",
       "    <tr>\n",
       "      <th>tether</th>\n",
       "      <td>-1.068544</td>\n",
       "      <td>-0.417205</td>\n",
       "      <td>0.596311</td>\n",
       "    </tr>\n",
       "    <tr>\n",
       "      <th>ripple</th>\n",
       "      <td>-1.040919</td>\n",
       "      <td>-0.455234</td>\n",
       "      <td>0.467801</td>\n",
       "    </tr>\n",
       "    <tr>\n",
       "      <th>bitcoin-cash</th>\n",
       "      <td>3.302764</td>\n",
       "      <td>-1.242458</td>\n",
       "      <td>-0.217276</td>\n",
       "    </tr>\n",
       "  </tbody>\n",
       "</table>\n",
       "</div>"
      ],
      "text/plain": [
       "                   PC1       PC2       PC3\n",
       "coin_id                                   \n",
       "bitcoin       2.034093 -0.641571 -0.357629\n",
       "ethereum      1.994502 -0.490549 -0.912250\n",
       "tether       -1.068544 -0.417205  0.596311\n",
       "ripple       -1.040919 -0.455234  0.467801\n",
       "bitcoin-cash  3.302764 -1.242458 -0.217276"
      ]
     },
     "execution_count": 55,
     "metadata": {},
     "output_type": "execute_result"
    }
   ],
   "source": [
    "# Create a new DataFrame with the PCA data.\n",
    "pca_df = pd.DataFrame(pca_data, columns=[\"PC1\",\"PC2\",\"PC3\"])\n",
    "\n",
    "# Copy the crypto names from the original data\n",
    "pca_df[\"coin_id\"] = df_market_data_scaled.index\n",
    "\n",
    "# Set the coinid column as index\n",
    "pca_df = pca_df.set_index([\"coin_id\"])\n",
    "\n",
    "# Display sample data\n",
    "pca_df.head()"
   ]
  },
  {
   "cell_type": "markdown",
   "metadata": {},
   "source": [
    "---"
   ]
  },
  {
   "cell_type": "markdown",
   "metadata": {},
   "source": [
    "### Find the Best Value for k Using the PCA Data\n",
    "\n",
    "In this section, you will use the elbow method to find the best value for `k` using the PCA data.\n",
    "\n",
    "1. Code the elbow method algorithm and use the PCA data to find the best value for `k`. Use a range from 1 to 11. \n",
    "\n",
    "2. Plot a line chart with all the inertia values computed with the different values of `k` to visually identify the optimal value for `k`.\n",
    "\n",
    "3. Answer the following questions: What is the best value for k when using the PCA data? Does it differ from the best k value found using the original data?"
   ]
  },
  {
   "cell_type": "code",
   "execution_count": 56,
   "metadata": {},
   "outputs": [],
   "source": [
    "# Create a list with the number of k-values to try\n",
    "# Use a range from 1 to 11\n",
    "k = list(range(1,11))"
   ]
  },
  {
   "cell_type": "code",
   "execution_count": 57,
   "metadata": {},
   "outputs": [],
   "source": [
    "# Create an empy list to store the inertia values\n",
    "inertia = []"
   ]
  },
  {
   "cell_type": "code",
   "execution_count": 58,
   "metadata": {},
   "outputs": [
    {
     "name": "stderr",
     "output_type": "stream",
     "text": [
      "C:\\Users\\16177\\anaconda3\\envs\\dev\\lib\\site-packages\\sklearn\\cluster\\_kmeans.py:882: UserWarning: KMeans is known to have a memory leak on Windows with MKL, when there are less chunks than available threads. You can avoid it by setting the environment variable OMP_NUM_THREADS=1.\n",
      "  f\"KMeans is known to have a memory leak on Windows \"\n"
     ]
    }
   ],
   "source": [
    "# Create a for loop to compute the inertia with each possible value of k\n",
    "# Inside the loop:\n",
    "# 1. Create a KMeans model using the loop counter for the n_clusters\n",
    "# 2. Fit the model to the data using `df_market_data_pca`\n",
    "# 3. Append the model.inertia_ to the inertia list\n",
    "for i in k: \n",
    "    model = KMeans(n_clusters=i)\n",
    "    model.fit(pca_df)\n",
    "    inertia.append(model.inertia_)"
   ]
  },
  {
   "cell_type": "code",
   "execution_count": 59,
   "metadata": {},
   "outputs": [],
   "source": [
    "# Create a dictionary with the data to plot the Elbow curve\n",
    "elbow_data = {\n",
    "    \"k\" : k ,\n",
    "    \"inertia\" : inertia\n",
    "}\n",
    "\n",
    "# Create a DataFrame with the data to plot the Elbow curve\n",
    "elbow_df2 = pd.DataFrame(elbow_data)"
   ]
  },
  {
   "cell_type": "code",
   "execution_count": 60,
   "metadata": {},
   "outputs": [
    {
     "data": {},
     "metadata": {},
     "output_type": "display_data"
    },
    {
     "data": {
      "application/vnd.holoviews_exec.v0+json": "",
      "text/html": [
       "<div id='3172'>\n",
       "\n",
       "\n",
       "\n",
       "\n",
       "\n",
       "  <div class=\"bk-root\" id=\"557d8544-1f55-4417-8a45-7b9d3e883673\" data-root-id=\"3172\"></div>\n",
       "</div>\n",
       "<script type=\"application/javascript\">(function(root) {\n",
       "  function embed_document(root) {\n",
       "    var docs_json = {\"2504bd51-9b7b-4c3a-bdc0-c689d1c12beb\":{\"defs\":[{\"extends\":null,\"module\":null,\"name\":\"ReactiveHTML1\",\"overrides\":[],\"properties\":[]},{\"extends\":null,\"module\":null,\"name\":\"FlexBox1\",\"overrides\":[],\"properties\":[{\"default\":\"flex-start\",\"kind\":null,\"name\":\"align_content\"},{\"default\":\"flex-start\",\"kind\":null,\"name\":\"align_items\"},{\"default\":\"row\",\"kind\":null,\"name\":\"flex_direction\"},{\"default\":\"wrap\",\"kind\":null,\"name\":\"flex_wrap\"},{\"default\":\"flex-start\",\"kind\":null,\"name\":\"justify_content\"}]},{\"extends\":null,\"module\":null,\"name\":\"TemplateActions1\",\"overrides\":[],\"properties\":[{\"default\":0,\"kind\":null,\"name\":\"open_modal\"},{\"default\":0,\"kind\":null,\"name\":\"close_modal\"}]},{\"extends\":null,\"module\":null,\"name\":\"MaterialTemplateActions1\",\"overrides\":[],\"properties\":[{\"default\":0,\"kind\":null,\"name\":\"open_modal\"},{\"default\":0,\"kind\":null,\"name\":\"close_modal\"}]}],\"roots\":{\"references\":[{\"attributes\":{},\"id\":\"3195\",\"type\":\"PanTool\"},{\"attributes\":{\"text\":\"pca elbow chart - optimal k\",\"text_color\":\"black\",\"text_font_size\":\"12pt\"},\"id\":\"3178\",\"type\":\"Title\"},{\"attributes\":{},\"id\":\"3198\",\"type\":\"ResetTool\"},{\"attributes\":{},\"id\":\"3219\",\"type\":\"AllLabels\"},{\"attributes\":{},\"id\":\"3196\",\"type\":\"WheelZoomTool\"},{\"attributes\":{\"overlay\":{\"id\":\"3199\"}},\"id\":\"3197\",\"type\":\"BoxZoomTool\"},{\"attributes\":{},\"id\":\"3208\",\"type\":\"Selection\"},{\"attributes\":{\"line_alpha\":0.2,\"line_color\":\"#30a2da\",\"line_width\":2,\"x\":{\"field\":\"k\"},\"y\":{\"field\":\"inertia\"}},\"id\":\"3212\",\"type\":\"Line\"},{\"attributes\":{},\"id\":\"3220\",\"type\":\"BasicTickFormatter\"},{\"attributes\":{},\"id\":\"3187\",\"type\":\"BasicTicker\"},{\"attributes\":{\"data_source\":{\"id\":\"3207\"},\"glyph\":{\"id\":\"3210\"},\"hover_glyph\":null,\"muted_glyph\":{\"id\":\"3212\"},\"nonselection_glyph\":{\"id\":\"3211\"},\"selection_glyph\":{\"id\":\"3215\"},\"view\":{\"id\":\"3214\"}},\"id\":\"3213\",\"type\":\"GlyphRenderer\"},{\"attributes\":{\"axis\":{\"id\":\"3186\"},\"grid_line_color\":null,\"ticker\":null},\"id\":\"3189\",\"type\":\"Grid\"},{\"attributes\":{\"margin\":[5,5,5,5],\"name\":\"HSpacer06270\",\"sizing_mode\":\"stretch_width\"},\"id\":\"3242\",\"type\":\"Spacer\"},{\"attributes\":{},\"id\":\"3182\",\"type\":\"LinearScale\"},{\"attributes\":{\"callback\":null,\"renderers\":[{\"id\":\"3213\"}],\"tags\":[\"hv_created\"],\"tooltips\":[[\"k\",\"@{k}\"],[\"inertia\",\"@{inertia}\"]]},\"id\":\"3176\",\"type\":\"HoverTool\"},{\"attributes\":{},\"id\":\"3184\",\"type\":\"LinearScale\"},{\"attributes\":{\"axis_label\":\"inertia\",\"formatter\":{\"id\":\"3220\"},\"major_label_policy\":{\"id\":\"3219\"},\"ticker\":{\"id\":\"3191\"}},\"id\":\"3190\",\"type\":\"LinearAxis\"},{\"attributes\":{\"line_color\":\"#30a2da\",\"line_width\":2,\"x\":{\"field\":\"k\"},\"y\":{\"field\":\"inertia\"}},\"id\":\"3210\",\"type\":\"Line\"},{\"attributes\":{\"data\":{\"inertia\":{\"__ndarray__\":\"DNBJfsFbdEB4jgI0NClpQOvljuIn71tALKyynUAZREC5zPucyoM9QGxpBZ0p/TRAlKD1eOS6LkC70nrCQgUoQBgOaMzNVCNA1B/Aj8DAH0A=\",\"dtype\":\"float64\",\"order\":\"little\",\"shape\":[10]},\"k\":[1,2,3,4,5,6,7,8,9,10]},\"selected\":{\"id\":\"3208\"},\"selection_policy\":{\"id\":\"3229\"}},\"id\":\"3207\",\"type\":\"ColumnDataSource\"},{\"attributes\":{\"axis_label\":\"k\",\"formatter\":{\"id\":\"3217\"},\"major_label_policy\":{\"id\":\"3216\"},\"ticker\":{\"id\":\"3187\"}},\"id\":\"3186\",\"type\":\"LinearAxis\"},{\"attributes\":{\"end\":10.0,\"reset_end\":10.0,\"reset_start\":1.0,\"start\":1.0,\"tags\":[[[\"k\",\"k\",null]]]},\"id\":\"3174\",\"type\":\"Range1d\"},{\"attributes\":{\"active_multi\":null,\"tools\":[{\"id\":\"3176\"},{\"id\":\"3194\"},{\"id\":\"3195\"},{\"id\":\"3196\"},{\"id\":\"3197\"},{\"id\":\"3198\"}]},\"id\":\"3200\",\"type\":\"Toolbar\"},{\"attributes\":{},\"id\":\"3191\",\"type\":\"BasicTicker\"},{\"attributes\":{\"margin\":[5,5,5,5],\"name\":\"HSpacer06269\",\"sizing_mode\":\"stretch_width\"},\"id\":\"3173\",\"type\":\"Spacer\"},{\"attributes\":{\"axis\":{\"id\":\"3190\"},\"dimension\":1,\"grid_line_color\":null,\"ticker\":null},\"id\":\"3193\",\"type\":\"Grid\"},{\"attributes\":{\"below\":[{\"id\":\"3186\"}],\"center\":[{\"id\":\"3189\"},{\"id\":\"3193\"}],\"height\":300,\"left\":[{\"id\":\"3190\"}],\"margin\":[5,5,5,5],\"min_border_bottom\":10,\"min_border_left\":10,\"min_border_right\":10,\"min_border_top\":10,\"renderers\":[{\"id\":\"3213\"}],\"sizing_mode\":\"fixed\",\"title\":{\"id\":\"3178\"},\"toolbar\":{\"id\":\"3200\"},\"width\":700,\"x_range\":{\"id\":\"3174\"},\"x_scale\":{\"id\":\"3182\"},\"y_range\":{\"id\":\"3175\"},\"y_scale\":{\"id\":\"3184\"}},\"id\":\"3177\",\"subtype\":\"Figure\",\"type\":\"Plot\"},{\"attributes\":{\"bottom_units\":\"screen\",\"fill_alpha\":0.5,\"fill_color\":\"lightgrey\",\"left_units\":\"screen\",\"level\":\"overlay\",\"line_alpha\":1.0,\"line_color\":\"black\",\"line_dash\":[4,4],\"line_width\":2,\"right_units\":\"screen\",\"syncable\":false,\"top_units\":\"screen\"},\"id\":\"3199\",\"type\":\"BoxAnnotation\"},{\"attributes\":{\"line_alpha\":0.1,\"line_color\":\"#30a2da\",\"line_width\":2,\"x\":{\"field\":\"k\"},\"y\":{\"field\":\"inertia\"}},\"id\":\"3211\",\"type\":\"Line\"},{\"attributes\":{\"children\":[{\"id\":\"3173\"},{\"id\":\"3177\"},{\"id\":\"3242\"}],\"margin\":[0,0,0,0],\"name\":\"Row06265\",\"tags\":[\"embedded\"]},\"id\":\"3172\",\"type\":\"Row\"},{\"attributes\":{},\"id\":\"3229\",\"type\":\"UnionRenderers\"},{\"attributes\":{\"end\":357.5143900800264,\"reset_end\":357.5143900800264,\"reset_start\":-23.841415937539683,\"start\":-23.841415937539683,\"tags\":[[[\"inertia\",\"inertia\",null]]]},\"id\":\"3175\",\"type\":\"Range1d\"},{\"attributes\":{},\"id\":\"3216\",\"type\":\"AllLabels\"},{\"attributes\":{\"source\":{\"id\":\"3207\"}},\"id\":\"3214\",\"type\":\"CDSView\"},{\"attributes\":{\"line_color\":\"#30a2da\",\"line_width\":2,\"x\":{\"field\":\"k\"},\"y\":{\"field\":\"inertia\"}},\"id\":\"3215\",\"type\":\"Line\"},{\"attributes\":{},\"id\":\"3217\",\"type\":\"BasicTickFormatter\"},{\"attributes\":{},\"id\":\"3194\",\"type\":\"SaveTool\"}],\"root_ids\":[\"3172\"]},\"title\":\"Bokeh Application\",\"version\":\"2.3.2\"}};\n",
       "    var render_items = [{\"docid\":\"2504bd51-9b7b-4c3a-bdc0-c689d1c12beb\",\"root_ids\":[\"3172\"],\"roots\":{\"3172\":\"557d8544-1f55-4417-8a45-7b9d3e883673\"}}];\n",
       "    root.Bokeh.embed.embed_items_notebook(docs_json, render_items);\n",
       "  }\n",
       "  if (root.Bokeh !== undefined && root.Bokeh.Panel !== undefined) {\n",
       "    embed_document(root);\n",
       "  } else {\n",
       "    var attempts = 0;\n",
       "    var timer = setInterval(function(root) {\n",
       "      if (root.Bokeh !== undefined && root.Bokeh.Panel !== undefined) {\n",
       "        clearInterval(timer);\n",
       "        embed_document(root);\n",
       "      } else if (document.readyState == \"complete\") {\n",
       "        attempts++;\n",
       "        if (attempts > 200) {\n",
       "          clearInterval(timer);\n",
       "          console.log(\"Bokeh: ERROR: Unable to run BokehJS code because BokehJS library is missing\");\n",
       "        }\n",
       "      }\n",
       "    }, 25, root)\n",
       "  }\n",
       "})(window);</script>"
      ],
      "text/plain": [
       ":Curve   [k]   (inertia)"
      ]
     },
     "execution_count": 60,
     "metadata": {
      "application/vnd.holoviews_exec.v0+json": {
       "id": "3172"
      }
     },
     "output_type": "execute_result"
    }
   ],
   "source": [
    "# Plot a line chart with all the inertia values computed with \n",
    "# the different values of k to visually identify the optimal value for k.\n",
    "elbow2 = elbow_df2.hvplot.line(\n",
    "    title=\"pca elbow chart - optimal k\",\n",
    "    x=\"k\",\n",
    "    y=\"inertia\")\n",
    "\n",
    "elbow2"
   ]
  },
  {
   "cell_type": "markdown",
   "metadata": {},
   "source": [
    "#### Answer the following questions: What is the best value for k when using the PCA data? Does it differ from the best k value found using the original data?\n",
    "* **Question:** What is the best value for `k` when using the PCA data?\n",
    "\n",
    "  * **Answer:** Still 4\n",
    "\n",
    "\n",
    "* **Question:** Does it differ from the best k value found using the original data?\n",
    "\n",
    "  * **Answer:** No"
   ]
  },
  {
   "cell_type": "markdown",
   "metadata": {},
   "source": [
    "---"
   ]
  },
  {
   "cell_type": "markdown",
   "metadata": {},
   "source": [
    "### Cluster Cryptocurrencies with K-means Using the PCA Data\n",
    "\n",
    "In this section, you will use the PCA data and the K-Means algorithm with the best value for `k` found in the previous section to cluster the cryptocurrencies according to the principal components.\n",
    "\n",
    "1. Initialize the K-Means model with four clusters using the best value for `k`. \n",
    "\n",
    "2. Fit the K-Means model using the PCA data.\n",
    "\n",
    "3. Predict the clusters to group the cryptocurrencies using the PCA data. View the resulting array of cluster values.\n",
    "\n",
    "4. Add a new column to the DataFrame with the PCA data to store the predicted clusters.\n",
    "\n",
    "5. Create a scatter plot using hvPlot by setting `x=\"price_change_percentage_24h\"` and `y=\"price_change_percentage_7d\"`. Color the graph points with the labels found using K-Means and add the crypto name in the `hover_cols` parameter to identify the cryptocurrency represented by each data point."
   ]
  },
  {
   "cell_type": "code",
   "execution_count": 61,
   "metadata": {},
   "outputs": [],
   "source": [
    "# Initialize the K-Means model using the best value for k\n",
    "model_k4 = KMeans(n_clusters=4)"
   ]
  },
  {
   "cell_type": "code",
   "execution_count": 62,
   "metadata": {},
   "outputs": [
    {
     "data": {
      "text/plain": [
       "KMeans(n_clusters=10)"
      ]
     },
     "execution_count": 62,
     "metadata": {},
     "output_type": "execute_result"
    }
   ],
   "source": [
    "# Fit the K-Means model using the PCA data\n",
    "model.fit(pca_df)"
   ]
  },
  {
   "cell_type": "code",
   "execution_count": 70,
   "metadata": {},
   "outputs": [
    {
     "data": {
      "text/plain": [
       "array([4, 4, 1, 1, 7, 7, 0, 4, 4, 1, 5, 1, 1, 7, 1, 0, 5, 1, 4, 1, 1, 4,\n",
       "       1, 1, 8, 1, 1, 5, 4, 6, 1, 1, 2, 4, 9, 8, 3, 5, 1, 1, 1])"
      ]
     },
     "execution_count": 70,
     "metadata": {},
     "output_type": "execute_result"
    }
   ],
   "source": [
    "# Predict the clusters to group the cryptocurrencies using the PCA data\n",
    "pca_predict_k4 = model.predict(pca_df)\n",
    "\n",
    "# View the resulting array of cluster values.\n",
    "pca_predict_k4"
   ]
  },
  {
   "cell_type": "code",
   "execution_count": 73,
   "metadata": {},
   "outputs": [
    {
     "data": {
      "text/html": [
       "<div>\n",
       "<style scoped>\n",
       "    .dataframe tbody tr th:only-of-type {\n",
       "        vertical-align: middle;\n",
       "    }\n",
       "\n",
       "    .dataframe tbody tr th {\n",
       "        vertical-align: top;\n",
       "    }\n",
       "\n",
       "    .dataframe thead th {\n",
       "        text-align: right;\n",
       "    }\n",
       "</style>\n",
       "<table border=\"1\" class=\"dataframe\">\n",
       "  <thead>\n",
       "    <tr style=\"text-align: right;\">\n",
       "      <th></th>\n",
       "      <th>PC1</th>\n",
       "      <th>PC2</th>\n",
       "      <th>PC3</th>\n",
       "      <th>clusters</th>\n",
       "    </tr>\n",
       "    <tr>\n",
       "      <th>coin_id</th>\n",
       "      <th></th>\n",
       "      <th></th>\n",
       "      <th></th>\n",
       "      <th></th>\n",
       "    </tr>\n",
       "  </thead>\n",
       "  <tbody>\n",
       "    <tr>\n",
       "      <th>bitcoin</th>\n",
       "      <td>2.034093</td>\n",
       "      <td>-0.641571</td>\n",
       "      <td>-0.357629</td>\n",
       "      <td>4</td>\n",
       "    </tr>\n",
       "    <tr>\n",
       "      <th>ethereum</th>\n",
       "      <td>1.994502</td>\n",
       "      <td>-0.490549</td>\n",
       "      <td>-0.912250</td>\n",
       "      <td>4</td>\n",
       "    </tr>\n",
       "    <tr>\n",
       "      <th>tether</th>\n",
       "      <td>-1.068544</td>\n",
       "      <td>-0.417205</td>\n",
       "      <td>0.596311</td>\n",
       "      <td>1</td>\n",
       "    </tr>\n",
       "    <tr>\n",
       "      <th>ripple</th>\n",
       "      <td>-1.040919</td>\n",
       "      <td>-0.455234</td>\n",
       "      <td>0.467801</td>\n",
       "      <td>1</td>\n",
       "    </tr>\n",
       "    <tr>\n",
       "      <th>bitcoin-cash</th>\n",
       "      <td>3.302764</td>\n",
       "      <td>-1.242458</td>\n",
       "      <td>-0.217276</td>\n",
       "      <td>7</td>\n",
       "    </tr>\n",
       "  </tbody>\n",
       "</table>\n",
       "</div>"
      ],
      "text/plain": [
       "                   PC1       PC2       PC3  clusters\n",
       "coin_id                                             \n",
       "bitcoin       2.034093 -0.641571 -0.357629         4\n",
       "ethereum      1.994502 -0.490549 -0.912250         4\n",
       "tether       -1.068544 -0.417205  0.596311         1\n",
       "ripple       -1.040919 -0.455234  0.467801         1\n",
       "bitcoin-cash  3.302764 -1.242458 -0.217276         7"
      ]
     },
     "execution_count": 73,
     "metadata": {},
     "output_type": "execute_result"
    }
   ],
   "source": [
    "# Create a copy of the DataFrame with the PCA data\n",
    "pca_df_k4 = pca_df\n",
    "\n",
    "# Add a new column to the DataFrame with the predicted clusters\n",
    "pca_df_k4[\"clusters\"]=pca_predict_k4\n",
    "\n",
    "# Display sample data\n",
    "pca_df_k4.head()"
   ]
  },
  {
   "cell_type": "code",
   "execution_count": 74,
   "metadata": {},
   "outputs": [
    {
     "data": {},
     "metadata": {},
     "output_type": "display_data"
    },
    {
     "data": {
      "application/vnd.holoviews_exec.v0+json": "",
      "text/html": [
       "<div id='3294'>\n",
       "\n",
       "\n",
       "\n",
       "\n",
       "\n",
       "  <div class=\"bk-root\" id=\"98ceb38e-eb48-4fd3-9488-69fcfd74cdf0\" data-root-id=\"3294\"></div>\n",
       "</div>\n",
       "<script type=\"application/javascript\">(function(root) {\n",
       "  function embed_document(root) {\n",
       "    var docs_json = {\"df0d4eda-0418-4b73-aad2-81d4127b3619\":{\"defs\":[{\"extends\":null,\"module\":null,\"name\":\"ReactiveHTML1\",\"overrides\":[],\"properties\":[]},{\"extends\":null,\"module\":null,\"name\":\"FlexBox1\",\"overrides\":[],\"properties\":[{\"default\":\"flex-start\",\"kind\":null,\"name\":\"align_content\"},{\"default\":\"flex-start\",\"kind\":null,\"name\":\"align_items\"},{\"default\":\"row\",\"kind\":null,\"name\":\"flex_direction\"},{\"default\":\"wrap\",\"kind\":null,\"name\":\"flex_wrap\"},{\"default\":\"flex-start\",\"kind\":null,\"name\":\"justify_content\"}]},{\"extends\":null,\"module\":null,\"name\":\"TemplateActions1\",\"overrides\":[],\"properties\":[{\"default\":0,\"kind\":null,\"name\":\"open_modal\"},{\"default\":0,\"kind\":null,\"name\":\"close_modal\"}]},{\"extends\":null,\"module\":null,\"name\":\"MaterialTemplateActions1\",\"overrides\":[],\"properties\":[{\"default\":0,\"kind\":null,\"name\":\"open_modal\"},{\"default\":0,\"kind\":null,\"name\":\"close_modal\"}]}],\"roots\":{\"references\":[{\"attributes\":{\"fill_alpha\":{\"value\":0.1},\"fill_color\":{\"value\":\"#9467bd\"},\"line_alpha\":{\"value\":0.1},\"line_color\":{\"value\":\"#9467bd\"},\"size\":{\"value\":5.477225575051661},\"x\":{\"field\":\"PC1\"},\"y\":{\"field\":\"PC3\"}},\"id\":\"3499\",\"type\":\"Scatter\"},{\"attributes\":{\"fill_color\":{\"value\":\"#30a2da\"},\"line_color\":{\"value\":\"#30a2da\"},\"size\":{\"value\":5.477225575051661},\"x\":{\"field\":\"PC1\"},\"y\":{\"field\":\"PC3\"}},\"id\":\"3347\",\"type\":\"Scatter\"},{\"attributes\":{\"callback\":null,\"renderers\":[{\"id\":\"3350\"},{\"id\":\"3371\"},{\"id\":\"3393\"},{\"id\":\"3417\"},{\"id\":\"3443\"},{\"id\":\"3471\"},{\"id\":\"3501\"},{\"id\":\"3533\"},{\"id\":\"3567\"},{\"id\":\"3603\"}],\"tags\":[\"hv_created\"],\"tooltips\":[[\"clusters\",\"@{clusters}\"],[\"PC1\",\"@{PC1}\"],[\"PC3\",\"@{PC3}\"],[\"coin_id\",\"@{coin_id}\"]]},\"id\":\"3298\",\"type\":\"HoverTool\"},{\"attributes\":{\"fill_alpha\":{\"value\":0.1},\"fill_color\":{\"value\":\"#e377c2\"},\"line_alpha\":{\"value\":0.1},\"line_color\":{\"value\":\"#e377c2\"},\"size\":{\"value\":5.477225575051661},\"x\":{\"field\":\"PC1\"},\"y\":{\"field\":\"PC3\"}},\"id\":\"3601\",\"type\":\"Scatter\"},{\"attributes\":{\"source\":{\"id\":\"3411\"}},\"id\":\"3418\",\"type\":\"CDSView\"},{\"attributes\":{\"fill_color\":{\"value\":\"#d62728\"},\"line_color\":{\"value\":\"#d62728\"},\"size\":{\"value\":5.477225575051661},\"x\":{\"field\":\"PC1\"},\"y\":{\"field\":\"PC3\"}},\"id\":\"3530\",\"type\":\"Scatter\"},{\"attributes\":{\"fill_color\":{\"value\":\"#e377c2\"},\"line_color\":{\"value\":\"#e377c2\"},\"size\":{\"value\":5.477225575051661},\"x\":{\"field\":\"PC1\"},\"y\":{\"field\":\"PC3\"}},\"id\":\"3600\",\"type\":\"Scatter\"},{\"attributes\":{\"fill_alpha\":{\"value\":0.1},\"fill_color\":{\"value\":\"#30a2da\"},\"line_alpha\":{\"value\":0.1},\"line_color\":{\"value\":\"#30a2da\"},\"size\":{\"value\":5.477225575051661},\"x\":{\"field\":\"PC1\"},\"y\":{\"field\":\"PC3\"}},\"id\":\"3348\",\"type\":\"Scatter\"},{\"attributes\":{\"data\":{\"PC1\":{\"__ndarray__\":\"iceVoQspBkCFIhk7uS33Pw==\",\"dtype\":\"float64\",\"order\":\"little\",\"shape\":[2]},\"PC3\":{\"__ndarray__\":\"VRN6rvU+/r/z8BC4yUz7vw==\",\"dtype\":\"float64\",\"order\":\"little\",\"shape\":[2]},\"clusters\":[0,0],\"coin_id\":[\"chainlink\",\"tezos\"]},\"selected\":{\"id\":\"3345\"},\"selection_policy\":{\"id\":\"3359\"}},\"id\":\"3344\",\"type\":\"ColumnDataSource\"},{\"attributes\":{\"angle\":{\"value\":0.0},\"fill_alpha\":{\"value\":1.0},\"fill_color\":{\"value\":\"#6d904f\"},\"hatch_alpha\":{\"value\":1.0},\"hatch_color\":{\"value\":\"black\"},\"hatch_scale\":{\"value\":12.0},\"hatch_weight\":{\"value\":1.0},\"line_alpha\":{\"value\":1.0},\"line_cap\":{\"value\":\"butt\"},\"line_color\":{\"value\":\"#6d904f\"},\"line_dash\":{\"value\":[]},\"line_dash_offset\":{\"value\":0},\"line_join\":{\"value\":\"bevel\"},\"line_width\":{\"value\":1},\"marker\":{\"value\":\"circle\"},\"size\":{\"value\":5.477225575051661},\"x\":{\"field\":\"PC1\"},\"y\":{\"field\":\"PC3\"}},\"id\":\"3436\",\"type\":\"Scatter\"},{\"attributes\":{},\"id\":\"3562\",\"type\":\"Selection\"},{\"attributes\":{\"fill_alpha\":{\"value\":0.2},\"fill_color\":{\"value\":\"#d62728\"},\"line_alpha\":{\"value\":0.2},\"line_color\":{\"value\":\"#d62728\"},\"size\":{\"value\":5.477225575051661},\"x\":{\"field\":\"PC1\"},\"y\":{\"field\":\"PC3\"}},\"id\":\"3532\",\"type\":\"Scatter\"},{\"attributes\":{\"label\":{\"value\":\"4\"},\"renderers\":[{\"id\":\"3443\"}]},\"id\":\"3463\",\"type\":\"LegendItem\"},{\"attributes\":{},\"id\":\"3630\",\"type\":\"UnionRenderers\"},{\"attributes\":{\"data_source\":{\"id\":\"3411\"},\"glyph\":{\"id\":\"3414\"},\"hover_glyph\":null,\"muted_glyph\":{\"id\":\"3416\"},\"nonselection_glyph\":{\"id\":\"3415\"},\"selection_glyph\":{\"id\":\"3436\"},\"view\":{\"id\":\"3418\"}},\"id\":\"3417\",\"type\":\"GlyphRenderer\"},{\"attributes\":{\"fill_alpha\":{\"value\":0.1},\"fill_color\":{\"value\":\"#8b8b8b\"},\"line_alpha\":{\"value\":0.1},\"line_color\":{\"value\":\"#8b8b8b\"},\"size\":{\"value\":5.477225575051661},\"x\":{\"field\":\"PC1\"},\"y\":{\"field\":\"PC3\"}},\"id\":\"3441\",\"type\":\"Scatter\"},{\"attributes\":{\"source\":{\"id\":\"3527\"}},\"id\":\"3534\",\"type\":\"CDSView\"},{\"attributes\":{\"source\":{\"id\":\"3437\"}},\"id\":\"3444\",\"type\":\"CDSView\"},{\"attributes\":{},\"id\":\"3341\",\"type\":\"AllLabels\"},{\"attributes\":{},\"id\":\"3460\",\"type\":\"UnionRenderers\"},{\"attributes\":{},\"id\":\"3339\",\"type\":\"BasicTickFormatter\"},{\"attributes\":{\"fill_alpha\":{\"value\":0.2},\"fill_color\":{\"value\":\"#6d904f\"},\"line_alpha\":{\"value\":0.2},\"line_color\":{\"value\":\"#6d904f\"},\"size\":{\"value\":5.477225575051661},\"x\":{\"field\":\"PC1\"},\"y\":{\"field\":\"PC3\"}},\"id\":\"3416\",\"type\":\"Scatter\"},{\"attributes\":{\"source\":{\"id\":\"3597\"}},\"id\":\"3604\",\"type\":\"CDSView\"},{\"attributes\":{\"label\":{\"value\":\"3\"},\"renderers\":[{\"id\":\"3417\"}]},\"id\":\"3435\",\"type\":\"LegendItem\"},{\"attributes\":{\"fill_alpha\":{\"value\":0.2},\"fill_color\":{\"value\":\"#8b8b8b\"},\"line_alpha\":{\"value\":0.2},\"line_color\":{\"value\":\"#8b8b8b\"},\"size\":{\"value\":5.477225575051661},\"x\":{\"field\":\"PC1\"},\"y\":{\"field\":\"PC3\"}},\"id\":\"3442\",\"type\":\"Scatter\"},{\"attributes\":{\"fill_alpha\":{\"value\":0.2},\"fill_color\":{\"value\":\"#17becf\"},\"line_alpha\":{\"value\":0.2},\"line_color\":{\"value\":\"#17becf\"},\"size\":{\"value\":5.477225575051661},\"x\":{\"field\":\"PC1\"},\"y\":{\"field\":\"PC3\"}},\"id\":\"3470\",\"type\":\"Scatter\"},{\"attributes\":{\"axis\":{\"id\":\"3317\"},\"grid_line_color\":null,\"ticker\":null},\"id\":\"3320\",\"type\":\"Grid\"},{\"attributes\":{\"data_source\":{\"id\":\"3597\"},\"glyph\":{\"id\":\"3600\"},\"hover_glyph\":null,\"muted_glyph\":{\"id\":\"3602\"},\"nonselection_glyph\":{\"id\":\"3601\"},\"selection_glyph\":{\"id\":\"3634\"},\"view\":{\"id\":\"3604\"}},\"id\":\"3603\",\"type\":\"GlyphRenderer\"},{\"attributes\":{\"data\":{\"PC1\":{\"__ndarray__\":\"ioDrfhFO/78=\",\"dtype\":\"float64\",\"order\":\"little\",\"shape\":[1]},\"PC3\":{\"__ndarray__\":\"CK+/S4x4978=\",\"dtype\":\"float64\",\"order\":\"little\",\"shape\":[1]},\"clusters\":[9],\"coin_id\":[\"havven\"]},\"selected\":{\"id\":\"3598\"},\"selection_policy\":{\"id\":\"3630\"}},\"id\":\"3597\",\"type\":\"ColumnDataSource\"},{\"attributes\":{},\"id\":\"3318\",\"type\":\"BasicTicker\"},{\"attributes\":{\"angle\":{\"value\":0.0},\"fill_alpha\":{\"value\":1.0},\"fill_color\":{\"value\":\"#e377c2\"},\"hatch_alpha\":{\"value\":1.0},\"hatch_color\":{\"value\":\"black\"},\"hatch_scale\":{\"value\":12.0},\"hatch_weight\":{\"value\":1.0},\"line_alpha\":{\"value\":1.0},\"line_cap\":{\"value\":\"butt\"},\"line_color\":{\"value\":\"#e377c2\"},\"line_dash\":{\"value\":[]},\"line_dash_offset\":{\"value\":0},\"line_join\":{\"value\":\"bevel\"},\"line_width\":{\"value\":1},\"marker\":{\"value\":\"circle\"},\"size\":{\"value\":5.477225575051661},\"x\":{\"field\":\"PC1\"},\"y\":{\"field\":\"PC3\"}},\"id\":\"3634\",\"type\":\"Scatter\"},{\"attributes\":{\"label\":{\"value\":\"9\"},\"renderers\":[{\"id\":\"3603\"}]},\"id\":\"3633\",\"type\":\"LegendItem\"},{\"attributes\":{},\"id\":\"3490\",\"type\":\"UnionRenderers\"},{\"attributes\":{\"source\":{\"id\":\"3465\"}},\"id\":\"3472\",\"type\":\"CDSView\"},{\"attributes\":{\"data_source\":{\"id\":\"3437\"},\"glyph\":{\"id\":\"3440\"},\"hover_glyph\":null,\"muted_glyph\":{\"id\":\"3442\"},\"nonselection_glyph\":{\"id\":\"3441\"},\"selection_glyph\":{\"id\":\"3464\"},\"view\":{\"id\":\"3444\"}},\"id\":\"3443\",\"type\":\"GlyphRenderer\"},{\"attributes\":{\"data_source\":{\"id\":\"3561\"},\"glyph\":{\"id\":\"3564\"},\"hover_glyph\":null,\"muted_glyph\":{\"id\":\"3566\"},\"nonselection_glyph\":{\"id\":\"3565\"},\"selection_glyph\":{\"id\":\"3596\"},\"view\":{\"id\":\"3568\"}},\"id\":\"3567\",\"type\":\"GlyphRenderer\"},{\"attributes\":{\"angle\":{\"value\":0.0},\"fill_alpha\":{\"value\":1.0},\"fill_color\":{\"value\":\"#8b8b8b\"},\"hatch_alpha\":{\"value\":1.0},\"hatch_color\":{\"value\":\"black\"},\"hatch_scale\":{\"value\":12.0},\"hatch_weight\":{\"value\":1.0},\"line_alpha\":{\"value\":1.0},\"line_cap\":{\"value\":\"butt\"},\"line_color\":{\"value\":\"#8b8b8b\"},\"line_dash\":{\"value\":[]},\"line_dash_offset\":{\"value\":0},\"line_join\":{\"value\":\"bevel\"},\"line_width\":{\"value\":1},\"marker\":{\"value\":\"circle\"},\"size\":{\"value\":5.477225575051661},\"x\":{\"field\":\"PC1\"},\"y\":{\"field\":\"PC3\"}},\"id\":\"3464\",\"type\":\"Scatter\"},{\"attributes\":{},\"id\":\"3313\",\"type\":\"LinearScale\"},{\"attributes\":{\"text\":\"PCA clusters 1 & 3\",\"text_color\":\"black\",\"text_font_size\":\"12pt\"},\"id\":\"3309\",\"type\":\"Title\"},{\"attributes\":{\"fill_alpha\":{\"value\":0.1},\"fill_color\":{\"value\":\"#1f77b4\"},\"line_alpha\":{\"value\":0.1},\"line_color\":{\"value\":\"#1f77b4\"},\"size\":{\"value\":5.477225575051661},\"x\":{\"field\":\"PC1\"},\"y\":{\"field\":\"PC3\"}},\"id\":\"3565\",\"type\":\"Scatter\"},{\"attributes\":{\"angle\":{\"value\":0.0},\"fill_alpha\":{\"value\":1.0},\"fill_color\":{\"value\":\"#17becf\"},\"hatch_alpha\":{\"value\":1.0},\"hatch_color\":{\"value\":\"black\"},\"hatch_scale\":{\"value\":12.0},\"hatch_weight\":{\"value\":1.0},\"line_alpha\":{\"value\":1.0},\"line_cap\":{\"value\":\"butt\"},\"line_color\":{\"value\":\"#17becf\"},\"line_dash\":{\"value\":[]},\"line_dash_offset\":{\"value\":0},\"line_join\":{\"value\":\"bevel\"},\"line_width\":{\"value\":1},\"marker\":{\"value\":\"circle\"},\"size\":{\"value\":5.477225575051661},\"x\":{\"field\":\"PC1\"},\"y\":{\"field\":\"PC3\"}},\"id\":\"3494\",\"type\":\"Scatter\"},{\"attributes\":{},\"id\":\"3315\",\"type\":\"LinearScale\"},{\"attributes\":{\"axis_label\":\"PC3\",\"formatter\":{\"id\":\"3342\"},\"major_label_policy\":{\"id\":\"3341\"},\"ticker\":{\"id\":\"3322\"}},\"id\":\"3321\",\"type\":\"LinearAxis\"},{\"attributes\":{\"axis_label\":\"PC1\",\"formatter\":{\"id\":\"3339\"},\"major_label_policy\":{\"id\":\"3338\"},\"ticker\":{\"id\":\"3318\"}},\"id\":\"3317\",\"type\":\"LinearAxis\"},{\"attributes\":{},\"id\":\"3322\",\"type\":\"BasicTicker\"},{\"attributes\":{\"axis\":{\"id\":\"3321\"},\"dimension\":1,\"grid_line_color\":null,\"ticker\":null},\"id\":\"3324\",\"type\":\"Grid\"},{\"attributes\":{},\"id\":\"3338\",\"type\":\"AllLabels\"},{\"attributes\":{\"fill_alpha\":{\"value\":0.2},\"fill_color\":{\"value\":\"#1f77b4\"},\"line_alpha\":{\"value\":0.2},\"line_color\":{\"value\":\"#1f77b4\"},\"size\":{\"value\":5.477225575051661},\"x\":{\"field\":\"PC1\"},\"y\":{\"field\":\"PC3\"}},\"id\":\"3566\",\"type\":\"Scatter\"},{\"attributes\":{\"margin\":[5,5,5,5],\"name\":\"HSpacer06635\",\"sizing_mode\":\"stretch_width\"},\"id\":\"3887\",\"type\":\"Spacer\"},{\"attributes\":{\"data_source\":{\"id\":\"3465\"},\"glyph\":{\"id\":\"3468\"},\"hover_glyph\":null,\"muted_glyph\":{\"id\":\"3470\"},\"nonselection_glyph\":{\"id\":\"3469\"},\"selection_glyph\":{\"id\":\"3494\"},\"view\":{\"id\":\"3472\"}},\"id\":\"3471\",\"type\":\"GlyphRenderer\"},{\"attributes\":{},\"id\":\"3342\",\"type\":\"BasicTickFormatter\"},{\"attributes\":{\"margin\":[5,5,5,5],\"name\":\"HSpacer06634\",\"sizing_mode\":\"stretch_width\"},\"id\":\"3295\",\"type\":\"Spacer\"},{\"attributes\":{\"angle\":{\"value\":0.0},\"fill_alpha\":{\"value\":1.0},\"fill_color\":{\"value\":\"#9467bd\"},\"hatch_alpha\":{\"value\":1.0},\"hatch_color\":{\"value\":\"black\"},\"hatch_scale\":{\"value\":12.0},\"hatch_weight\":{\"value\":1.0},\"line_alpha\":{\"value\":1.0},\"line_cap\":{\"value\":\"butt\"},\"line_color\":{\"value\":\"#9467bd\"},\"line_dash\":{\"value\":[]},\"line_dash_offset\":{\"value\":0},\"line_join\":{\"value\":\"bevel\"},\"line_width\":{\"value\":1},\"marker\":{\"value\":\"circle\"},\"size\":{\"value\":5.477225575051661},\"x\":{\"field\":\"PC1\"},\"y\":{\"field\":\"PC3\"}},\"id\":\"3526\",\"type\":\"Scatter\"},{\"attributes\":{},\"id\":\"3592\",\"type\":\"UnionRenderers\"},{\"attributes\":{\"fill_color\":{\"value\":\"#8b8b8b\"},\"line_color\":{\"value\":\"#8b8b8b\"},\"size\":{\"value\":5.477225575051661},\"x\":{\"field\":\"PC1\"},\"y\":{\"field\":\"PC3\"}},\"id\":\"3440\",\"type\":\"Scatter\"},{\"attributes\":{\"data\":{\"PC1\":{\"__ndarray__\":\"opXVt8EY8b/avP1Qmqfwv9TsAiEAs+2/L2wh725O8b+toly7tobzv/f+wvZQK+m/+SnKzXoL879TQPhaV/vwv6aYrfgUnPm/0PPK46uz+L+PCDVwRmzvv47eoDOV+PC/imeaqsaY7r8vAOzA9y7svxQusjkbVe+/O2iHiRvt47+ljh6Yd7/wv7o080Hbx/K/\",\"dtype\":\"float64\",\"order\":\"little\",\"shape\":[18]},\"PC3\":{\"__ndarray__\":\"0jNJZPoU4z9iZtLAcvDdP9brFdpkVdU/1t4EfgpI4z8zenhHpUHTPwzufq6EbdM/5avagTaLwr/+k59fEOzjP2JnuN2e+JY/US/gisR13D9wnUl65QLaPyDmN4ecleM/Iqj/UE5swb/5bp2xMB7Gv2ToOup9/sQ/uk3zWkil0T+4TpfIVb3jPyinM8sT7uY/\",\"dtype\":\"float64\",\"order\":\"little\",\"shape\":[18]},\"clusters\":[1,1,1,1,1,1,1,1,1,1,1,1,1,1,1,1,1,1],\"coin_id\":[\"tether\",\"ripple\",\"bitcoin-cash-sv\",\"usd-coin\",\"eos\",\"tron\",\"stellar\",\"cdai\",\"neo\",\"leo-token\",\"huobi-token\",\"binance-usd\",\"iota\",\"dash\",\"ethereum-classic\",\"ftx-token\",\"true-usd\",\"digibyte\"]},\"selected\":{\"id\":\"3366\"},\"selection_policy\":{\"id\":\"3382\"}},\"id\":\"3365\",\"type\":\"ColumnDataSource\"},{\"attributes\":{},\"id\":\"3325\",\"type\":\"SaveTool\"},{\"attributes\":{\"fill_alpha\":{\"value\":0.1},\"fill_color\":{\"value\":\"#d62728\"},\"line_alpha\":{\"value\":0.1},\"line_color\":{\"value\":\"#d62728\"},\"size\":{\"value\":5.477225575051661},\"x\":{\"field\":\"PC1\"},\"y\":{\"field\":\"PC3\"}},\"id\":\"3531\",\"type\":\"Scatter\"},{\"attributes\":{},\"id\":\"3326\",\"type\":\"PanTool\"},{\"attributes\":{},\"id\":\"3327\",\"type\":\"WheelZoomTool\"},{\"attributes\":{},\"id\":\"3556\",\"type\":\"UnionRenderers\"},{\"attributes\":{},\"id\":\"3388\",\"type\":\"Selection\"},{\"attributes\":{\"children\":[{\"id\":\"3295\"},{\"id\":\"3308\"},{\"id\":\"3887\"}],\"margin\":[0,0,0,0],\"name\":\"Row06630\",\"tags\":[\"embedded\"]},\"id\":\"3294\",\"type\":\"Row\"},{\"attributes\":{\"data\":{\"PC1\":{\"__ndarray__\":\"QIjbcg9sCkA0dfgJqAsEQF9XRjOA0g1A\",\"dtype\":\"float64\",\"order\":\"little\",\"shape\":[3]},\"PC3\":{\"__ndarray__\":\"yajnOrPPy79gotTQzY/Av5ejkMOt6uQ/\",\"dtype\":\"float64\",\"order\":\"little\",\"shape\":[3]},\"clusters\":[7,7,7],\"coin_id\":[\"bitcoin-cash\",\"binancecoin\",\"monero\"]},\"selected\":{\"id\":\"3528\"},\"selection_policy\":{\"id\":\"3556\"}},\"id\":\"3527\",\"type\":\"ColumnDataSource\"},{\"attributes\":{\"click_policy\":\"mute\",\"items\":[{\"id\":\"3363\"},{\"id\":\"3385\"},{\"id\":\"3409\"},{\"id\":\"3435\"},{\"id\":\"3463\"},{\"id\":\"3493\"},{\"id\":\"3525\"},{\"id\":\"3559\"},{\"id\":\"3595\"},{\"id\":\"3633\"}],\"location\":[0,0],\"title\":\"clusters\"},\"id\":\"3362\",\"type\":\"Legend\"},{\"attributes\":{\"data_source\":{\"id\":\"3527\"},\"glyph\":{\"id\":\"3530\"},\"hover_glyph\":null,\"muted_glyph\":{\"id\":\"3532\"},\"nonselection_glyph\":{\"id\":\"3531\"},\"selection_glyph\":{\"id\":\"3560\"},\"view\":{\"id\":\"3534\"}},\"id\":\"3533\",\"type\":\"GlyphRenderer\"},{\"attributes\":{\"overlay\":{\"id\":\"3330\"}},\"id\":\"3328\",\"type\":\"BoxZoomTool\"},{\"attributes\":{\"fill_alpha\":{\"value\":0.1},\"fill_color\":{\"value\":\"#fc4f30\"},\"line_alpha\":{\"value\":0.1},\"line_color\":{\"value\":\"#fc4f30\"},\"size\":{\"value\":5.477225575051661},\"x\":{\"field\":\"PC1\"},\"y\":{\"field\":\"PC3\"}},\"id\":\"3369\",\"type\":\"Scatter\"},{\"attributes\":{},\"id\":\"3329\",\"type\":\"ResetTool\"},{\"attributes\":{\"angle\":{\"value\":0.0},\"fill_alpha\":{\"value\":1.0},\"fill_color\":{\"value\":\"#e5ae38\"},\"hatch_alpha\":{\"value\":1.0},\"hatch_color\":{\"value\":\"black\"},\"hatch_scale\":{\"value\":12.0},\"hatch_weight\":{\"value\":1.0},\"line_alpha\":{\"value\":1.0},\"line_cap\":{\"value\":\"butt\"},\"line_color\":{\"value\":\"#e5ae38\"},\"line_dash\":{\"value\":[]},\"line_dash_offset\":{\"value\":0},\"line_join\":{\"value\":\"bevel\"},\"line_width\":{\"value\":1},\"marker\":{\"value\":\"circle\"},\"size\":{\"value\":5.477225575051661},\"x\":{\"field\":\"PC1\"},\"y\":{\"field\":\"PC3\"}},\"id\":\"3410\",\"type\":\"Scatter\"},{\"attributes\":{\"fill_alpha\":{\"value\":0.2},\"fill_color\":{\"value\":\"#e377c2\"},\"line_alpha\":{\"value\":0.2},\"line_color\":{\"value\":\"#e377c2\"},\"size\":{\"value\":5.477225575051661},\"x\":{\"field\":\"PC1\"},\"y\":{\"field\":\"PC3\"}},\"id\":\"3602\",\"type\":\"Scatter\"},{\"attributes\":{\"fill_alpha\":{\"value\":0.1},\"fill_color\":{\"value\":\"#17becf\"},\"line_alpha\":{\"value\":0.1},\"line_color\":{\"value\":\"#17becf\"},\"size\":{\"value\":5.477225575051661},\"x\":{\"field\":\"PC1\"},\"y\":{\"field\":\"PC3\"}},\"id\":\"3469\",\"type\":\"Scatter\"},{\"attributes\":{},\"id\":\"3432\",\"type\":\"UnionRenderers\"},{\"attributes\":{\"data\":{\"PC1\":{\"__ndarray__\":\"uBcmq5X+C0A=\",\"dtype\":\"float64\",\"order\":\"little\",\"shape\":[1]},\"PC3\":{\"__ndarray__\":\"vBiQ3mIUGUA=\",\"dtype\":\"float64\",\"order\":\"little\",\"shape\":[1]},\"clusters\":[3],\"coin_id\":[\"celsius-degree-token\"]},\"selected\":{\"id\":\"3412\"},\"selection_policy\":{\"id\":\"3432\"}},\"id\":\"3411\",\"type\":\"ColumnDataSource\"},{\"attributes\":{\"angle\":{\"value\":0.0},\"fill_alpha\":{\"value\":1.0},\"fill_color\":{\"value\":\"#d62728\"},\"hatch_alpha\":{\"value\":1.0},\"hatch_color\":{\"value\":\"black\"},\"hatch_scale\":{\"value\":12.0},\"hatch_weight\":{\"value\":1.0},\"line_alpha\":{\"value\":1.0},\"line_cap\":{\"value\":\"butt\"},\"line_color\":{\"value\":\"#d62728\"},\"line_dash\":{\"value\":[]},\"line_dash_offset\":{\"value\":0},\"line_join\":{\"value\":\"bevel\"},\"line_width\":{\"value\":1},\"marker\":{\"value\":\"circle\"},\"size\":{\"value\":5.477225575051661},\"x\":{\"field\":\"PC1\"},\"y\":{\"field\":\"PC3\"}},\"id\":\"3560\",\"type\":\"Scatter\"},{\"attributes\":{},\"id\":\"3345\",\"type\":\"Selection\"},{\"attributes\":{},\"id\":\"3528\",\"type\":\"Selection\"},{\"attributes\":{\"fill_color\":{\"value\":\"#fc4f30\"},\"line_color\":{\"value\":\"#fc4f30\"},\"size\":{\"value\":5.477225575051661},\"x\":{\"field\":\"PC1\"},\"y\":{\"field\":\"PC3\"}},\"id\":\"3368\",\"type\":\"Scatter\"},{\"attributes\":{},\"id\":\"3598\",\"type\":\"Selection\"},{\"attributes\":{\"below\":[{\"id\":\"3317\"}],\"center\":[{\"id\":\"3320\"},{\"id\":\"3324\"}],\"height\":300,\"left\":[{\"id\":\"3321\"}],\"margin\":[5,5,5,5],\"min_border_bottom\":10,\"min_border_left\":10,\"min_border_right\":10,\"min_border_top\":10,\"renderers\":[{\"id\":\"3350\"},{\"id\":\"3371\"},{\"id\":\"3393\"},{\"id\":\"3417\"},{\"id\":\"3443\"},{\"id\":\"3471\"},{\"id\":\"3501\"},{\"id\":\"3533\"},{\"id\":\"3567\"},{\"id\":\"3603\"}],\"right\":[{\"id\":\"3362\"}],\"sizing_mode\":\"fixed\",\"title\":{\"id\":\"3309\"},\"toolbar\":{\"id\":\"3331\"},\"width\":700,\"x_range\":{\"id\":\"3296\"},\"x_scale\":{\"id\":\"3313\"},\"y_range\":{\"id\":\"3297\"},\"y_scale\":{\"id\":\"3315\"}},\"id\":\"3308\",\"subtype\":\"Figure\",\"type\":\"Plot\"},{\"attributes\":{\"data\":{\"PC1\":{\"__ndarray__\":\"K4eSA5pv9r8=\",\"dtype\":\"float64\",\"order\":\"little\",\"shape\":[1]},\"PC3\":{\"__ndarray__\":\"gKwSq86P9z8=\",\"dtype\":\"float64\",\"order\":\"little\",\"shape\":[1]},\"clusters\":[6],\"coin_id\":[\"theta-token\"]},\"selected\":{\"id\":\"3496\"},\"selection_policy\":{\"id\":\"3522\"}},\"id\":\"3495\",\"type\":\"ColumnDataSource\"},{\"attributes\":{\"fill_alpha\":{\"value\":0.2},\"fill_color\":{\"value\":\"#e5ae38\"},\"line_alpha\":{\"value\":0.2},\"line_color\":{\"value\":\"#e5ae38\"},\"size\":{\"value\":5.477225575051661},\"x\":{\"field\":\"PC1\"},\"y\":{\"field\":\"PC3\"}},\"id\":\"3392\",\"type\":\"Scatter\"},{\"attributes\":{\"active_multi\":null,\"tools\":[{\"id\":\"3298\"},{\"id\":\"3325\"},{\"id\":\"3326\"},{\"id\":\"3327\"},{\"id\":\"3328\"},{\"id\":\"3329\"}]},\"id\":\"3331\",\"type\":\"Toolbar\"},{\"attributes\":{\"label\":{\"value\":\"8\"},\"renderers\":[{\"id\":\"3567\"}]},\"id\":\"3595\",\"type\":\"LegendItem\"},{\"attributes\":{\"data\":{\"PC1\":{\"__ndarray__\":\"qNBii3lK5L8=\",\"dtype\":\"float64\",\"order\":\"little\",\"shape\":[1]},\"PC3\":{\"__ndarray__\":\"WJK+j+aeEcA=\",\"dtype\":\"float64\",\"order\":\"little\",\"shape\":[1]},\"clusters\":[2],\"coin_id\":[\"ethlend\"]},\"selected\":{\"id\":\"3388\"},\"selection_policy\":{\"id\":\"3406\"}},\"id\":\"3387\",\"type\":\"ColumnDataSource\"},{\"attributes\":{\"bottom_units\":\"screen\",\"fill_alpha\":0.5,\"fill_color\":\"lightgrey\",\"left_units\":\"screen\",\"level\":\"overlay\",\"line_alpha\":1.0,\"line_color\":\"black\",\"line_dash\":[4,4],\"line_width\":2,\"right_units\":\"screen\",\"syncable\":false,\"top_units\":\"screen\"},\"id\":\"3330\",\"type\":\"BoxAnnotation\"},{\"attributes\":{\"fill_alpha\":{\"value\":0.1},\"fill_color\":{\"value\":\"#6d904f\"},\"line_alpha\":{\"value\":0.1},\"line_color\":{\"value\":\"#6d904f\"},\"size\":{\"value\":5.477225575051661},\"x\":{\"field\":\"PC1\"},\"y\":{\"field\":\"PC3\"}},\"id\":\"3415\",\"type\":\"Scatter\"},{\"attributes\":{\"angle\":{\"value\":0.0},\"fill_alpha\":{\"value\":1.0},\"fill_color\":{\"value\":\"#1f77b4\"},\"hatch_alpha\":{\"value\":1.0},\"hatch_color\":{\"value\":\"black\"},\"hatch_scale\":{\"value\":12.0},\"hatch_weight\":{\"value\":1.0},\"line_alpha\":{\"value\":1.0},\"line_cap\":{\"value\":\"butt\"},\"line_color\":{\"value\":\"#1f77b4\"},\"line_dash\":{\"value\":[]},\"line_dash_offset\":{\"value\":0},\"line_join\":{\"value\":\"bevel\"},\"line_width\":{\"value\":1},\"marker\":{\"value\":\"circle\"},\"size\":{\"value\":5.477225575051661},\"x\":{\"field\":\"PC1\"},\"y\":{\"field\":\"PC3\"}},\"id\":\"3596\",\"type\":\"Scatter\"},{\"attributes\":{\"label\":{\"value\":\"0\"},\"renderers\":[{\"id\":\"3350\"}]},\"id\":\"3363\",\"type\":\"LegendItem\"},{\"attributes\":{\"fill_alpha\":{\"value\":0.2},\"fill_color\":{\"value\":\"#30a2da\"},\"line_alpha\":{\"value\":0.2},\"line_color\":{\"value\":\"#30a2da\"},\"size\":{\"value\":5.477225575051661},\"x\":{\"field\":\"PC1\"},\"y\":{\"field\":\"PC3\"}},\"id\":\"3349\",\"type\":\"Scatter\"},{\"attributes\":{\"data\":{\"PC1\":{\"__ndarray__\":\"yoCELRtn6b88uSl5ZrXsvw==\",\"dtype\":\"float64\",\"order\":\"little\",\"shape\":[2]},\"PC3\":{\"__ndarray__\":\"RmmR4WMb9z++JixuF5v1Pw==\",\"dtype\":\"float64\",\"order\":\"little\",\"shape\":[2]},\"clusters\":[8,8],\"coin_id\":[\"nem\",\"omisego\"]},\"selected\":{\"id\":\"3562\"},\"selection_policy\":{\"id\":\"3592\"}},\"id\":\"3561\",\"type\":\"ColumnDataSource\"},{\"attributes\":{},\"id\":\"3496\",\"type\":\"Selection\"},{\"attributes\":{\"source\":{\"id\":\"3344\"}},\"id\":\"3351\",\"type\":\"CDSView\"},{\"attributes\":{\"fill_color\":{\"value\":\"#6d904f\"},\"line_color\":{\"value\":\"#6d904f\"},\"size\":{\"value\":5.477225575051661},\"x\":{\"field\":\"PC1\"},\"y\":{\"field\":\"PC3\"}},\"id\":\"3414\",\"type\":\"Scatter\"},{\"attributes\":{},\"id\":\"3412\",\"type\":\"Selection\"},{\"attributes\":{\"label\":{\"value\":\"5\"},\"renderers\":[{\"id\":\"3471\"}]},\"id\":\"3493\",\"type\":\"LegendItem\"},{\"attributes\":{},\"id\":\"3359\",\"type\":\"UnionRenderers\"},{\"attributes\":{\"fill_alpha\":{\"value\":0.2},\"fill_color\":{\"value\":\"#fc4f30\"},\"line_alpha\":{\"value\":0.2},\"line_color\":{\"value\":\"#fc4f30\"},\"size\":{\"value\":5.477225575051661},\"x\":{\"field\":\"PC1\"},\"y\":{\"field\":\"PC3\"}},\"id\":\"3370\",\"type\":\"Scatter\"},{\"attributes\":{\"angle\":{\"value\":0.0},\"fill_alpha\":{\"value\":1.0},\"fill_color\":{\"value\":\"#30a2da\"},\"hatch_alpha\":{\"value\":1.0},\"hatch_color\":{\"value\":\"black\"},\"hatch_scale\":{\"value\":12.0},\"hatch_weight\":{\"value\":1.0},\"line_alpha\":{\"value\":1.0},\"line_cap\":{\"value\":\"butt\"},\"line_color\":{\"value\":\"#30a2da\"},\"line_dash\":{\"value\":[]},\"line_dash_offset\":{\"value\":0},\"line_join\":{\"value\":\"bevel\"},\"line_width\":{\"value\":1},\"marker\":{\"value\":\"circle\"},\"size\":{\"value\":5.477225575051661},\"x\":{\"field\":\"PC1\"},\"y\":{\"field\":\"PC3\"}},\"id\":\"3364\",\"type\":\"Scatter\"},{\"attributes\":{\"fill_color\":{\"value\":\"#e5ae38\"},\"line_color\":{\"value\":\"#e5ae38\"},\"size\":{\"value\":5.477225575051661},\"x\":{\"field\":\"PC1\"},\"y\":{\"field\":\"PC3\"}},\"id\":\"3390\",\"type\":\"Scatter\"},{\"attributes\":{},\"id\":\"3466\",\"type\":\"Selection\"},{\"attributes\":{\"data_source\":{\"id\":\"3387\"},\"glyph\":{\"id\":\"3390\"},\"hover_glyph\":null,\"muted_glyph\":{\"id\":\"3392\"},\"nonselection_glyph\":{\"id\":\"3391\"},\"selection_glyph\":{\"id\":\"3410\"},\"view\":{\"id\":\"3394\"}},\"id\":\"3393\",\"type\":\"GlyphRenderer\"},{\"attributes\":{\"fill_color\":{\"value\":\"#9467bd\"},\"line_color\":{\"value\":\"#9467bd\"},\"size\":{\"value\":5.477225575051661},\"x\":{\"field\":\"PC1\"},\"y\":{\"field\":\"PC3\"}},\"id\":\"3498\",\"type\":\"Scatter\"},{\"attributes\":{\"label\":{\"value\":\"1\"},\"renderers\":[{\"id\":\"3371\"}]},\"id\":\"3385\",\"type\":\"LegendItem\"},{\"attributes\":{\"data_source\":{\"id\":\"3344\"},\"glyph\":{\"id\":\"3347\"},\"hover_glyph\":null,\"muted_glyph\":{\"id\":\"3349\"},\"nonselection_glyph\":{\"id\":\"3348\"},\"selection_glyph\":{\"id\":\"3364\"},\"view\":{\"id\":\"3351\"}},\"id\":\"3350\",\"type\":\"GlyphRenderer\"},{\"attributes\":{\"data\":{\"PC1\":{\"__ndarray__\":\"JNNLfdJFAEA+wpqYeun/P8Bok3rG+gJAc+UA1UdR/T+WrjND15cDQAIeN7Y1IABA5J3NMm53AECnoADkUpT5Pw==\",\"dtype\":\"float64\",\"order\":\"little\",\"shape\":[8]},\"PC3\":{\"__ndarray__\":\"IOunLmPj1r+soVocJjHtv+xn98Sqwu+/OoLVBgi757+qQCVb3Dfyv7YbIhZi29a/pSBBUvws7r9KGqgBqobqvw==\",\"dtype\":\"float64\",\"order\":\"little\",\"shape\":[8]},\"clusters\":[4,4,4,4,4,4,4,4],\"coin_id\":[\"bitcoin\",\"ethereum\",\"cardano\",\"litecoin\",\"cosmos\",\"wrapped-bitcoin\",\"zcash\",\"maker\"]},\"selected\":{\"id\":\"3438\"},\"selection_policy\":{\"id\":\"3460\"}},\"id\":\"3437\",\"type\":\"ColumnDataSource\"},{\"attributes\":{\"source\":{\"id\":\"3561\"}},\"id\":\"3568\",\"type\":\"CDSView\"},{\"attributes\":{\"end\":3.9900588774599237,\"reset_end\":3.9900588774599237,\"reset_start\":-2.6542485276789156,\"start\":-2.6542485276789156,\"tags\":[[[\"PC1\",\"PC1\",null]]]},\"id\":\"3296\",\"type\":\"Range1d\"},{\"attributes\":{},\"id\":\"3522\",\"type\":\"UnionRenderers\"},{\"attributes\":{\"source\":{\"id\":\"3365\"}},\"id\":\"3372\",\"type\":\"CDSView\"},{\"attributes\":{\"fill_color\":{\"value\":\"#17becf\"},\"line_color\":{\"value\":\"#17becf\"},\"size\":{\"value\":5.477225575051661},\"x\":{\"field\":\"PC1\"},\"y\":{\"field\":\"PC3\"}},\"id\":\"3468\",\"type\":\"Scatter\"},{\"attributes\":{\"angle\":{\"value\":0.0},\"fill_alpha\":{\"value\":1.0},\"fill_color\":{\"value\":\"#fc4f30\"},\"hatch_alpha\":{\"value\":1.0},\"hatch_color\":{\"value\":\"black\"},\"hatch_scale\":{\"value\":12.0},\"hatch_weight\":{\"value\":1.0},\"line_alpha\":{\"value\":1.0},\"line_cap\":{\"value\":\"butt\"},\"line_color\":{\"value\":\"#fc4f30\"},\"line_dash\":{\"value\":[]},\"line_dash_offset\":{\"value\":0},\"line_join\":{\"value\":\"bevel\"},\"line_width\":{\"value\":1},\"marker\":{\"value\":\"circle\"},\"size\":{\"value\":5.477225575051661},\"x\":{\"field\":\"PC1\"},\"y\":{\"field\":\"PC3\"}},\"id\":\"3386\",\"type\":\"Scatter\"},{\"attributes\":{\"label\":{\"value\":\"6\"},\"renderers\":[{\"id\":\"3501\"}]},\"id\":\"3525\",\"type\":\"LegendItem\"},{\"attributes\":{\"label\":{\"value\":\"2\"},\"renderers\":[{\"id\":\"3393\"}]},\"id\":\"3409\",\"type\":\"LegendItem\"},{\"attributes\":{\"fill_color\":{\"value\":\"#1f77b4\"},\"line_color\":{\"value\":\"#1f77b4\"},\"size\":{\"value\":5.477225575051661},\"x\":{\"field\":\"PC1\"},\"y\":{\"field\":\"PC3\"}},\"id\":\"3564\",\"type\":\"Scatter\"},{\"attributes\":{\"data_source\":{\"id\":\"3365\"},\"glyph\":{\"id\":\"3368\"},\"hover_glyph\":null,\"muted_glyph\":{\"id\":\"3370\"},\"nonselection_glyph\":{\"id\":\"3369\"},\"selection_glyph\":{\"id\":\"3386\"},\"view\":{\"id\":\"3372\"}},\"id\":\"3371\",\"type\":\"GlyphRenderer\"},{\"attributes\":{\"fill_alpha\":{\"value\":0.1},\"fill_color\":{\"value\":\"#e5ae38\"},\"line_alpha\":{\"value\":0.1},\"line_color\":{\"value\":\"#e5ae38\"},\"size\":{\"value\":5.477225575051661},\"x\":{\"field\":\"PC1\"},\"y\":{\"field\":\"PC3\"}},\"id\":\"3391\",\"type\":\"Scatter\"},{\"attributes\":{\"data_source\":{\"id\":\"3495\"},\"glyph\":{\"id\":\"3498\"},\"hover_glyph\":null,\"muted_glyph\":{\"id\":\"3500\"},\"nonselection_glyph\":{\"id\":\"3499\"},\"selection_glyph\":{\"id\":\"3526\"},\"view\":{\"id\":\"3502\"}},\"id\":\"3501\",\"type\":\"GlyphRenderer\"},{\"attributes\":{},\"id\":\"3382\",\"type\":\"UnionRenderers\"},{\"attributes\":{\"source\":{\"id\":\"3387\"}},\"id\":\"3394\",\"type\":\"CDSView\"},{\"attributes\":{\"end\":7.337416887188065,\"reset_end\":7.337416887188065,\"reset_start\":-5.472684877740597,\"start\":-5.472684877740597,\"tags\":[[[\"PC3\",\"PC3\",null]]]},\"id\":\"3297\",\"type\":\"Range1d\"},{\"attributes\":{\"data\":{\"PC1\":{\"__ndarray__\":\"kgL6EoMDAcCo/X9e5pn+v2uZFt3CIgPA7XRmKWUpAsA=\",\"dtype\":\"float64\",\"order\":\"little\",\"shape\":[4]},\"PC3\":{\"__ndarray__\":\"txS+bpuUwD8vC+9BE6mUP2vj2Kb2utq/QpCYe5LD678=\",\"dtype\":\"float64\",\"order\":\"little\",\"shape\":[4]},\"clusters\":[5,5,5,5],\"coin_id\":[\"crypto-com-chain\",\"okb\",\"vechain\",\"ontology\"]},\"selected\":{\"id\":\"3466\"},\"selection_policy\":{\"id\":\"3490\"}},\"id\":\"3465\",\"type\":\"ColumnDataSource\"},{\"attributes\":{\"source\":{\"id\":\"3495\"}},\"id\":\"3502\",\"type\":\"CDSView\"},{\"attributes\":{\"fill_alpha\":{\"value\":0.2},\"fill_color\":{\"value\":\"#9467bd\"},\"line_alpha\":{\"value\":0.2},\"line_color\":{\"value\":\"#9467bd\"},\"size\":{\"value\":5.477225575051661},\"x\":{\"field\":\"PC1\"},\"y\":{\"field\":\"PC3\"}},\"id\":\"3500\",\"type\":\"Scatter\"},{\"attributes\":{},\"id\":\"3438\",\"type\":\"Selection\"},{\"attributes\":{},\"id\":\"3406\",\"type\":\"UnionRenderers\"},{\"attributes\":{},\"id\":\"3366\",\"type\":\"Selection\"},{\"attributes\":{\"label\":{\"value\":\"7\"},\"renderers\":[{\"id\":\"3533\"}]},\"id\":\"3559\",\"type\":\"LegendItem\"}],\"root_ids\":[\"3294\"]},\"title\":\"Bokeh Application\",\"version\":\"2.3.2\"}};\n",
       "    var render_items = [{\"docid\":\"df0d4eda-0418-4b73-aad2-81d4127b3619\",\"root_ids\":[\"3294\"],\"roots\":{\"3294\":\"98ceb38e-eb48-4fd3-9488-69fcfd74cdf0\"}}];\n",
       "    root.Bokeh.embed.embed_items_notebook(docs_json, render_items);\n",
       "  }\n",
       "  if (root.Bokeh !== undefined && root.Bokeh.Panel !== undefined) {\n",
       "    embed_document(root);\n",
       "  } else {\n",
       "    var attempts = 0;\n",
       "    var timer = setInterval(function(root) {\n",
       "      if (root.Bokeh !== undefined && root.Bokeh.Panel !== undefined) {\n",
       "        clearInterval(timer);\n",
       "        embed_document(root);\n",
       "      } else if (document.readyState == \"complete\") {\n",
       "        attempts++;\n",
       "        if (attempts > 200) {\n",
       "          clearInterval(timer);\n",
       "          console.log(\"Bokeh: ERROR: Unable to run BokehJS code because BokehJS library is missing\");\n",
       "        }\n",
       "      }\n",
       "    }, 25, root)\n",
       "  }\n",
       "})(window);</script>"
      ],
      "text/plain": [
       ":NdOverlay   [clusters]\n",
       "   :Scatter   [PC1]   (PC3,coin_id)"
      ]
     },
     "execution_count": 74,
     "metadata": {
      "application/vnd.holoviews_exec.v0+json": {
       "id": "3294"
      }
     },
     "output_type": "execute_result"
    }
   ],
   "source": [
    "# Create a scatter plot using hvPlot by setting \n",
    "# `x=\"price_change_percentage_24h\"` and `y=\"price_change_percentage_7d\"`. \n",
    "# Color the graph points with the labels found using K-Means and \n",
    "# add the crypto name in the `hover_cols` parameter to identify \n",
    "# the cryptocurrency represented by each data point.\n",
    "cluster2 = pca_df_k4.hvplot.scatter(\n",
    "    title=\"PCA clusters 1 & 3\",\n",
    "    x=\"PC1\",\n",
    "    y=\"PC3\",\n",
    "    by=\"clusters\",\n",
    "    hover_cols=\"coin_id\"\n",
    ")\n",
    "cluster2"
   ]
  },
  {
   "cell_type": "markdown",
   "metadata": {},
   "source": [
    "---"
   ]
  },
  {
   "cell_type": "markdown",
   "metadata": {},
   "source": [
    "### Visualize and Compare the Results\n",
    "\n",
    "In this section, you will visually analyze the cluster analysis results by contrasting the outcome with and without using the optimization techniques.\n",
    "\n",
    "1. Create a composite plot using hvPlot and the plus (`+`) operator to contrast the Elbow Curve that you created to find the best value for `k` with the original and the PCA data.\n",
    "\n",
    "2. Create a composite plot using hvPlot and the plus (`+`) operator to contrast the cryptocurrencies clusters using the original and the PCA data.\n",
    "\n",
    "3. Answer the following question: After visually analyzing the cluster analysis results, what is the impact of using fewer features to cluster the data using K-Means?\n",
    "\n",
    "> **Rewind:** Back in Lesson 3 of Module 6, you learned how to create composite plots. You can look at that lesson to review how to make these plots; also, you can check [the hvPlot documentation](https://holoviz.org/tutorial/Composing_Plots.html)."
   ]
  },
  {
   "cell_type": "code",
   "execution_count": 75,
   "metadata": {},
   "outputs": [
    {
     "data": {},
     "metadata": {},
     "output_type": "display_data"
    },
    {
     "data": {
      "application/vnd.holoviews_exec.v0+json": "",
      "text/html": [
       "<div id='4029'>\n",
       "\n",
       "\n",
       "\n",
       "\n",
       "\n",
       "  <div class=\"bk-root\" id=\"b979eee1-4e4b-4615-b018-eb37a53f4b8f\" data-root-id=\"4029\"></div>\n",
       "</div>\n",
       "<script type=\"application/javascript\">(function(root) {\n",
       "  function embed_document(root) {\n",
       "    var docs_json = {\"b28330ef-7168-4aa5-8bde-6c7f0a9e0cc2\":{\"defs\":[{\"extends\":null,\"module\":null,\"name\":\"ReactiveHTML1\",\"overrides\":[],\"properties\":[]},{\"extends\":null,\"module\":null,\"name\":\"FlexBox1\",\"overrides\":[],\"properties\":[{\"default\":\"flex-start\",\"kind\":null,\"name\":\"align_content\"},{\"default\":\"flex-start\",\"kind\":null,\"name\":\"align_items\"},{\"default\":\"row\",\"kind\":null,\"name\":\"flex_direction\"},{\"default\":\"wrap\",\"kind\":null,\"name\":\"flex_wrap\"},{\"default\":\"flex-start\",\"kind\":null,\"name\":\"justify_content\"}]},{\"extends\":null,\"module\":null,\"name\":\"TemplateActions1\",\"overrides\":[],\"properties\":[{\"default\":0,\"kind\":null,\"name\":\"open_modal\"},{\"default\":0,\"kind\":null,\"name\":\"close_modal\"}]},{\"extends\":null,\"module\":null,\"name\":\"MaterialTemplateActions1\",\"overrides\":[],\"properties\":[{\"default\":0,\"kind\":null,\"name\":\"open_modal\"},{\"default\":0,\"kind\":null,\"name\":\"close_modal\"}]}],\"roots\":{\"references\":[{\"attributes\":{\"data_source\":{\"id\":\"4071\"},\"glyph\":{\"id\":\"4074\"},\"hover_glyph\":null,\"muted_glyph\":{\"id\":\"4076\"},\"nonselection_glyph\":{\"id\":\"4075\"},\"selection_glyph\":{\"id\":\"4079\"},\"view\":{\"id\":\"4078\"}},\"id\":\"4077\",\"type\":\"GlyphRenderer\"},{\"attributes\":{},\"id\":\"4052\",\"type\":\"SaveTool\"},{\"attributes\":{\"line_color\":\"#30a2da\",\"line_width\":2,\"x\":{\"field\":\"k\"},\"y\":{\"field\":\"inertia\"}},\"id\":\"4079\",\"type\":\"Line\"},{\"attributes\":{},\"id\":\"4053\",\"type\":\"PanTool\"},{\"attributes\":{},\"id\":\"4056\",\"type\":\"ResetTool\"},{\"attributes\":{\"callback\":null,\"renderers\":[{\"id\":\"4077\"},{\"id\":\"4086\"}],\"tags\":[\"hv_created\"],\"tooltips\":[[\"k\",\"@{k}\"],[\"inertia\",\"@{inertia}\"]]},\"id\":\"4033\",\"type\":\"HoverTool\"},{\"attributes\":{},\"id\":\"4054\",\"type\":\"WheelZoomTool\"},{\"attributes\":{\"overlay\":{\"id\":\"4057\"}},\"id\":\"4055\",\"type\":\"BoxZoomTool\"},{\"attributes\":{\"data_source\":{\"id\":\"4080\"},\"glyph\":{\"id\":\"4083\"},\"hover_glyph\":null,\"muted_glyph\":{\"id\":\"4085\"},\"nonselection_glyph\":{\"id\":\"4084\"},\"selection_glyph\":{\"id\":\"4088\"},\"view\":{\"id\":\"4087\"}},\"id\":\"4086\",\"type\":\"GlyphRenderer\"},{\"attributes\":{},\"id\":\"4068\",\"type\":\"AllLabels\"},{\"attributes\":{},\"id\":\"4069\",\"type\":\"BasicTickFormatter\"},{\"attributes\":{\"axis\":{\"id\":\"4044\"},\"grid_line_color\":null,\"ticker\":null},\"id\":\"4047\",\"type\":\"Grid\"},{\"attributes\":{\"line_color\":\"#fc4f30\",\"line_width\":2,\"x\":{\"field\":\"k\"},\"y\":{\"field\":\"inertia\"}},\"id\":\"4083\",\"type\":\"Line\"},{\"attributes\":{\"end\":357.5143900800264,\"reset_end\":357.5143900800264,\"reset_start\":-23.841415937539683,\"start\":-23.841415937539683,\"tags\":[[[\"inertia\",\"inertia\",null]]]},\"id\":\"4032\",\"type\":\"Range1d\"},{\"attributes\":{},\"id\":\"4040\",\"type\":\"LinearScale\"},{\"attributes\":{\"below\":[{\"id\":\"4044\"}],\"center\":[{\"id\":\"4047\"},{\"id\":\"4051\"}],\"height\":300,\"left\":[{\"id\":\"4048\"}],\"margin\":[5,5,5,5],\"min_border_bottom\":10,\"min_border_left\":10,\"min_border_right\":10,\"min_border_top\":10,\"renderers\":[{\"id\":\"4077\"},{\"id\":\"4086\"}],\"sizing_mode\":\"fixed\",\"title\":{\"id\":\"4036\"},\"toolbar\":{\"id\":\"4058\"},\"width\":700,\"x_range\":{\"id\":\"4031\"},\"x_scale\":{\"id\":\"4040\"},\"y_range\":{\"id\":\"4032\"},\"y_scale\":{\"id\":\"4042\"}},\"id\":\"4035\",\"subtype\":\"Figure\",\"type\":\"Plot\"},{\"attributes\":{},\"id\":\"4065\",\"type\":\"AllLabels\"},{\"attributes\":{\"line_color\":\"#30a2da\",\"line_width\":2,\"x\":{\"field\":\"k\"},\"y\":{\"field\":\"inertia\"}},\"id\":\"4074\",\"type\":\"Line\"},{\"attributes\":{\"margin\":[5,5,5,5],\"name\":\"HSpacer08120\",\"sizing_mode\":\"stretch_width\"},\"id\":\"4197\",\"type\":\"Spacer\"},{\"attributes\":{},\"id\":\"4042\",\"type\":\"LinearScale\"},{\"attributes\":{\"axis_label\":\"inertia\",\"formatter\":{\"id\":\"4069\"},\"major_label_policy\":{\"id\":\"4068\"},\"ticker\":{\"id\":\"4049\"}},\"id\":\"4048\",\"type\":\"LinearAxis\"},{\"attributes\":{\"axis_label\":\"k\",\"formatter\":{\"id\":\"4066\"},\"major_label_policy\":{\"id\":\"4065\"},\"ticker\":{\"id\":\"4045\"}},\"id\":\"4044\",\"type\":\"LinearAxis\"},{\"attributes\":{\"line_alpha\":0.2,\"line_color\":\"#30a2da\",\"line_width\":2,\"x\":{\"field\":\"k\"},\"y\":{\"field\":\"inertia\"}},\"id\":\"4076\",\"type\":\"Line\"},{\"attributes\":{\"line_alpha\":0.1,\"line_color\":\"#fc4f30\",\"line_width\":2,\"x\":{\"field\":\"k\"},\"y\":{\"field\":\"inertia\"}},\"id\":\"4084\",\"type\":\"Line\"},{\"attributes\":{\"data\":{\"inertia\":{\"__ndarray__\":\"DNBJfsFbdEB4jgI0NClpQOvljuIn71tALKyynUAZREC5zPucyoM9QGxpBZ0p/TRAlKD1eOS6LkC70nrCQgUoQBgOaMzNVCNA1B/Aj8DAH0A=\",\"dtype\":\"float64\",\"order\":\"little\",\"shape\":[10]},\"k\":[1,2,3,4,5,6,7,8,9,10]},\"selected\":{\"id\":\"4081\"},\"selection_policy\":{\"id\":\"4098\"}},\"id\":\"4080\",\"type\":\"ColumnDataSource\"},{\"attributes\":{\"line_alpha\":0.2,\"line_color\":\"#fc4f30\",\"line_width\":2,\"x\":{\"field\":\"k\"},\"y\":{\"field\":\"inertia\"}},\"id\":\"4085\",\"type\":\"Line\"},{\"attributes\":{},\"id\":\"4049\",\"type\":\"BasicTicker\"},{\"attributes\":{\"active_multi\":null,\"tools\":[{\"id\":\"4033\"},{\"id\":\"4052\"},{\"id\":\"4053\"},{\"id\":\"4054\"},{\"id\":\"4055\"},{\"id\":\"4056\"}]},\"id\":\"4058\",\"type\":\"Toolbar\"},{\"attributes\":{\"axis\":{\"id\":\"4048\"},\"dimension\":1,\"grid_line_color\":null,\"ticker\":null},\"id\":\"4051\",\"type\":\"Grid\"},{\"attributes\":{\"children\":[{\"id\":\"4030\"},{\"id\":\"4035\"},{\"id\":\"4197\"}],\"margin\":[0,0,0,0],\"name\":\"Row08115\",\"tags\":[\"embedded\"]},\"id\":\"4029\",\"type\":\"Row\"},{\"attributes\":{\"margin\":[5,5,5,5],\"name\":\"HSpacer08119\",\"sizing_mode\":\"stretch_width\"},\"id\":\"4030\",\"type\":\"Spacer\"},{\"attributes\":{},\"id\":\"4072\",\"type\":\"Selection\"},{\"attributes\":{\"end\":10.0,\"reset_end\":10.0,\"reset_start\":1.0,\"start\":1.0,\"tags\":[[[\"k\",\"k\",null]]]},\"id\":\"4031\",\"type\":\"Range1d\"},{\"attributes\":{\"source\":{\"id\":\"4071\"}},\"id\":\"4078\",\"type\":\"CDSView\"},{\"attributes\":{},\"id\":\"4066\",\"type\":\"BasicTickFormatter\"},{\"attributes\":{\"bottom_units\":\"screen\",\"fill_alpha\":0.5,\"fill_color\":\"lightgrey\",\"left_units\":\"screen\",\"level\":\"overlay\",\"line_alpha\":1.0,\"line_color\":\"black\",\"line_dash\":[4,4],\"line_width\":2,\"right_units\":\"screen\",\"syncable\":false,\"top_units\":\"screen\"},\"id\":\"4057\",\"type\":\"BoxAnnotation\"},{\"attributes\":{\"line_alpha\":0.1,\"line_color\":\"#30a2da\",\"line_width\":2,\"x\":{\"field\":\"k\"},\"y\":{\"field\":\"inertia\"}},\"id\":\"4075\",\"type\":\"Line\"},{\"attributes\":{\"source\":{\"id\":\"4080\"}},\"id\":\"4087\",\"type\":\"CDSView\"},{\"attributes\":{\"text\":\"elbow to find optimal k\",\"text_color\":\"black\",\"text_font_size\":\"12pt\"},\"id\":\"4036\",\"type\":\"Title\"},{\"attributes\":{\"line_color\":\"#fc4f30\",\"line_width\":2,\"x\":{\"field\":\"k\"},\"y\":{\"field\":\"inertia\"}},\"id\":\"4088\",\"type\":\"Line\"},{\"attributes\":{\"data\":{\"inertia\":{\"__ndarray__\":\"AAAAAADwcUByhzI6P3poQOGRvNowzF5AGe6ulG/BU0BoEQsuWlNQQOfqC/e6cUpAiSebkxT1RUBt++EeLsJCQMF0IF8cPkBAi3eL7Q85PEA=\",\"dtype\":\"float64\",\"order\":\"little\",\"shape\":[10]},\"k\":[1,2,3,4,5,6,7,8,9,10]},\"selected\":{\"id\":\"4072\"},\"selection_policy\":{\"id\":\"4096\"}},\"id\":\"4071\",\"type\":\"ColumnDataSource\"},{\"attributes\":{},\"id\":\"4098\",\"type\":\"UnionRenderers\"},{\"attributes\":{},\"id\":\"4081\",\"type\":\"Selection\"},{\"attributes\":{},\"id\":\"4096\",\"type\":\"UnionRenderers\"},{\"attributes\":{},\"id\":\"4045\",\"type\":\"BasicTicker\"}],\"root_ids\":[\"4029\"]},\"title\":\"Bokeh Application\",\"version\":\"2.3.2\"}};\n",
       "    var render_items = [{\"docid\":\"b28330ef-7168-4aa5-8bde-6c7f0a9e0cc2\",\"root_ids\":[\"4029\"],\"roots\":{\"4029\":\"b979eee1-4e4b-4615-b018-eb37a53f4b8f\"}}];\n",
       "    root.Bokeh.embed.embed_items_notebook(docs_json, render_items);\n",
       "  }\n",
       "  if (root.Bokeh !== undefined && root.Bokeh.Panel !== undefined) {\n",
       "    embed_document(root);\n",
       "  } else {\n",
       "    var attempts = 0;\n",
       "    var timer = setInterval(function(root) {\n",
       "      if (root.Bokeh !== undefined && root.Bokeh.Panel !== undefined) {\n",
       "        clearInterval(timer);\n",
       "        embed_document(root);\n",
       "      } else if (document.readyState == \"complete\") {\n",
       "        attempts++;\n",
       "        if (attempts > 200) {\n",
       "          clearInterval(timer);\n",
       "          console.log(\"Bokeh: ERROR: Unable to run BokehJS code because BokehJS library is missing\");\n",
       "        }\n",
       "      }\n",
       "    }, 25, root)\n",
       "  }\n",
       "})(window);</script>"
      ],
      "text/plain": [
       ":Overlay\n",
       "   .Curve.I  :Curve   [k]   (inertia)\n",
       "   .Curve.II :Curve   [k]   (inertia)"
      ]
     },
     "execution_count": 75,
     "metadata": {
      "application/vnd.holoviews_exec.v0+json": {
       "id": "4029"
      }
     },
     "output_type": "execute_result"
    }
   ],
   "source": [
    "# Composite plot to contrast the Elbow curves\n",
    "elbow * elbow2"
   ]
  },
  {
   "cell_type": "code",
   "execution_count": 77,
   "metadata": {},
   "outputs": [
    {
     "data": {},
     "metadata": {},
     "output_type": "display_data"
    },
    {
     "data": {
      "application/vnd.holoviews_exec.v0+json": "",
      "text/html": [
       "<div id='4259'>\n",
       "\n",
       "\n",
       "\n",
       "\n",
       "\n",
       "  <div class=\"bk-root\" id=\"6ccd3477-92e7-440c-805b-25395fef229d\" data-root-id=\"4259\"></div>\n",
       "</div>\n",
       "<script type=\"application/javascript\">(function(root) {\n",
       "  function embed_document(root) {\n",
       "    var docs_json = {\"b1b285cb-42f8-4240-a7ee-11bb528708f5\":{\"defs\":[{\"extends\":null,\"module\":null,\"name\":\"ReactiveHTML1\",\"overrides\":[],\"properties\":[]},{\"extends\":null,\"module\":null,\"name\":\"FlexBox1\",\"overrides\":[],\"properties\":[{\"default\":\"flex-start\",\"kind\":null,\"name\":\"align_content\"},{\"default\":\"flex-start\",\"kind\":null,\"name\":\"align_items\"},{\"default\":\"row\",\"kind\":null,\"name\":\"flex_direction\"},{\"default\":\"wrap\",\"kind\":null,\"name\":\"flex_wrap\"},{\"default\":\"flex-start\",\"kind\":null,\"name\":\"justify_content\"}]},{\"extends\":null,\"module\":null,\"name\":\"TemplateActions1\",\"overrides\":[],\"properties\":[{\"default\":0,\"kind\":null,\"name\":\"open_modal\"},{\"default\":0,\"kind\":null,\"name\":\"close_modal\"}]},{\"extends\":null,\"module\":null,\"name\":\"MaterialTemplateActions1\",\"overrides\":[],\"properties\":[{\"default\":0,\"kind\":null,\"name\":\"open_modal\"},{\"default\":0,\"kind\":null,\"name\":\"close_modal\"}]}],\"roots\":{\"references\":[{\"attributes\":{\"fill_alpha\":{\"value\":0.1},\"fill_color\":{\"value\":\"#9467bd\"},\"line_alpha\":{\"value\":0.1},\"line_color\":{\"value\":\"#9467bd\"},\"size\":{\"value\":5.477225575051661},\"x\":{\"field\":\"PC1\"},\"y\":{\"field\":\"PC3\"}},\"id\":\"4579\",\"type\":\"Scatter\"},{\"attributes\":{\"fill_color\":{\"value\":\"#9467bd\"},\"line_color\":{\"value\":\"#9467bd\"},\"size\":{\"value\":5.477225575051661},\"x\":{\"field\":\"PC1\"},\"y\":{\"field\":\"PC3\"}},\"id\":\"4578\",\"type\":\"Scatter\"},{\"attributes\":{\"fill_alpha\":{\"value\":0.1},\"fill_color\":{\"value\":\"#d62728\"},\"line_alpha\":{\"value\":0.1},\"line_color\":{\"value\":\"#d62728\"},\"size\":{\"value\":5.477225575051661},\"x\":{\"field\":\"PC1\"},\"y\":{\"field\":\"PC3\"}},\"id\":\"4610\",\"type\":\"Scatter\"},{\"attributes\":{\"fill_color\":{\"value\":\"#bcbd22\"},\"line_color\":{\"value\":\"#bcbd22\"},\"size\":{\"value\":5.477225575051661},\"x\":{\"field\":\"PC1\"},\"y\":{\"field\":\"PC3\"}},\"id\":\"4756\",\"type\":\"Scatter\"},{\"attributes\":{},\"id\":\"4714\",\"type\":\"Selection\"},{\"attributes\":{\"fill_alpha\":{\"value\":0.2},\"fill_color\":{\"value\":\"#9467bd\"},\"line_alpha\":{\"value\":0.2},\"line_color\":{\"value\":\"#9467bd\"},\"size\":{\"value\":5.477225575051661},\"x\":{\"field\":\"PC1\"},\"y\":{\"field\":\"PC3\"}},\"id\":\"4580\",\"type\":\"Scatter\"},{\"attributes\":{},\"id\":\"4520\",\"type\":\"Selection\"},{\"attributes\":{\"angle\":{\"value\":0.0},\"fill_alpha\":{\"value\":1.0},\"fill_color\":{\"value\":\"#fc4f30\"},\"hatch_alpha\":{\"value\":1.0},\"hatch_color\":{\"value\":\"black\"},\"hatch_scale\":{\"value\":12.0},\"hatch_weight\":{\"value\":1.0},\"line_alpha\":{\"value\":1.0},\"line_cap\":{\"value\":\"butt\"},\"line_color\":{\"value\":\"#fc4f30\"},\"line_dash\":{\"value\":[]},\"line_dash_offset\":{\"value\":0},\"line_join\":{\"value\":\"bevel\"},\"line_width\":{\"value\":1},\"marker\":{\"value\":\"circle\"},\"size\":{\"value\":5.477225575051661},\"x\":{\"field\":\"price_change_percentage_24h\"},\"y\":{\"field\":\"price_change_percentage_7d\"}},\"id\":\"4356\",\"type\":\"Scatter\"},{\"attributes\":{\"fill_alpha\":{\"value\":0.2},\"fill_color\":{\"value\":\"#30a2da\"},\"line_alpha\":{\"value\":0.2},\"line_color\":{\"value\":\"#30a2da\"},\"size\":{\"value\":5.477225575051661},\"x\":{\"field\":\"price_change_percentage_24h\"},\"y\":{\"field\":\"price_change_percentage_7d\"}},\"id\":\"4319\",\"type\":\"Scatter\"},{\"attributes\":{\"data_source\":{\"id\":\"4519\"},\"glyph\":{\"id\":\"4522\"},\"hover_glyph\":null,\"muted_glyph\":{\"id\":\"4524\"},\"nonselection_glyph\":{\"id\":\"4523\"},\"selection_glyph\":{\"id\":\"4545\"},\"view\":{\"id\":\"4526\"}},\"id\":\"4525\",\"type\":\"GlyphRenderer\"},{\"attributes\":{\"click_policy\":\"mute\",\"items\":[{\"id\":\"4333\"},{\"id\":\"4355\"},{\"id\":\"4379\"},{\"id\":\"4405\"},{\"id\":\"4673\"},{\"id\":\"4711\"},{\"id\":\"4751\"},{\"id\":\"4793\"},{\"id\":\"4837\"},{\"id\":\"4883\"}],\"location\":[0,0]},\"id\":\"4332\",\"type\":\"Legend\"},{\"attributes\":{},\"id\":\"4571\",\"type\":\"UnionRenderers\"},{\"attributes\":{},\"id\":\"4840\",\"type\":\"Selection\"},{\"attributes\":{\"fill_alpha\":{\"value\":0.2},\"fill_color\":{\"value\":\"#8b8b8b\"},\"line_alpha\":{\"value\":0.2},\"line_color\":{\"value\":\"#8b8b8b\"},\"size\":{\"value\":5.477225575051661},\"x\":{\"field\":\"PC1\"},\"y\":{\"field\":\"PC3\"}},\"id\":\"4524\",\"type\":\"Scatter\"},{\"attributes\":{},\"id\":\"4602\",\"type\":\"UnionRenderers\"},{\"attributes\":{\"fill_alpha\":{\"value\":0.2},\"fill_color\":{\"value\":\"#6d904f\"},\"line_alpha\":{\"value\":0.2},\"line_color\":{\"value\":\"#6d904f\"},\"size\":{\"value\":5.477225575051661},\"x\":{\"field\":\"price_change_percentage_24h\"},\"y\":{\"field\":\"price_change_percentage_7d\"}},\"id\":\"4386\",\"type\":\"Scatter\"},{\"attributes\":{\"fill_alpha\":{\"value\":0.2},\"fill_color\":{\"value\":\"#17becf\"},\"line_alpha\":{\"value\":0.2},\"line_color\":{\"value\":\"#17becf\"},\"size\":{\"value\":5.477225575051661},\"x\":{\"field\":\"PC1\"},\"y\":{\"field\":\"PC3\"}},\"id\":\"4551\",\"type\":\"Scatter\"},{\"attributes\":{\"fill_color\":{\"value\":\"#fc4f30\"},\"line_color\":{\"value\":\"#fc4f30\"},\"size\":{\"value\":5.477225575051661},\"x\":{\"field\":\"PC1\"},\"y\":{\"field\":\"PC3\"}},\"id\":\"4842\",\"type\":\"Scatter\"},{\"attributes\":{},\"id\":\"4376\",\"type\":\"UnionRenderers\"},{\"attributes\":{\"fill_alpha\":{\"value\":0.2},\"fill_color\":{\"value\":\"#1f77b4\"},\"line_alpha\":{\"value\":0.2},\"line_color\":{\"value\":\"#1f77b4\"},\"size\":{\"value\":5.477225575051661},\"x\":{\"field\":\"PC1\"},\"y\":{\"field\":\"PC3\"}},\"id\":\"4644\",\"type\":\"Scatter\"},{\"attributes\":{},\"id\":\"4308\",\"type\":\"AllLabels\"},{\"attributes\":{\"fill_alpha\":{\"value\":0.1},\"fill_color\":{\"value\":\"#8b8b8b\"},\"line_alpha\":{\"value\":0.1},\"line_color\":{\"value\":\"#8b8b8b\"},\"size\":{\"value\":5.477225575051661},\"x\":{\"field\":\"PC1\"},\"y\":{\"field\":\"PC3\"}},\"id\":\"4523\",\"type\":\"Scatter\"},{\"attributes\":{\"fill_color\":{\"value\":\"#8b8b8b\"},\"line_color\":{\"value\":\"#8b8b8b\"},\"size\":{\"value\":5.477225575051661},\"x\":{\"field\":\"PC1\"},\"y\":{\"field\":\"PC3\"}},\"id\":\"4522\",\"type\":\"Scatter\"},{\"attributes\":{\"source\":{\"id\":\"4639\"}},\"id\":\"4646\",\"type\":\"CDSView\"},{\"attributes\":{\"source\":{\"id\":\"4314\"}},\"id\":\"4321\",\"type\":\"CDSView\"},{\"attributes\":{\"fill_alpha\":{\"value\":0.2},\"fill_color\":{\"value\":\"#bcbd22\"},\"line_alpha\":{\"value\":0.2},\"line_color\":{\"value\":\"#bcbd22\"},\"size\":{\"value\":5.477225575051661},\"x\":{\"field\":\"PC1\"},\"y\":{\"field\":\"PC3\"}},\"id\":\"4758\",\"type\":\"Scatter\"},{\"attributes\":{},\"id\":\"4329\",\"type\":\"UnionRenderers\"},{\"attributes\":{\"fill_alpha\":{\"value\":0.1},\"fill_color\":{\"value\":\"#bcbd22\"},\"line_alpha\":{\"value\":0.1},\"line_color\":{\"value\":\"#bcbd22\"},\"size\":{\"value\":5.477225575051661},\"x\":{\"field\":\"PC1\"},\"y\":{\"field\":\"PC3\"}},\"id\":\"4757\",\"type\":\"Scatter\"},{\"attributes\":{\"label\":{\"value\":\"7\"},\"renderers\":[{\"id\":\"4759\"}]},\"id\":\"4793\",\"type\":\"LegendItem\"},{\"attributes\":{\"data\":{\"PC1\":{\"__ndarray__\":\"opXVt8EY8b/avP1Qmqfwv9TsAiEAs+2/L2wh725O8b+toly7tobzv/f+wvZQK+m/+SnKzXoL879TQPhaV/vwv6aYrfgUnPm/0PPK46uz+L+PCDVwRmzvv47eoDOV+PC/imeaqsaY7r8vAOzA9y7svxQusjkbVe+/O2iHiRvt47+ljh6Yd7/wv7o080Hbx/K/\",\"dtype\":\"float64\",\"order\":\"little\",\"shape\":[18]},\"PC3\":{\"__ndarray__\":\"0jNJZPoU4z9iZtLAcvDdP9brFdpkVdU/1t4EfgpI4z8zenhHpUHTPwzufq6EbdM/5avagTaLwr/+k59fEOzjP2JnuN2e+JY/US/gisR13D9wnUl65QLaPyDmN4ecleM/Iqj/UE5swb/5bp2xMB7Gv2ToOup9/sQ/uk3zWkil0T+4TpfIVb3jPyinM8sT7uY/\",\"dtype\":\"float64\",\"order\":\"little\",\"shape\":[18]},\"clusters\":[1,1,1,1,1,1,1,1,1,1,1,1,1,1,1,1,1,1],\"coin_id\":[\"tether\",\"ripple\",\"bitcoin-cash-sv\",\"usd-coin\",\"eos\",\"tron\",\"stellar\",\"cdai\",\"neo\",\"leo-token\",\"huobi-token\",\"binance-usd\",\"iota\",\"dash\",\"ethereum-classic\",\"ftx-token\",\"true-usd\",\"digibyte\"]},\"selected\":{\"id\":\"4547\"},\"selection_policy\":{\"id\":\"4571\"}},\"id\":\"4546\",\"type\":\"ColumnDataSource\"},{\"attributes\":{\"fill_color\":{\"value\":\"#30a2da\"},\"line_color\":{\"value\":\"#30a2da\"},\"size\":{\"value\":5.477225575051661},\"x\":{\"field\":\"PC1\"},\"y\":{\"field\":\"PC3\"}},\"id\":\"4798\",\"type\":\"Scatter\"},{\"attributes\":{},\"id\":\"4708\",\"type\":\"UnionRenderers\"},{\"attributes\":{\"source\":{\"id\":\"4713\"}},\"id\":\"4720\",\"type\":\"CDSView\"},{\"attributes\":{\"margin\":[5,5,5,5],\"name\":\"HSpacer08451\",\"sizing_mode\":\"stretch_width\"},\"id\":\"5461\",\"type\":\"Spacer\"},{\"attributes\":{\"data_source\":{\"id\":\"4606\"},\"glyph\":{\"id\":\"4609\"},\"hover_glyph\":null,\"muted_glyph\":{\"id\":\"4611\"},\"nonselection_glyph\":{\"id\":\"4610\"},\"selection_glyph\":{\"id\":\"4638\"},\"view\":{\"id\":\"4613\"}},\"id\":\"4612\",\"type\":\"GlyphRenderer\"},{\"attributes\":{\"label\":{\"value\":\"1\"},\"renderers\":[{\"id\":\"4341\"},{\"id\":\"4552\"}]},\"id\":\"4355\",\"type\":\"LegendItem\"},{\"attributes\":{\"fill_alpha\":{\"value\":0.1},\"fill_color\":{\"value\":\"#e5ae38\"},\"line_alpha\":{\"value\":0.1},\"line_color\":{\"value\":\"#e5ae38\"},\"size\":{\"value\":5.477225575051661},\"x\":{\"field\":\"price_change_percentage_24h\"},\"y\":{\"field\":\"price_change_percentage_7d\"}},\"id\":\"4361\",\"type\":\"Scatter\"},{\"attributes\":{},\"id\":\"4748\",\"type\":\"UnionRenderers\"},{\"attributes\":{\"source\":{\"id\":\"4675\"}},\"id\":\"4682\",\"type\":\"CDSView\"},{\"attributes\":{\"fill_alpha\":{\"value\":0.1},\"fill_color\":{\"value\":\"#8c564b\"},\"line_alpha\":{\"value\":0.1},\"line_color\":{\"value\":\"#8c564b\"},\"size\":{\"value\":5.477225575051661},\"x\":{\"field\":\"PC1\"},\"y\":{\"field\":\"PC3\"}},\"id\":\"4717\",\"type\":\"Scatter\"},{\"attributes\":{\"data_source\":{\"id\":\"4314\"},\"glyph\":{\"id\":\"4317\"},\"hover_glyph\":null,\"muted_glyph\":{\"id\":\"4319\"},\"nonselection_glyph\":{\"id\":\"4318\"},\"selection_glyph\":{\"id\":\"4334\"},\"view\":{\"id\":\"4321\"}},\"id\":\"4320\",\"type\":\"GlyphRenderer\"},{\"attributes\":{\"angle\":{\"value\":0.0},\"fill_alpha\":{\"value\":1.0},\"fill_color\":{\"value\":\"#fc4f30\"},\"hatch_alpha\":{\"value\":1.0},\"hatch_color\":{\"value\":\"black\"},\"hatch_scale\":{\"value\":12.0},\"hatch_weight\":{\"value\":1.0},\"line_alpha\":{\"value\":1.0},\"line_cap\":{\"value\":\"butt\"},\"line_color\":{\"value\":\"#fc4f30\"},\"line_dash\":{\"value\":[]},\"line_dash_offset\":{\"value\":0},\"line_join\":{\"value\":\"bevel\"},\"line_width\":{\"value\":1},\"marker\":{\"value\":\"circle\"},\"size\":{\"value\":5.477225575051661},\"x\":{\"field\":\"PC1\"},\"y\":{\"field\":\"PC3\"}},\"id\":\"4884\",\"type\":\"Scatter\"},{\"attributes\":{\"data_source\":{\"id\":\"4753\"},\"glyph\":{\"id\":\"4756\"},\"hover_glyph\":null,\"muted_glyph\":{\"id\":\"4758\"},\"nonselection_glyph\":{\"id\":\"4757\"},\"selection_glyph\":{\"id\":\"4794\"},\"view\":{\"id\":\"4760\"}},\"id\":\"4759\",\"type\":\"GlyphRenderer\"},{\"attributes\":{\"label\":{\"value\":\"2\"},\"renderers\":[{\"id\":\"4363\"},{\"id\":\"4581\"}]},\"id\":\"4379\",\"type\":\"LegendItem\"},{\"attributes\":{},\"id\":\"4635\",\"type\":\"UnionRenderers\"},{\"attributes\":{\"data_source\":{\"id\":\"4381\"},\"glyph\":{\"id\":\"4384\"},\"hover_glyph\":null,\"muted_glyph\":{\"id\":\"4386\"},\"nonselection_glyph\":{\"id\":\"4385\"},\"selection_glyph\":{\"id\":\"4406\"},\"view\":{\"id\":\"4388\"}},\"id\":\"4387\",\"type\":\"GlyphRenderer\"},{\"attributes\":{\"fill_alpha\":{\"value\":0.2},\"fill_color\":{\"value\":\"#e5ae38\"},\"line_alpha\":{\"value\":0.2},\"line_color\":{\"value\":\"#e5ae38\"},\"size\":{\"value\":5.477225575051661},\"x\":{\"field\":\"price_change_percentage_24h\"},\"y\":{\"field\":\"price_change_percentage_7d\"}},\"id\":\"4362\",\"type\":\"Scatter\"},{\"attributes\":{},\"id\":\"4790\",\"type\":\"UnionRenderers\"},{\"attributes\":{\"angle\":{\"value\":0.0},\"fill_alpha\":{\"value\":1.0},\"fill_color\":{\"value\":\"#1f77b4\"},\"hatch_alpha\":{\"value\":1.0},\"hatch_color\":{\"value\":\"black\"},\"hatch_scale\":{\"value\":12.0},\"hatch_weight\":{\"value\":1.0},\"line_alpha\":{\"value\":1.0},\"line_cap\":{\"value\":\"butt\"},\"line_color\":{\"value\":\"#1f77b4\"},\"line_dash\":{\"value\":[]},\"line_dash_offset\":{\"value\":0},\"line_join\":{\"value\":\"bevel\"},\"line_width\":{\"value\":1},\"marker\":{\"value\":\"circle\"},\"size\":{\"value\":5.477225575051661},\"x\":{\"field\":\"PC1\"},\"y\":{\"field\":\"PC3\"}},\"id\":\"4674\",\"type\":\"Scatter\"},{\"attributes\":{\"end\":4.10101896250161,\"reset_end\":4.10101896250161,\"reset_start\":-5.3542772636932865,\"start\":-5.3542772636932865,\"tags\":[[[\"price_change_percentage_24h\",\"price_change_percentage_24h\",null]]]},\"id\":\"4261\",\"type\":\"Range1d\"},{\"attributes\":{\"label\":{\"value\":\"4\"},\"renderers\":[{\"id\":\"4645\"}]},\"id\":\"4673\",\"type\":\"LegendItem\"},{\"attributes\":{},\"id\":\"4358\",\"type\":\"Selection\"},{\"attributes\":{\"fill_alpha\":{\"value\":0.2},\"fill_color\":{\"value\":\"#d62728\"},\"line_alpha\":{\"value\":0.2},\"line_color\":{\"value\":\"#d62728\"},\"size\":{\"value\":5.477225575051661},\"x\":{\"field\":\"PC1\"},\"y\":{\"field\":\"PC3\"}},\"id\":\"4611\",\"type\":\"Scatter\"},{\"attributes\":{\"data\":{\"PC1\":{\"__ndarray__\":\"QIjbcg9sCkA0dfgJqAsEQF9XRjOA0g1A\",\"dtype\":\"float64\",\"order\":\"little\",\"shape\":[3]},\"PC3\":{\"__ndarray__\":\"yajnOrPPy79gotTQzY/Av5ejkMOt6uQ/\",\"dtype\":\"float64\",\"order\":\"little\",\"shape\":[3]},\"clusters\":[7,7,7],\"coin_id\":[\"bitcoin-cash\",\"binancecoin\",\"monero\"]},\"selected\":{\"id\":\"4754\"},\"selection_policy\":{\"id\":\"4790\"}},\"id\":\"4753\",\"type\":\"ColumnDataSource\"},{\"attributes\":{},\"id\":\"4796\",\"type\":\"Selection\"},{\"attributes\":{\"data\":{\"clusters\":[1],\"coin_id\":[\"ethlend\"],\"price_change_percentage_24h\":{\"__ndarray__\":\"3WeHPpbsE8A=\",\"dtype\":\"float64\",\"order\":\"little\",\"shape\":[1]},\"price_change_percentage_7d\":{\"__ndarray__\":\"dIWi2pshp78=\",\"dtype\":\"float64\",\"order\":\"little\",\"shape\":[1]}},\"selected\":{\"id\":\"4336\"},\"selection_policy\":{\"id\":\"4352\"}},\"id\":\"4335\",\"type\":\"ColumnDataSource\"},{\"attributes\":{\"angle\":{\"value\":0.0},\"fill_alpha\":{\"value\":1.0},\"fill_color\":{\"value\":\"#8c564b\"},\"hatch_alpha\":{\"value\":1.0},\"hatch_color\":{\"value\":\"black\"},\"hatch_scale\":{\"value\":12.0},\"hatch_weight\":{\"value\":1.0},\"line_alpha\":{\"value\":1.0},\"line_cap\":{\"value\":\"butt\"},\"line_color\":{\"value\":\"#8c564b\"},\"line_dash\":{\"value\":[]},\"line_dash_offset\":{\"value\":0},\"line_join\":{\"value\":\"bevel\"},\"line_width\":{\"value\":1},\"marker\":{\"value\":\"circle\"},\"size\":{\"value\":5.477225575051661},\"x\":{\"field\":\"PC1\"},\"y\":{\"field\":\"PC3\"}},\"id\":\"4752\",\"type\":\"Scatter\"},{\"attributes\":{\"source\":{\"id\":\"4357\"}},\"id\":\"4364\",\"type\":\"CDSView\"},{\"attributes\":{\"source\":{\"id\":\"4519\"}},\"id\":\"4526\",\"type\":\"CDSView\"},{\"attributes\":{\"data_source\":{\"id\":\"4675\"},\"glyph\":{\"id\":\"4678\"},\"hover_glyph\":null,\"muted_glyph\":{\"id\":\"4680\"},\"nonselection_glyph\":{\"id\":\"4679\"},\"selection_glyph\":{\"id\":\"4712\"},\"view\":{\"id\":\"4682\"}},\"id\":\"4681\",\"type\":\"GlyphRenderer\"},{\"attributes\":{\"data\":{\"clusters\":[0,0,0,0,0,0,0,0,0,0,0,0,0],\"coin_id\":[\"bitcoin\",\"ethereum\",\"bitcoin-cash\",\"binancecoin\",\"chainlink\",\"cardano\",\"litecoin\",\"monero\",\"tezos\",\"cosmos\",\"wrapped-bitcoin\",\"zcash\",\"maker\"],\"price_change_percentage_24h\":{\"__ndarray__\":\"DdlqYN9F4D86azDosLzHPzALIwCtFvM/9w6McDSK7D/VDHOpb1eHPzMEvaFkP7o/Sds39trWsz9Epj8/c9DQP4xAeNEVZ8O/qq8st/Fh0L8FWWk3mH7gP6wo083aUMC//ACFOIMFwL8=\",\"dtype\":\"float64\",\"order\":\"little\",\"shape\":[13]},\"price_change_percentage_7d\":{\"__ndarray__\":\"U1k8q3mQ3z9yoPpI+ebtPzAB2dP2AQBAgmkOMZk89T8FNulI+JMEQCZRaSLGIPg/84wjaB1l1T8rMp3jf678P2VmURqKqeY/XK6ZksNx/T9DfMqy1o7dPyTPDB1Xu+0/srW7TleV4j8=\",\"dtype\":\"float64\",\"order\":\"little\",\"shape\":[13]}},\"selected\":{\"id\":\"4315\"},\"selection_policy\":{\"id\":\"4329\"}},\"id\":\"4314\",\"type\":\"ColumnDataSource\"},{\"attributes\":{},\"id\":\"4754\",\"type\":\"Selection\"},{\"attributes\":{},\"id\":\"4834\",\"type\":\"UnionRenderers\"},{\"attributes\":{\"angle\":{\"value\":0.0},\"fill_alpha\":{\"value\":1.0},\"fill_color\":{\"value\":\"#d62728\"},\"hatch_alpha\":{\"value\":1.0},\"hatch_color\":{\"value\":\"black\"},\"hatch_scale\":{\"value\":12.0},\"hatch_weight\":{\"value\":1.0},\"line_alpha\":{\"value\":1.0},\"line_cap\":{\"value\":\"butt\"},\"line_color\":{\"value\":\"#d62728\"},\"line_dash\":{\"value\":[]},\"line_dash_offset\":{\"value\":0},\"line_join\":{\"value\":\"bevel\"},\"line_width\":{\"value\":1},\"marker\":{\"value\":\"circle\"},\"size\":{\"value\":5.477225575051661},\"x\":{\"field\":\"PC1\"},\"y\":{\"field\":\"PC3\"}},\"id\":\"4638\",\"type\":\"Scatter\"},{\"attributes\":{\"angle\":{\"value\":0.0},\"fill_alpha\":{\"value\":1.0},\"fill_color\":{\"value\":\"#e5ae38\"},\"hatch_alpha\":{\"value\":1.0},\"hatch_color\":{\"value\":\"black\"},\"hatch_scale\":{\"value\":12.0},\"hatch_weight\":{\"value\":1.0},\"line_alpha\":{\"value\":1.0},\"line_cap\":{\"value\":\"butt\"},\"line_color\":{\"value\":\"#e5ae38\"},\"line_dash\":{\"value\":[]},\"line_dash_offset\":{\"value\":0},\"line_join\":{\"value\":\"bevel\"},\"line_width\":{\"value\":1},\"marker\":{\"value\":\"circle\"},\"size\":{\"value\":5.477225575051661},\"x\":{\"field\":\"price_change_percentage_24h\"},\"y\":{\"field\":\"price_change_percentage_7d\"}},\"id\":\"4380\",\"type\":\"Scatter\"},{\"attributes\":{\"data\":{\"PC1\":{\"__ndarray__\":\"ioDrfhFO/78=\",\"dtype\":\"float64\",\"order\":\"little\",\"shape\":[1]},\"PC3\":{\"__ndarray__\":\"CK+/S4x4978=\",\"dtype\":\"float64\",\"order\":\"little\",\"shape\":[1]},\"clusters\":[9],\"coin_id\":[\"havven\"]},\"selected\":{\"id\":\"4840\"},\"selection_policy\":{\"id\":\"4880\"}},\"id\":\"4839\",\"type\":\"ColumnDataSource\"},{\"attributes\":{\"data_source\":{\"id\":\"4639\"},\"glyph\":{\"id\":\"4642\"},\"hover_glyph\":null,\"muted_glyph\":{\"id\":\"4644\"},\"nonselection_glyph\":{\"id\":\"4643\"},\"selection_glyph\":{\"id\":\"4674\"},\"view\":{\"id\":\"4646\"}},\"id\":\"4645\",\"type\":\"GlyphRenderer\"},{\"attributes\":{\"data\":{\"clusters\":[3,3,3,3,3,3,3,3,3,3,3,3,3,3,3,3,3,3,3,3,3,3,3,3,3,3],\"coin_id\":[\"tether\",\"ripple\",\"bitcoin-cash-sv\",\"crypto-com-chain\",\"usd-coin\",\"eos\",\"tron\",\"okb\",\"stellar\",\"cdai\",\"neo\",\"leo-token\",\"huobi-token\",\"nem\",\"binance-usd\",\"iota\",\"vechain\",\"theta-token\",\"dash\",\"ethereum-classic\",\"havven\",\"omisego\",\"ontology\",\"ftx-token\",\"true-usd\",\"digibyte\"],\"price_change_percentage_24h\":{\"__ndarray__\":\"mCJF1OlLlj/mJRG3Ed+kv1qZGRifu9w//rJXHrAz1T/yMTqenpahPx9kk3dK7sM/GTRehHalwD90fnl54Irtv9XPDahDw9G/+VOWQSEmxz+kpbukw1bSP6eM4M4OgKo/BcMOj9+jqr/Chq6S5ebLv2h3TIfCZ68/weEQ8QyV0D/KmZTmC7niP1YH9WGFy/m/N7JuVBEB07/EU4GAhEGyv8Ocf0hw2/a/lrPBJY23/j/IKcQzxy3av5WrmDyeito/Bf22eE/6sz9Y362Ir3rzPw==\",\"dtype\":\"float64\",\"order\":\"little\",\"shape\":[26]},\"price_change_percentage_7d\":{\"__ndarray__\":\"bZSIvk+a5r9RujxqH/Ppvw2U7adXaMi/d+r7VGbW+b9EGSx/8nTnv4rfBo4Lhe2/BEBwXEEApb8Udj8VbP/2vySelkVDp9i/7SZvVsyO5r8uu+JVH+LUvziN+gRMte2/o2qlez1D3b/CtPLKIS7rvyYjaswHnea/US6joeTvzz/dRmuCvtDvv/9TV66U6fq/ZWX+mWVCuD8GJ0pHuV/Nv8nIE2ZWH5q/TTxj/me11z+Htdvf1gXtv2Avihmzf9o/e31xtwIC5r/STlu6Y3Ljvw==\",\"dtype\":\"float64\",\"order\":\"little\",\"shape\":[26]}},\"selected\":{\"id\":\"4382\"},\"selection_policy\":{\"id\":\"4402\"}},\"id\":\"4381\",\"type\":\"ColumnDataSource\"},{\"attributes\":{},\"id\":\"4402\",\"type\":\"UnionRenderers\"},{\"attributes\":{\"fill_alpha\":{\"value\":0.1},\"fill_color\":{\"value\":\"#30a2da\"},\"line_alpha\":{\"value\":0.1},\"line_color\":{\"value\":\"#30a2da\"},\"size\":{\"value\":5.477225575051661},\"x\":{\"field\":\"price_change_percentage_24h\"},\"y\":{\"field\":\"price_change_percentage_7d\"}},\"id\":\"4318\",\"type\":\"Scatter\"},{\"attributes\":{\"label\":{\"value\":\"5\"},\"renderers\":[{\"id\":\"4681\"}]},\"id\":\"4711\",\"type\":\"LegendItem\"},{\"attributes\":{},\"id\":\"4576\",\"type\":\"Selection\"},{\"attributes\":{\"end\":7.337416887188065,\"reset_end\":7.337416887188065,\"reset_start\":-5.472684877740597,\"start\":-5.472684877740597,\"tags\":[[[\"price_change_percentage_7d\",\"price_change_percentage_7d\",null]]]},\"id\":\"4262\",\"type\":\"Range1d\"},{\"attributes\":{\"source\":{\"id\":\"4753\"}},\"id\":\"4760\",\"type\":\"CDSView\"},{\"attributes\":{\"label\":{\"value\":\"6\"},\"renderers\":[{\"id\":\"4719\"}]},\"id\":\"4751\",\"type\":\"LegendItem\"},{\"attributes\":{\"label\":{\"value\":\"8\"},\"renderers\":[{\"id\":\"4801\"}]},\"id\":\"4837\",\"type\":\"LegendItem\"},{\"attributes\":{\"fill_alpha\":{\"value\":0.1},\"fill_color\":{\"value\":\"#6d904f\"},\"line_alpha\":{\"value\":0.1},\"line_color\":{\"value\":\"#6d904f\"},\"size\":{\"value\":5.477225575051661},\"x\":{\"field\":\"price_change_percentage_24h\"},\"y\":{\"field\":\"price_change_percentage_7d\"}},\"id\":\"4385\",\"type\":\"Scatter\"},{\"attributes\":{},\"id\":\"4670\",\"type\":\"UnionRenderers\"},{\"attributes\":{\"data\":{\"PC1\":{\"__ndarray__\":\"qNBii3lK5L8=\",\"dtype\":\"float64\",\"order\":\"little\",\"shape\":[1]},\"PC3\":{\"__ndarray__\":\"WJK+j+aeEcA=\",\"dtype\":\"float64\",\"order\":\"little\",\"shape\":[1]},\"clusters\":[2],\"coin_id\":[\"ethlend\"]},\"selected\":{\"id\":\"4576\"},\"selection_policy\":{\"id\":\"4602\"}},\"id\":\"4575\",\"type\":\"ColumnDataSource\"},{\"attributes\":{\"fill_alpha\":{\"value\":0.1},\"fill_color\":{\"value\":\"#1f77b4\"},\"line_alpha\":{\"value\":0.1},\"line_color\":{\"value\":\"#1f77b4\"},\"size\":{\"value\":5.477225575051661},\"x\":{\"field\":\"PC1\"},\"y\":{\"field\":\"PC3\"}},\"id\":\"4643\",\"type\":\"Scatter\"},{\"attributes\":{\"source\":{\"id\":\"4381\"}},\"id\":\"4388\",\"type\":\"CDSView\"},{\"attributes\":{\"data_source\":{\"id\":\"4357\"},\"glyph\":{\"id\":\"4360\"},\"hover_glyph\":null,\"muted_glyph\":{\"id\":\"4362\"},\"nonselection_glyph\":{\"id\":\"4361\"},\"selection_glyph\":{\"id\":\"4380\"},\"view\":{\"id\":\"4364\"}},\"id\":\"4363\",\"type\":\"GlyphRenderer\"},{\"attributes\":{},\"id\":\"4640\",\"type\":\"Selection\"},{\"attributes\":{\"label\":{\"value\":\"3\"},\"renderers\":[{\"id\":\"4387\"},{\"id\":\"4612\"}]},\"id\":\"4405\",\"type\":\"LegendItem\"},{\"attributes\":{\"data_source\":{\"id\":\"4713\"},\"glyph\":{\"id\":\"4716\"},\"hover_glyph\":null,\"muted_glyph\":{\"id\":\"4718\"},\"nonselection_glyph\":{\"id\":\"4717\"},\"selection_glyph\":{\"id\":\"4752\"},\"view\":{\"id\":\"4720\"}},\"id\":\"4719\",\"type\":\"GlyphRenderer\"},{\"attributes\":{\"data\":{\"PC1\":{\"__ndarray__\":\"iceVoQspBkCFIhk7uS33Pw==\",\"dtype\":\"float64\",\"order\":\"little\",\"shape\":[2]},\"PC3\":{\"__ndarray__\":\"VRN6rvU+/r/z8BC4yUz7vw==\",\"dtype\":\"float64\",\"order\":\"little\",\"shape\":[2]},\"clusters\":[0,0],\"coin_id\":[\"chainlink\",\"tezos\"]},\"selected\":{\"id\":\"4520\"},\"selection_policy\":{\"id\":\"4542\"}},\"id\":\"4519\",\"type\":\"ColumnDataSource\"},{\"attributes\":{\"fill_alpha\":{\"value\":0.2},\"fill_color\":{\"value\":\"#e377c2\"},\"line_alpha\":{\"value\":0.2},\"line_color\":{\"value\":\"#e377c2\"},\"size\":{\"value\":5.477225575051661},\"x\":{\"field\":\"PC1\"},\"y\":{\"field\":\"PC3\"}},\"id\":\"4680\",\"type\":\"Scatter\"},{\"attributes\":{},\"id\":\"4607\",\"type\":\"Selection\"},{\"attributes\":{\"active_multi\":null,\"tools\":[{\"id\":\"4263\"},{\"id\":\"4267\"},{\"id\":\"4294\"},{\"id\":\"4295\"},{\"id\":\"4296\"},{\"id\":\"4297\"},{\"id\":\"4298\"}]},\"id\":\"4300\",\"type\":\"Toolbar\"},{\"attributes\":{\"callback\":null,\"renderers\":[{\"id\":\"4525\"},{\"id\":\"4552\"},{\"id\":\"4581\"},{\"id\":\"4612\"},{\"id\":\"4645\"},{\"id\":\"4681\"},{\"id\":\"4719\"},{\"id\":\"4759\"},{\"id\":\"4801\"},{\"id\":\"4845\"}],\"tags\":[\"hv_created\"],\"tooltips\":[[\"clusters\",\"@{clusters}\"],[\"PC1\",\"@{PC1}\"],[\"PC3\",\"@{PC3}\"],[\"coin_id\",\"@{coin_id}\"]]},\"id\":\"4267\",\"type\":\"HoverTool\"},{\"attributes\":{\"axis\":{\"id\":\"4286\"},\"grid_line_color\":null,\"ticker\":null},\"id\":\"4289\",\"type\":\"Grid\"},{\"attributes\":{\"data\":{\"clusters\":[2],\"coin_id\":[\"celsius-degree-token\"],\"price_change_percentage_24h\":{\"__ndarray__\":\"VLqXBn668D8=\",\"dtype\":\"float64\",\"order\":\"little\",\"shape\":[1]},\"price_change_percentage_7d\":{\"__ndarray__\":\"Nv03JFjJ478=\",\"dtype\":\"float64\",\"order\":\"little\",\"shape\":[1]}},\"selected\":{\"id\":\"4358\"},\"selection_policy\":{\"id\":\"4376\"}},\"id\":\"4357\",\"type\":\"ColumnDataSource\"},{\"attributes\":{\"angle\":{\"value\":0.0},\"fill_alpha\":{\"value\":1.0},\"fill_color\":{\"value\":\"#6d904f\"},\"hatch_alpha\":{\"value\":1.0},\"hatch_color\":{\"value\":\"black\"},\"hatch_scale\":{\"value\":12.0},\"hatch_weight\":{\"value\":1.0},\"line_alpha\":{\"value\":1.0},\"line_cap\":{\"value\":\"butt\"},\"line_color\":{\"value\":\"#6d904f\"},\"line_dash\":{\"value\":[]},\"line_dash_offset\":{\"value\":0},\"line_join\":{\"value\":\"bevel\"},\"line_width\":{\"value\":1},\"marker\":{\"value\":\"circle\"},\"size\":{\"value\":5.477225575051661},\"x\":{\"field\":\"price_change_percentage_24h\"},\"y\":{\"field\":\"price_change_percentage_7d\"}},\"id\":\"4406\",\"type\":\"Scatter\"},{\"attributes\":{},\"id\":\"4282\",\"type\":\"LinearScale\"},{\"attributes\":{\"fill_alpha\":{\"value\":0.1},\"fill_color\":{\"value\":\"#e377c2\"},\"line_alpha\":{\"value\":0.1},\"line_color\":{\"value\":\"#e377c2\"},\"size\":{\"value\":5.477225575051661},\"x\":{\"field\":\"PC1\"},\"y\":{\"field\":\"PC3\"}},\"id\":\"4679\",\"type\":\"Scatter\"},{\"attributes\":{\"fill_color\":{\"value\":\"#17becf\"},\"line_color\":{\"value\":\"#17becf\"},\"size\":{\"value\":5.477225575051661},\"x\":{\"field\":\"PC1\"},\"y\":{\"field\":\"PC3\"}},\"id\":\"4549\",\"type\":\"Scatter\"},{\"attributes\":{\"source\":{\"id\":\"4546\"}},\"id\":\"4553\",\"type\":\"CDSView\"},{\"attributes\":{\"callback\":null,\"renderers\":[{\"id\":\"4320\"},{\"id\":\"4341\"},{\"id\":\"4363\"},{\"id\":\"4387\"}],\"tags\":[\"hv_created\"],\"tooltips\":[[\"clusters\",\"@{clusters}\"],[\"price_change_percentage_24h\",\"@{price_change_percentage_24h}\"],[\"price_change_percentage_7d\",\"@{price_change_percentage_7d}\"],[\"coin_id\",\"@{coin_id}\"]]},\"id\":\"4263\",\"type\":\"HoverTool\"},{\"attributes\":{},\"id\":\"4309\",\"type\":\"BasicTickFormatter\"},{\"attributes\":{},\"id\":\"4312\",\"type\":\"BasicTickFormatter\"},{\"attributes\":{\"source\":{\"id\":\"4575\"}},\"id\":\"4582\",\"type\":\"CDSView\"},{\"attributes\":{\"fill_color\":{\"value\":\"#fc4f30\"},\"line_color\":{\"value\":\"#fc4f30\"},\"size\":{\"value\":5.477225575051661},\"x\":{\"field\":\"price_change_percentage_24h\"},\"y\":{\"field\":\"price_change_percentage_7d\"}},\"id\":\"4338\",\"type\":\"Scatter\"},{\"attributes\":{\"fill_alpha\":{\"value\":0.1},\"fill_color\":{\"value\":\"#fc4f30\"},\"line_alpha\":{\"value\":0.1},\"line_color\":{\"value\":\"#fc4f30\"},\"size\":{\"value\":5.477225575051661},\"x\":{\"field\":\"PC1\"},\"y\":{\"field\":\"PC3\"}},\"id\":\"4843\",\"type\":\"Scatter\"},{\"attributes\":{},\"id\":\"4676\",\"type\":\"Selection\"},{\"attributes\":{\"text\":\"Coin % change scatterplot - 24 hours vs. 7 days\",\"text_color\":\"black\",\"text_font_size\":\"12pt\"},\"id\":\"4278\",\"type\":\"Title\"},{\"attributes\":{\"fill_color\":{\"value\":\"#d62728\"},\"line_color\":{\"value\":\"#d62728\"},\"size\":{\"value\":5.477225575051661},\"x\":{\"field\":\"PC1\"},\"y\":{\"field\":\"PC3\"}},\"id\":\"4609\",\"type\":\"Scatter\"},{\"attributes\":{\"source\":{\"id\":\"4839\"}},\"id\":\"4846\",\"type\":\"CDSView\"},{\"attributes\":{\"label\":{\"value\":\"0\"},\"renderers\":[{\"id\":\"4320\"},{\"id\":\"4525\"}]},\"id\":\"4333\",\"type\":\"LegendItem\"},{\"attributes\":{},\"id\":\"4287\",\"type\":\"BasicTicker\"},{\"attributes\":{\"source\":{\"id\":\"4795\"}},\"id\":\"4802\",\"type\":\"CDSView\"},{\"attributes\":{\"data_source\":{\"id\":\"4795\"},\"glyph\":{\"id\":\"4798\"},\"hover_glyph\":null,\"muted_glyph\":{\"id\":\"4800\"},\"nonselection_glyph\":{\"id\":\"4799\"},\"selection_glyph\":{\"id\":\"4838\"},\"view\":{\"id\":\"4802\"}},\"id\":\"4801\",\"type\":\"GlyphRenderer\"},{\"attributes\":{},\"id\":\"4284\",\"type\":\"LinearScale\"},{\"attributes\":{\"data\":{\"PC1\":{\"__ndarray__\":\"K4eSA5pv9r8=\",\"dtype\":\"float64\",\"order\":\"little\",\"shape\":[1]},\"PC3\":{\"__ndarray__\":\"gKwSq86P9z8=\",\"dtype\":\"float64\",\"order\":\"little\",\"shape\":[1]},\"clusters\":[6],\"coin_id\":[\"theta-token\"]},\"selected\":{\"id\":\"4714\"},\"selection_policy\":{\"id\":\"4748\"}},\"id\":\"4713\",\"type\":\"ColumnDataSource\"},{\"attributes\":{\"axis_label\":\"price_change_percentage_7d\",\"formatter\":{\"id\":\"4312\"},\"major_label_policy\":{\"id\":\"4311\"},\"ticker\":{\"id\":\"4291\"}},\"id\":\"4290\",\"type\":\"LinearAxis\"},{\"attributes\":{\"axis_label\":\"price_change_percentage_24h\",\"formatter\":{\"id\":\"4309\"},\"major_label_policy\":{\"id\":\"4308\"},\"ticker\":{\"id\":\"4287\"}},\"id\":\"4286\",\"type\":\"LinearAxis\"},{\"attributes\":{\"angle\":{\"value\":0.0},\"fill_alpha\":{\"value\":1.0},\"fill_color\":{\"value\":\"#bcbd22\"},\"hatch_alpha\":{\"value\":1.0},\"hatch_color\":{\"value\":\"black\"},\"hatch_scale\":{\"value\":12.0},\"hatch_weight\":{\"value\":1.0},\"line_alpha\":{\"value\":1.0},\"line_cap\":{\"value\":\"butt\"},\"line_color\":{\"value\":\"#bcbd22\"},\"line_dash\":{\"value\":[]},\"line_dash_offset\":{\"value\":0},\"line_join\":{\"value\":\"bevel\"},\"line_width\":{\"value\":1},\"marker\":{\"value\":\"circle\"},\"size\":{\"value\":5.477225575051661},\"x\":{\"field\":\"PC1\"},\"y\":{\"field\":\"PC3\"}},\"id\":\"4794\",\"type\":\"Scatter\"},{\"attributes\":{\"label\":{\"value\":\"9\"},\"renderers\":[{\"id\":\"4845\"}]},\"id\":\"4883\",\"type\":\"LegendItem\"},{\"attributes\":{\"below\":[{\"id\":\"4286\"}],\"center\":[{\"id\":\"4289\"},{\"id\":\"4293\"}],\"height\":300,\"left\":[{\"id\":\"4290\"}],\"margin\":[5,5,5,5],\"min_border_bottom\":10,\"min_border_left\":10,\"min_border_right\":10,\"min_border_top\":10,\"renderers\":[{\"id\":\"4320\"},{\"id\":\"4341\"},{\"id\":\"4363\"},{\"id\":\"4387\"},{\"id\":\"4525\"},{\"id\":\"4552\"},{\"id\":\"4581\"},{\"id\":\"4612\"},{\"id\":\"4645\"},{\"id\":\"4681\"},{\"id\":\"4719\"},{\"id\":\"4759\"},{\"id\":\"4801\"},{\"id\":\"4845\"}],\"right\":[{\"id\":\"4332\"}],\"sizing_mode\":\"fixed\",\"title\":{\"id\":\"4278\"},\"toolbar\":{\"id\":\"4300\"},\"width\":700,\"x_range\":{\"id\":\"4261\"},\"x_scale\":{\"id\":\"4282\"},\"y_range\":{\"id\":\"4262\"},\"y_scale\":{\"id\":\"4284\"}},\"id\":\"4277\",\"subtype\":\"Figure\",\"type\":\"Plot\"},{\"attributes\":{\"fill_alpha\":{\"value\":0.2},\"fill_color\":{\"value\":\"#fc4f30\"},\"line_alpha\":{\"value\":0.2},\"line_color\":{\"value\":\"#fc4f30\"},\"size\":{\"value\":5.477225575051661},\"x\":{\"field\":\"PC1\"},\"y\":{\"field\":\"PC3\"}},\"id\":\"4844\",\"type\":\"Scatter\"},{\"attributes\":{},\"id\":\"4291\",\"type\":\"BasicTicker\"},{\"attributes\":{\"axis\":{\"id\":\"4290\"},\"dimension\":1,\"grid_line_color\":null,\"ticker\":null},\"id\":\"4293\",\"type\":\"Grid\"},{\"attributes\":{\"angle\":{\"value\":0.0},\"fill_alpha\":{\"value\":1.0},\"fill_color\":{\"value\":\"#30a2da\"},\"hatch_alpha\":{\"value\":1.0},\"hatch_color\":{\"value\":\"black\"},\"hatch_scale\":{\"value\":12.0},\"hatch_weight\":{\"value\":1.0},\"line_alpha\":{\"value\":1.0},\"line_cap\":{\"value\":\"butt\"},\"line_color\":{\"value\":\"#30a2da\"},\"line_dash\":{\"value\":[]},\"line_dash_offset\":{\"value\":0},\"line_join\":{\"value\":\"bevel\"},\"line_width\":{\"value\":1},\"marker\":{\"value\":\"circle\"},\"size\":{\"value\":5.477225575051661},\"x\":{\"field\":\"price_change_percentage_24h\"},\"y\":{\"field\":\"price_change_percentage_7d\"}},\"id\":\"4334\",\"type\":\"Scatter\"},{\"attributes\":{\"data_source\":{\"id\":\"4546\"},\"glyph\":{\"id\":\"4549\"},\"hover_glyph\":null,\"muted_glyph\":{\"id\":\"4551\"},\"nonselection_glyph\":{\"id\":\"4550\"},\"selection_glyph\":{\"id\":\"4574\"},\"view\":{\"id\":\"4553\"}},\"id\":\"4552\",\"type\":\"GlyphRenderer\"},{\"attributes\":{\"fill_alpha\":{\"value\":0.1},\"fill_color\":{\"value\":\"#fc4f30\"},\"line_alpha\":{\"value\":0.1},\"line_color\":{\"value\":\"#fc4f30\"},\"size\":{\"value\":5.477225575051661},\"x\":{\"field\":\"price_change_percentage_24h\"},\"y\":{\"field\":\"price_change_percentage_7d\"}},\"id\":\"4339\",\"type\":\"Scatter\"},{\"attributes\":{\"fill_color\":{\"value\":\"#8c564b\"},\"line_color\":{\"value\":\"#8c564b\"},\"size\":{\"value\":5.477225575051661},\"x\":{\"field\":\"PC1\"},\"y\":{\"field\":\"PC3\"}},\"id\":\"4716\",\"type\":\"Scatter\"},{\"attributes\":{},\"id\":\"4880\",\"type\":\"UnionRenderers\"},{\"attributes\":{\"data_source\":{\"id\":\"4575\"},\"glyph\":{\"id\":\"4578\"},\"hover_glyph\":null,\"muted_glyph\":{\"id\":\"4580\"},\"nonselection_glyph\":{\"id\":\"4579\"},\"selection_glyph\":{\"id\":\"4605\"},\"view\":{\"id\":\"4582\"}},\"id\":\"4581\",\"type\":\"GlyphRenderer\"},{\"attributes\":{\"children\":[{\"id\":\"4260\"},{\"id\":\"4277\"},{\"id\":\"5461\"}],\"margin\":[0,0,0,0],\"name\":\"Row08446\",\"tags\":[\"embedded\"]},\"id\":\"4259\",\"type\":\"Row\"},{\"attributes\":{\"source\":{\"id\":\"4606\"}},\"id\":\"4613\",\"type\":\"CDSView\"},{\"attributes\":{\"fill_alpha\":{\"value\":0.1},\"fill_color\":{\"value\":\"#30a2da\"},\"line_alpha\":{\"value\":0.1},\"line_color\":{\"value\":\"#30a2da\"},\"size\":{\"value\":5.477225575051661},\"x\":{\"field\":\"PC1\"},\"y\":{\"field\":\"PC3\"}},\"id\":\"4799\",\"type\":\"Scatter\"},{\"attributes\":{},\"id\":\"4315\",\"type\":\"Selection\"},{\"attributes\":{\"source\":{\"id\":\"4335\"}},\"id\":\"4342\",\"type\":\"CDSView\"},{\"attributes\":{\"angle\":{\"value\":0.0},\"fill_alpha\":{\"value\":1.0},\"fill_color\":{\"value\":\"#e377c2\"},\"hatch_alpha\":{\"value\":1.0},\"hatch_color\":{\"value\":\"black\"},\"hatch_scale\":{\"value\":12.0},\"hatch_weight\":{\"value\":1.0},\"line_alpha\":{\"value\":1.0},\"line_cap\":{\"value\":\"butt\"},\"line_color\":{\"value\":\"#e377c2\"},\"line_dash\":{\"value\":[]},\"line_dash_offset\":{\"value\":0},\"line_join\":{\"value\":\"bevel\"},\"line_width\":{\"value\":1},\"marker\":{\"value\":\"circle\"},\"size\":{\"value\":5.477225575051661},\"x\":{\"field\":\"PC1\"},\"y\":{\"field\":\"PC3\"}},\"id\":\"4712\",\"type\":\"Scatter\"},{\"attributes\":{\"data_source\":{\"id\":\"4839\"},\"glyph\":{\"id\":\"4842\"},\"hover_glyph\":null,\"muted_glyph\":{\"id\":\"4844\"},\"nonselection_glyph\":{\"id\":\"4843\"},\"selection_glyph\":{\"id\":\"4884\"},\"view\":{\"id\":\"4846\"}},\"id\":\"4845\",\"type\":\"GlyphRenderer\"},{\"attributes\":{\"angle\":{\"value\":0.0},\"fill_alpha\":{\"value\":1.0},\"fill_color\":{\"value\":\"#9467bd\"},\"hatch_alpha\":{\"value\":1.0},\"hatch_color\":{\"value\":\"black\"},\"hatch_scale\":{\"value\":12.0},\"hatch_weight\":{\"value\":1.0},\"line_alpha\":{\"value\":1.0},\"line_cap\":{\"value\":\"butt\"},\"line_color\":{\"value\":\"#9467bd\"},\"line_dash\":{\"value\":[]},\"line_dash_offset\":{\"value\":0},\"line_join\":{\"value\":\"bevel\"},\"line_width\":{\"value\":1},\"marker\":{\"value\":\"circle\"},\"size\":{\"value\":5.477225575051661},\"x\":{\"field\":\"PC1\"},\"y\":{\"field\":\"PC3\"}},\"id\":\"4605\",\"type\":\"Scatter\"},{\"attributes\":{},\"id\":\"4352\",\"type\":\"UnionRenderers\"},{\"attributes\":{},\"id\":\"4294\",\"type\":\"SaveTool\"},{\"attributes\":{},\"id\":\"4295\",\"type\":\"PanTool\"},{\"attributes\":{\"fill_color\":{\"value\":\"#e377c2\"},\"line_color\":{\"value\":\"#e377c2\"},\"size\":{\"value\":5.477225575051661},\"x\":{\"field\":\"PC1\"},\"y\":{\"field\":\"PC3\"}},\"id\":\"4678\",\"type\":\"Scatter\"},{\"attributes\":{\"overlay\":{\"id\":\"4299\"}},\"id\":\"4297\",\"type\":\"BoxZoomTool\"},{\"attributes\":{},\"id\":\"4296\",\"type\":\"WheelZoomTool\"},{\"attributes\":{\"fill_color\":{\"value\":\"#6d904f\"},\"line_color\":{\"value\":\"#6d904f\"},\"size\":{\"value\":5.477225575051661},\"x\":{\"field\":\"price_change_percentage_24h\"},\"y\":{\"field\":\"price_change_percentage_7d\"}},\"id\":\"4384\",\"type\":\"Scatter\"},{\"attributes\":{\"margin\":[5,5,5,5],\"name\":\"HSpacer08450\",\"sizing_mode\":\"stretch_width\"},\"id\":\"4260\",\"type\":\"Spacer\"},{\"attributes\":{\"fill_color\":{\"value\":\"#e5ae38\"},\"line_color\":{\"value\":\"#e5ae38\"},\"size\":{\"value\":5.477225575051661},\"x\":{\"field\":\"price_change_percentage_24h\"},\"y\":{\"field\":\"price_change_percentage_7d\"}},\"id\":\"4360\",\"type\":\"Scatter\"},{\"attributes\":{},\"id\":\"4547\",\"type\":\"Selection\"},{\"attributes\":{\"angle\":{\"value\":0.0},\"fill_alpha\":{\"value\":1.0},\"fill_color\":{\"value\":\"#30a2da\"},\"hatch_alpha\":{\"value\":1.0},\"hatch_color\":{\"value\":\"black\"},\"hatch_scale\":{\"value\":12.0},\"hatch_weight\":{\"value\":1.0},\"line_alpha\":{\"value\":1.0},\"line_cap\":{\"value\":\"butt\"},\"line_color\":{\"value\":\"#30a2da\"},\"line_dash\":{\"value\":[]},\"line_dash_offset\":{\"value\":0},\"line_join\":{\"value\":\"bevel\"},\"line_width\":{\"value\":1},\"marker\":{\"value\":\"circle\"},\"size\":{\"value\":5.477225575051661},\"x\":{\"field\":\"PC1\"},\"y\":{\"field\":\"PC3\"}},\"id\":\"4838\",\"type\":\"Scatter\"},{\"attributes\":{},\"id\":\"4542\",\"type\":\"UnionRenderers\"},{\"attributes\":{\"fill_alpha\":{\"value\":0.2},\"fill_color\":{\"value\":\"#30a2da\"},\"line_alpha\":{\"value\":0.2},\"line_color\":{\"value\":\"#30a2da\"},\"size\":{\"value\":5.477225575051661},\"x\":{\"field\":\"PC1\"},\"y\":{\"field\":\"PC3\"}},\"id\":\"4800\",\"type\":\"Scatter\"},{\"attributes\":{},\"id\":\"4298\",\"type\":\"ResetTool\"},{\"attributes\":{},\"id\":\"4311\",\"type\":\"AllLabels\"},{\"attributes\":{\"data_source\":{\"id\":\"4335\"},\"glyph\":{\"id\":\"4338\"},\"hover_glyph\":null,\"muted_glyph\":{\"id\":\"4340\"},\"nonselection_glyph\":{\"id\":\"4339\"},\"selection_glyph\":{\"id\":\"4356\"},\"view\":{\"id\":\"4342\"}},\"id\":\"4341\",\"type\":\"GlyphRenderer\"},{\"attributes\":{\"fill_color\":{\"value\":\"#1f77b4\"},\"line_color\":{\"value\":\"#1f77b4\"},\"size\":{\"value\":5.477225575051661},\"x\":{\"field\":\"PC1\"},\"y\":{\"field\":\"PC3\"}},\"id\":\"4642\",\"type\":\"Scatter\"},{\"attributes\":{\"data\":{\"PC1\":{\"__ndarray__\":\"uBcmq5X+C0A=\",\"dtype\":\"float64\",\"order\":\"little\",\"shape\":[1]},\"PC3\":{\"__ndarray__\":\"vBiQ3mIUGUA=\",\"dtype\":\"float64\",\"order\":\"little\",\"shape\":[1]},\"clusters\":[3],\"coin_id\":[\"celsius-degree-token\"]},\"selected\":{\"id\":\"4607\"},\"selection_policy\":{\"id\":\"4635\"}},\"id\":\"4606\",\"type\":\"ColumnDataSource\"},{\"attributes\":{},\"id\":\"4382\",\"type\":\"Selection\"},{\"attributes\":{\"fill_color\":{\"value\":\"#30a2da\"},\"line_color\":{\"value\":\"#30a2da\"},\"size\":{\"value\":5.477225575051661},\"x\":{\"field\":\"price_change_percentage_24h\"},\"y\":{\"field\":\"price_change_percentage_7d\"}},\"id\":\"4317\",\"type\":\"Scatter\"},{\"attributes\":{\"angle\":{\"value\":0.0},\"fill_alpha\":{\"value\":1.0},\"fill_color\":{\"value\":\"#17becf\"},\"hatch_alpha\":{\"value\":1.0},\"hatch_color\":{\"value\":\"black\"},\"hatch_scale\":{\"value\":12.0},\"hatch_weight\":{\"value\":1.0},\"line_alpha\":{\"value\":1.0},\"line_cap\":{\"value\":\"butt\"},\"line_color\":{\"value\":\"#17becf\"},\"line_dash\":{\"value\":[]},\"line_dash_offset\":{\"value\":0},\"line_join\":{\"value\":\"bevel\"},\"line_width\":{\"value\":1},\"marker\":{\"value\":\"circle\"},\"size\":{\"value\":5.477225575051661},\"x\":{\"field\":\"PC1\"},\"y\":{\"field\":\"PC3\"}},\"id\":\"4574\",\"type\":\"Scatter\"},{\"attributes\":{\"data\":{\"PC1\":{\"__ndarray__\":\"yoCELRtn6b88uSl5ZrXsvw==\",\"dtype\":\"float64\",\"order\":\"little\",\"shape\":[2]},\"PC3\":{\"__ndarray__\":\"RmmR4WMb9z++JixuF5v1Pw==\",\"dtype\":\"float64\",\"order\":\"little\",\"shape\":[2]},\"clusters\":[8,8],\"coin_id\":[\"nem\",\"omisego\"]},\"selected\":{\"id\":\"4796\"},\"selection_policy\":{\"id\":\"4834\"}},\"id\":\"4795\",\"type\":\"ColumnDataSource\"},{\"attributes\":{\"fill_alpha\":{\"value\":0.2},\"fill_color\":{\"value\":\"#fc4f30\"},\"line_alpha\":{\"value\":0.2},\"line_color\":{\"value\":\"#fc4f30\"},\"size\":{\"value\":5.477225575051661},\"x\":{\"field\":\"price_change_percentage_24h\"},\"y\":{\"field\":\"price_change_percentage_7d\"}},\"id\":\"4340\",\"type\":\"Scatter\"},{\"attributes\":{\"fill_alpha\":{\"value\":0.1},\"fill_color\":{\"value\":\"#17becf\"},\"line_alpha\":{\"value\":0.1},\"line_color\":{\"value\":\"#17becf\"},\"size\":{\"value\":5.477225575051661},\"x\":{\"field\":\"PC1\"},\"y\":{\"field\":\"PC3\"}},\"id\":\"4550\",\"type\":\"Scatter\"},{\"attributes\":{\"fill_alpha\":{\"value\":0.2},\"fill_color\":{\"value\":\"#8c564b\"},\"line_alpha\":{\"value\":0.2},\"line_color\":{\"value\":\"#8c564b\"},\"size\":{\"value\":5.477225575051661},\"x\":{\"field\":\"PC1\"},\"y\":{\"field\":\"PC3\"}},\"id\":\"4718\",\"type\":\"Scatter\"},{\"attributes\":{\"data\":{\"PC1\":{\"__ndarray__\":\"JNNLfdJFAEA+wpqYeun/P8Bok3rG+gJAc+UA1UdR/T+WrjND15cDQAIeN7Y1IABA5J3NMm53AECnoADkUpT5Pw==\",\"dtype\":\"float64\",\"order\":\"little\",\"shape\":[8]},\"PC3\":{\"__ndarray__\":\"IOunLmPj1r+soVocJjHtv+xn98Sqwu+/OoLVBgi757+qQCVb3Dfyv7YbIhZi29a/pSBBUvws7r9KGqgBqobqvw==\",\"dtype\":\"float64\",\"order\":\"little\",\"shape\":[8]},\"clusters\":[4,4,4,4,4,4,4,4],\"coin_id\":[\"bitcoin\",\"ethereum\",\"cardano\",\"litecoin\",\"cosmos\",\"wrapped-bitcoin\",\"zcash\",\"maker\"]},\"selected\":{\"id\":\"4640\"},\"selection_policy\":{\"id\":\"4670\"}},\"id\":\"4639\",\"type\":\"ColumnDataSource\"},{\"attributes\":{},\"id\":\"4336\",\"type\":\"Selection\"},{\"attributes\":{\"data\":{\"PC1\":{\"__ndarray__\":\"kgL6EoMDAcCo/X9e5pn+v2uZFt3CIgPA7XRmKWUpAsA=\",\"dtype\":\"float64\",\"order\":\"little\",\"shape\":[4]},\"PC3\":{\"__ndarray__\":\"txS+bpuUwD8vC+9BE6mUP2vj2Kb2utq/QpCYe5LD678=\",\"dtype\":\"float64\",\"order\":\"little\",\"shape\":[4]},\"clusters\":[5,5,5,5],\"coin_id\":[\"crypto-com-chain\",\"okb\",\"vechain\",\"ontology\"]},\"selected\":{\"id\":\"4676\"},\"selection_policy\":{\"id\":\"4708\"}},\"id\":\"4675\",\"type\":\"ColumnDataSource\"},{\"attributes\":{\"angle\":{\"value\":0.0},\"fill_alpha\":{\"value\":1.0},\"fill_color\":{\"value\":\"#8b8b8b\"},\"hatch_alpha\":{\"value\":1.0},\"hatch_color\":{\"value\":\"black\"},\"hatch_scale\":{\"value\":12.0},\"hatch_weight\":{\"value\":1.0},\"line_alpha\":{\"value\":1.0},\"line_cap\":{\"value\":\"butt\"},\"line_color\":{\"value\":\"#8b8b8b\"},\"line_dash\":{\"value\":[]},\"line_dash_offset\":{\"value\":0},\"line_join\":{\"value\":\"bevel\"},\"line_width\":{\"value\":1},\"marker\":{\"value\":\"circle\"},\"size\":{\"value\":5.477225575051661},\"x\":{\"field\":\"PC1\"},\"y\":{\"field\":\"PC3\"}},\"id\":\"4545\",\"type\":\"Scatter\"},{\"attributes\":{\"bottom_units\":\"screen\",\"fill_alpha\":0.5,\"fill_color\":\"lightgrey\",\"left_units\":\"screen\",\"level\":\"overlay\",\"line_alpha\":1.0,\"line_color\":\"black\",\"line_dash\":[4,4],\"line_width\":2,\"right_units\":\"screen\",\"syncable\":false,\"top_units\":\"screen\"},\"id\":\"4299\",\"type\":\"BoxAnnotation\"}],\"root_ids\":[\"4259\"]},\"title\":\"Bokeh Application\",\"version\":\"2.3.2\"}};\n",
       "    var render_items = [{\"docid\":\"b1b285cb-42f8-4240-a7ee-11bb528708f5\",\"root_ids\":[\"4259\"],\"roots\":{\"4259\":\"6ccd3477-92e7-440c-805b-25395fef229d\"}}];\n",
       "    root.Bokeh.embed.embed_items_notebook(docs_json, render_items);\n",
       "  }\n",
       "  if (root.Bokeh !== undefined && root.Bokeh.Panel !== undefined) {\n",
       "    embed_document(root);\n",
       "  } else {\n",
       "    var attempts = 0;\n",
       "    var timer = setInterval(function(root) {\n",
       "      if (root.Bokeh !== undefined && root.Bokeh.Panel !== undefined) {\n",
       "        clearInterval(timer);\n",
       "        embed_document(root);\n",
       "      } else if (document.readyState == \"complete\") {\n",
       "        attempts++;\n",
       "        if (attempts > 200) {\n",
       "          clearInterval(timer);\n",
       "          console.log(\"Bokeh: ERROR: Unable to run BokehJS code because BokehJS library is missing\");\n",
       "        }\n",
       "      }\n",
       "    }, 25, root)\n",
       "  }\n",
       "})(window);</script>"
      ],
      "text/plain": [
       ":Overlay\n",
       "   .NdOverlay.I  :NdOverlay   [clusters]\n",
       "      :Scatter   [price_change_percentage_24h]   (price_change_percentage_7d,coin_id)\n",
       "   .NdOverlay.II :NdOverlay   [clusters]\n",
       "      :Scatter   [PC1]   (PC3,coin_id)"
      ]
     },
     "metadata": {
      "application/vnd.holoviews_exec.v0+json": {
       "id": "4259"
      }
     },
     "output_type": "display_data"
    },
    {
     "data": {},
     "metadata": {},
     "output_type": "display_data"
    },
    {
     "data": {
      "application/vnd.holoviews_exec.v0+json": "",
      "text/html": [
       "<div id='5643'>\n",
       "\n",
       "\n",
       "\n",
       "\n",
       "\n",
       "  <div class=\"bk-root\" id=\"6ed482ec-a65d-4ac9-80e3-5e79acd8181c\" data-root-id=\"5643\"></div>\n",
       "</div>\n",
       "<script type=\"application/javascript\">(function(root) {\n",
       "  function embed_document(root) {\n",
       "    var docs_json = {\"6c1cf405-a82b-4c71-b4fc-2bebf0b37f8b\":{\"defs\":[{\"extends\":null,\"module\":null,\"name\":\"ReactiveHTML1\",\"overrides\":[],\"properties\":[]},{\"extends\":null,\"module\":null,\"name\":\"FlexBox1\",\"overrides\":[],\"properties\":[{\"default\":\"flex-start\",\"kind\":null,\"name\":\"align_content\"},{\"default\":\"flex-start\",\"kind\":null,\"name\":\"align_items\"},{\"default\":\"row\",\"kind\":null,\"name\":\"flex_direction\"},{\"default\":\"wrap\",\"kind\":null,\"name\":\"flex_wrap\"},{\"default\":\"flex-start\",\"kind\":null,\"name\":\"justify_content\"}]},{\"extends\":null,\"module\":null,\"name\":\"TemplateActions1\",\"overrides\":[],\"properties\":[{\"default\":0,\"kind\":null,\"name\":\"open_modal\"},{\"default\":0,\"kind\":null,\"name\":\"close_modal\"}]},{\"extends\":null,\"module\":null,\"name\":\"MaterialTemplateActions1\",\"overrides\":[],\"properties\":[{\"default\":0,\"kind\":null,\"name\":\"open_modal\"},{\"default\":0,\"kind\":null,\"name\":\"close_modal\"}]}],\"roots\":{\"references\":[{\"attributes\":{\"fill_color\":{\"value\":\"#fc4f30\"},\"line_color\":{\"value\":\"#fc4f30\"},\"size\":{\"value\":5.477225575051661},\"x\":{\"field\":\"PC1\"},\"y\":{\"field\":\"PC3\"}},\"id\":\"5964\",\"type\":\"Scatter\"},{\"attributes\":{\"angle\":{\"value\":0.0},\"fill_alpha\":{\"value\":1.0},\"fill_color\":{\"value\":\"#17becf\"},\"hatch_alpha\":{\"value\":1.0},\"hatch_color\":{\"value\":\"black\"},\"hatch_scale\":{\"value\":12.0},\"hatch_weight\":{\"value\":1.0},\"line_alpha\":{\"value\":1.0},\"line_cap\":{\"value\":\"butt\"},\"line_color\":{\"value\":\"#17becf\"},\"line_dash\":{\"value\":[]},\"line_dash_offset\":{\"value\":0},\"line_join\":{\"value\":\"bevel\"},\"line_width\":{\"value\":1},\"marker\":{\"value\":\"circle\"},\"size\":{\"value\":5.477225575051661},\"x\":{\"field\":\"PC1\"},\"y\":{\"field\":\"PC3\"}},\"id\":\"6090\",\"type\":\"Scatter\"},{\"attributes\":{},\"id\":\"5962\",\"type\":\"Selection\"},{\"attributes\":{\"fill_color\":{\"value\":\"#9467bd\"},\"line_color\":{\"value\":\"#9467bd\"},\"size\":{\"value\":5.477225575051661},\"x\":{\"field\":\"PC1\"},\"y\":{\"field\":\"PC3\"}},\"id\":\"6094\",\"type\":\"Scatter\"},{\"attributes\":{\"source\":{\"id\":\"5730\"}},\"id\":\"5737\",\"type\":\"CDSView\"},{\"attributes\":{},\"id\":\"6118\",\"type\":\"UnionRenderers\"},{\"attributes\":{\"angle\":{\"value\":0.0},\"fill_alpha\":{\"value\":1.0},\"fill_color\":{\"value\":\"#9467bd\"},\"hatch_alpha\":{\"value\":1.0},\"hatch_color\":{\"value\":\"black\"},\"hatch_scale\":{\"value\":12.0},\"hatch_weight\":{\"value\":1.0},\"line_alpha\":{\"value\":1.0},\"line_cap\":{\"value\":\"butt\"},\"line_color\":{\"value\":\"#9467bd\"},\"line_dash\":{\"value\":[]},\"line_dash_offset\":{\"value\":0},\"line_join\":{\"value\":\"bevel\"},\"line_width\":{\"value\":1},\"marker\":{\"value\":\"circle\"},\"size\":{\"value\":5.477225575051661},\"x\":{\"field\":\"PC1\"},\"y\":{\"field\":\"PC3\"}},\"id\":\"6122\",\"type\":\"Scatter\"},{\"attributes\":{\"margin\":[5,5,5,5],\"name\":\"HSpacer11037\",\"sizing_mode\":\"stretch_width\"},\"id\":\"5644\",\"type\":\"Spacer\"},{\"attributes\":{\"overlay\":{\"id\":\"5673\"}},\"id\":\"5671\",\"type\":\"BoxZoomTool\"},{\"attributes\":{\"data\":{\"PC1\":{\"__ndarray__\":\"ioDrfhFO/78=\",\"dtype\":\"float64\",\"order\":\"little\",\"shape\":[1]},\"PC3\":{\"__ndarray__\":\"CK+/S4x4978=\",\"dtype\":\"float64\",\"order\":\"little\",\"shape\":[1]},\"clusters\":[9],\"coin_id\":[\"havven\"]},\"selected\":{\"id\":\"6194\"},\"selection_policy\":{\"id\":\"6226\"}},\"id\":\"6193\",\"type\":\"ColumnDataSource\"},{\"attributes\":{\"axis\":{\"id\":\"5660\"},\"grid_line_color\":null,\"ticker\":null},\"id\":\"5663\",\"type\":\"Grid\"},{\"attributes\":{\"fill_alpha\":{\"value\":0.2},\"fill_color\":{\"value\":\"#8b8b8b\"},\"line_alpha\":{\"value\":0.2},\"line_color\":{\"value\":\"#8b8b8b\"},\"size\":{\"value\":5.477225575051661},\"x\":{\"field\":\"PC1\"},\"y\":{\"field\":\"PC3\"}},\"id\":\"6038\",\"type\":\"Scatter\"},{\"attributes\":{\"fill_alpha\":{\"value\":0.2},\"fill_color\":{\"value\":\"#e5ae38\"},\"line_alpha\":{\"value\":0.2},\"line_color\":{\"value\":\"#e5ae38\"},\"size\":{\"value\":5.477225575051661},\"x\":{\"field\":\"price_change_percentage_24h\"},\"y\":{\"field\":\"price_change_percentage_7d\"}},\"id\":\"5735\",\"type\":\"Scatter\"},{\"attributes\":{\"fill_alpha\":{\"value\":0.2},\"fill_color\":{\"value\":\"#17becf\"},\"line_alpha\":{\"value\":0.2},\"line_color\":{\"value\":\"#17becf\"},\"size\":{\"value\":5.477225575051661},\"x\":{\"field\":\"PC1\"},\"y\":{\"field\":\"PC3\"}},\"id\":\"6066\",\"type\":\"Scatter\"},{\"attributes\":{\"data_source\":{\"id\":\"5730\"},\"glyph\":{\"id\":\"5733\"},\"hover_glyph\":null,\"muted_glyph\":{\"id\":\"5735\"},\"nonselection_glyph\":{\"id\":\"5734\"},\"selection_glyph\":{\"id\":\"5753\"},\"view\":{\"id\":\"5737\"}},\"id\":\"5736\",\"type\":\"GlyphRenderer\"},{\"attributes\":{},\"id\":\"5918\",\"type\":\"BasicTicker\"},{\"attributes\":{\"children\":[{\"id\":\"6475\"},{\"id\":\"6473\"}]},\"id\":\"6476\",\"type\":\"Column\"},{\"attributes\":{\"axis\":{\"id\":\"5913\"},\"grid_line_color\":null,\"ticker\":null},\"id\":\"5916\",\"type\":\"Grid\"},{\"attributes\":{\"toolbars\":[{\"id\":\"5674\"},{\"id\":\"5927\"}],\"tools\":[{\"id\":\"5647\"},{\"id\":\"5668\"},{\"id\":\"5669\"},{\"id\":\"5670\"},{\"id\":\"5671\"},{\"id\":\"5672\"},{\"id\":\"5894\"},{\"id\":\"5921\"},{\"id\":\"5922\"},{\"id\":\"5923\"},{\"id\":\"5924\"},{\"id\":\"5925\"}]},\"id\":\"6474\",\"type\":\"ProxyToolbar\"},{\"attributes\":{\"data\":{\"clusters\":[2],\"coin_id\":[\"celsius-degree-token\"],\"price_change_percentage_24h\":{\"__ndarray__\":\"VLqXBn668D8=\",\"dtype\":\"float64\",\"order\":\"little\",\"shape\":[1]},\"price_change_percentage_7d\":{\"__ndarray__\":\"Nv03JFjJ478=\",\"dtype\":\"float64\",\"order\":\"little\",\"shape\":[1]}},\"selected\":{\"id\":\"5731\"},\"selection_policy\":{\"id\":\"5749\"}},\"id\":\"5730\",\"type\":\"ColumnDataSource\"},{\"attributes\":{},\"id\":\"5749\",\"type\":\"UnionRenderers\"},{\"attributes\":{},\"id\":\"6028\",\"type\":\"UnionRenderers\"},{\"attributes\":{\"axis\":{\"id\":\"5664\"},\"dimension\":1,\"grid_line_color\":null,\"ticker\":null},\"id\":\"5667\",\"type\":\"Grid\"},{\"attributes\":{\"fill_alpha\":{\"value\":0.2},\"fill_color\":{\"value\":\"#6d904f\"},\"line_alpha\":{\"value\":0.2},\"line_color\":{\"value\":\"#6d904f\"},\"size\":{\"value\":5.477225575051661},\"x\":{\"field\":\"PC1\"},\"y\":{\"field\":\"PC3\"}},\"id\":\"6012\",\"type\":\"Scatter\"},{\"attributes\":{},\"id\":\"6124\",\"type\":\"Selection\"},{\"attributes\":{\"label\":{\"value\":\"0\"},\"renderers\":[{\"id\":\"5693\"}]},\"id\":\"5706\",\"type\":\"LegendItem\"},{\"attributes\":{\"click_policy\":\"mute\",\"items\":[{\"id\":\"5959\"},{\"id\":\"5981\"},{\"id\":\"6005\"},{\"id\":\"6031\"},{\"id\":\"6059\"},{\"id\":\"6089\"},{\"id\":\"6121\"},{\"id\":\"6155\"},{\"id\":\"6191\"},{\"id\":\"6229\"}],\"location\":[0,0],\"title\":\"clusters\"},\"id\":\"5958\",\"type\":\"Legend\"},{\"attributes\":{\"angle\":{\"value\":0.0},\"fill_alpha\":{\"value\":1.0},\"fill_color\":{\"value\":\"#fc4f30\"},\"hatch_alpha\":{\"value\":1.0},\"hatch_color\":{\"value\":\"black\"},\"hatch_scale\":{\"value\":12.0},\"hatch_weight\":{\"value\":1.0},\"line_alpha\":{\"value\":1.0},\"line_cap\":{\"value\":\"butt\"},\"line_color\":{\"value\":\"#fc4f30\"},\"line_dash\":{\"value\":[]},\"line_dash_offset\":{\"value\":0},\"line_join\":{\"value\":\"bevel\"},\"line_width\":{\"value\":1},\"marker\":{\"value\":\"circle\"},\"size\":{\"value\":5.477225575051661},\"x\":{\"field\":\"PC1\"},\"y\":{\"field\":\"PC3\"}},\"id\":\"5982\",\"type\":\"Scatter\"},{\"attributes\":{},\"id\":\"5668\",\"type\":\"SaveTool\"},{\"attributes\":{\"fill_alpha\":{\"value\":0.1},\"fill_color\":{\"value\":\"#9467bd\"},\"line_alpha\":{\"value\":0.1},\"line_color\":{\"value\":\"#9467bd\"},\"size\":{\"value\":5.477225575051661},\"x\":{\"field\":\"PC1\"},\"y\":{\"field\":\"PC3\"}},\"id\":\"6095\",\"type\":\"Scatter\"},{\"attributes\":{\"fill_color\":{\"value\":\"#30a2da\"},\"line_color\":{\"value\":\"#30a2da\"},\"size\":{\"value\":5.477225575051661},\"x\":{\"field\":\"PC1\"},\"y\":{\"field\":\"PC3\"}},\"id\":\"5943\",\"type\":\"Scatter\"},{\"attributes\":{\"source\":{\"id\":\"5961\"}},\"id\":\"5968\",\"type\":\"CDSView\"},{\"attributes\":{\"source\":{\"id\":\"6007\"}},\"id\":\"6014\",\"type\":\"CDSView\"},{\"attributes\":{\"data_source\":{\"id\":\"6007\"},\"glyph\":{\"id\":\"6010\"},\"hover_glyph\":null,\"muted_glyph\":{\"id\":\"6012\"},\"nonselection_glyph\":{\"id\":\"6011\"},\"selection_glyph\":{\"id\":\"6032\"},\"view\":{\"id\":\"6014\"}},\"id\":\"6013\",\"type\":\"GlyphRenderer\"},{\"attributes\":{\"fill_color\":{\"value\":\"#e5ae38\"},\"line_color\":{\"value\":\"#e5ae38\"},\"size\":{\"value\":5.477225575051661},\"x\":{\"field\":\"price_change_percentage_24h\"},\"y\":{\"field\":\"price_change_percentage_7d\"}},\"id\":\"5733\",\"type\":\"Scatter\"},{\"attributes\":{\"label\":{\"value\":\"2\"},\"renderers\":[{\"id\":\"5736\"}]},\"id\":\"5752\",\"type\":\"LegendItem\"},{\"attributes\":{\"label\":{\"value\":\"4\"},\"renderers\":[{\"id\":\"6039\"}]},\"id\":\"6059\",\"type\":\"LegendItem\"},{\"attributes\":{\"fill_alpha\":{\"value\":0.1},\"fill_color\":{\"value\":\"#6d904f\"},\"line_alpha\":{\"value\":0.1},\"line_color\":{\"value\":\"#6d904f\"},\"size\":{\"value\":5.477225575051661},\"x\":{\"field\":\"PC1\"},\"y\":{\"field\":\"PC3\"}},\"id\":\"6011\",\"type\":\"Scatter\"},{\"attributes\":{\"angle\":{\"value\":0.0},\"fill_alpha\":{\"value\":1.0},\"fill_color\":{\"value\":\"#6d904f\"},\"hatch_alpha\":{\"value\":1.0},\"hatch_color\":{\"value\":\"black\"},\"hatch_scale\":{\"value\":12.0},\"hatch_weight\":{\"value\":1.0},\"line_alpha\":{\"value\":1.0},\"line_cap\":{\"value\":\"butt\"},\"line_color\":{\"value\":\"#6d904f\"},\"line_dash\":{\"value\":[]},\"line_dash_offset\":{\"value\":0},\"line_join\":{\"value\":\"bevel\"},\"line_width\":{\"value\":1},\"marker\":{\"value\":\"circle\"},\"size\":{\"value\":5.477225575051661},\"x\":{\"field\":\"PC1\"},\"y\":{\"field\":\"PC3\"}},\"id\":\"6032\",\"type\":\"Scatter\"},{\"attributes\":{\"fill_alpha\":{\"value\":0.2},\"fill_color\":{\"value\":\"#d62728\"},\"line_alpha\":{\"value\":0.2},\"line_color\":{\"value\":\"#d62728\"},\"size\":{\"value\":5.477225575051661},\"x\":{\"field\":\"PC1\"},\"y\":{\"field\":\"PC3\"}},\"id\":\"6128\",\"type\":\"Scatter\"},{\"attributes\":{\"fill_alpha\":{\"value\":0.2},\"fill_color\":{\"value\":\"#e377c2\"},\"line_alpha\":{\"value\":0.2},\"line_color\":{\"value\":\"#e377c2\"},\"size\":{\"value\":5.477225575051661},\"x\":{\"field\":\"PC1\"},\"y\":{\"field\":\"PC3\"}},\"id\":\"6198\",\"type\":\"Scatter\"},{\"attributes\":{\"data_source\":{\"id\":\"5940\"},\"glyph\":{\"id\":\"5943\"},\"hover_glyph\":null,\"muted_glyph\":{\"id\":\"5945\"},\"nonselection_glyph\":{\"id\":\"5944\"},\"selection_glyph\":{\"id\":\"5960\"},\"view\":{\"id\":\"5947\"}},\"id\":\"5946\",\"type\":\"GlyphRenderer\"},{\"attributes\":{\"data_source\":{\"id\":\"6091\"},\"glyph\":{\"id\":\"6094\"},\"hover_glyph\":null,\"muted_glyph\":{\"id\":\"6096\"},\"nonselection_glyph\":{\"id\":\"6095\"},\"selection_glyph\":{\"id\":\"6122\"},\"view\":{\"id\":\"6098\"}},\"id\":\"6097\",\"type\":\"GlyphRenderer\"},{\"attributes\":{\"label\":{\"value\":\"9\"},\"renderers\":[{\"id\":\"6199\"}]},\"id\":\"6229\",\"type\":\"LegendItem\"},{\"attributes\":{\"fill_alpha\":{\"value\":0.1},\"fill_color\":{\"value\":\"#e5ae38\"},\"line_alpha\":{\"value\":0.1},\"line_color\":{\"value\":\"#e5ae38\"},\"size\":{\"value\":5.477225575051661},\"x\":{\"field\":\"PC1\"},\"y\":{\"field\":\"PC3\"}},\"id\":\"5987\",\"type\":\"Scatter\"},{\"attributes\":{\"source\":{\"id\":\"6091\"}},\"id\":\"6098\",\"type\":\"CDSView\"},{\"attributes\":{},\"id\":\"5914\",\"type\":\"BasicTicker\"},{\"attributes\":{\"source\":{\"id\":\"6033\"}},\"id\":\"6040\",\"type\":\"CDSView\"},{\"attributes\":{},\"id\":\"5955\",\"type\":\"UnionRenderers\"},{\"attributes\":{\"label\":{\"value\":\"3\"},\"renderers\":[{\"id\":\"6013\"}]},\"id\":\"6031\",\"type\":\"LegendItem\"},{\"attributes\":{\"active_multi\":null,\"tools\":[{\"id\":\"5894\"},{\"id\":\"5921\"},{\"id\":\"5922\"},{\"id\":\"5923\"},{\"id\":\"5924\"},{\"id\":\"5925\"}]},\"id\":\"5927\",\"type\":\"Toolbar\"},{\"attributes\":{},\"id\":\"6056\",\"type\":\"UnionRenderers\"},{\"attributes\":{\"data_source\":{\"id\":\"6033\"},\"glyph\":{\"id\":\"6036\"},\"hover_glyph\":null,\"muted_glyph\":{\"id\":\"6038\"},\"nonselection_glyph\":{\"id\":\"6037\"},\"selection_glyph\":{\"id\":\"6060\"},\"view\":{\"id\":\"6040\"}},\"id\":\"6039\",\"type\":\"GlyphRenderer\"},{\"attributes\":{\"end\":7.337416887188065,\"reset_end\":7.337416887188065,\"reset_start\":-5.472684877740597,\"start\":-5.472684877740597,\"tags\":[[[\"PC3\",\"PC3\",null]]]},\"id\":\"5893\",\"type\":\"Range1d\"},{\"attributes\":{\"data\":{\"clusters\":[0,0,0,0,0,0,0,0,0,0,0,0,0],\"coin_id\":[\"bitcoin\",\"ethereum\",\"bitcoin-cash\",\"binancecoin\",\"chainlink\",\"cardano\",\"litecoin\",\"monero\",\"tezos\",\"cosmos\",\"wrapped-bitcoin\",\"zcash\",\"maker\"],\"price_change_percentage_24h\":{\"__ndarray__\":\"DdlqYN9F4D86azDosLzHPzALIwCtFvM/9w6McDSK7D/VDHOpb1eHPzMEvaFkP7o/Sds39trWsz9Epj8/c9DQP4xAeNEVZ8O/qq8st/Fh0L8FWWk3mH7gP6wo083aUMC//ACFOIMFwL8=\",\"dtype\":\"float64\",\"order\":\"little\",\"shape\":[13]},\"price_change_percentage_7d\":{\"__ndarray__\":\"U1k8q3mQ3z9yoPpI+ebtPzAB2dP2AQBAgmkOMZk89T8FNulI+JMEQCZRaSLGIPg/84wjaB1l1T8rMp3jf678P2VmURqKqeY/XK6ZksNx/T9DfMqy1o7dPyTPDB1Xu+0/srW7TleV4j8=\",\"dtype\":\"float64\",\"order\":\"little\",\"shape\":[13]}},\"selected\":{\"id\":\"5688\"},\"selection_policy\":{\"id\":\"5702\"}},\"id\":\"5687\",\"type\":\"ColumnDataSource\"},{\"attributes\":{\"data\":{\"PC1\":{\"__ndarray__\":\"uBcmq5X+C0A=\",\"dtype\":\"float64\",\"order\":\"little\",\"shape\":[1]},\"PC3\":{\"__ndarray__\":\"vBiQ3mIUGUA=\",\"dtype\":\"float64\",\"order\":\"little\",\"shape\":[1]},\"clusters\":[3],\"coin_id\":[\"celsius-degree-token\"]},\"selected\":{\"id\":\"6008\"},\"selection_policy\":{\"id\":\"6028\"}},\"id\":\"6007\",\"type\":\"ColumnDataSource\"},{\"attributes\":{},\"id\":\"6188\",\"type\":\"UnionRenderers\"},{\"attributes\":{},\"id\":\"5669\",\"type\":\"PanTool\"},{\"attributes\":{},\"id\":\"5685\",\"type\":\"BasicTickFormatter\"},{\"attributes\":{\"angle\":{\"value\":0.0},\"fill_alpha\":{\"value\":1.0},\"fill_color\":{\"value\":\"#8b8b8b\"},\"hatch_alpha\":{\"value\":1.0},\"hatch_color\":{\"value\":\"black\"},\"hatch_scale\":{\"value\":12.0},\"hatch_weight\":{\"value\":1.0},\"line_alpha\":{\"value\":1.0},\"line_cap\":{\"value\":\"butt\"},\"line_color\":{\"value\":\"#8b8b8b\"},\"line_dash\":{\"value\":[]},\"line_dash_offset\":{\"value\":0},\"line_join\":{\"value\":\"bevel\"},\"line_width\":{\"value\":1},\"marker\":{\"value\":\"circle\"},\"size\":{\"value\":5.477225575051661},\"x\":{\"field\":\"PC1\"},\"y\":{\"field\":\"PC3\"}},\"id\":\"6060\",\"type\":\"Scatter\"},{\"attributes\":{\"data\":{\"PC1\":{\"__ndarray__\":\"iceVoQspBkCFIhk7uS33Pw==\",\"dtype\":\"float64\",\"order\":\"little\",\"shape\":[2]},\"PC3\":{\"__ndarray__\":\"VRN6rvU+/r/z8BC4yUz7vw==\",\"dtype\":\"float64\",\"order\":\"little\",\"shape\":[2]},\"clusters\":[0,0],\"coin_id\":[\"chainlink\",\"tezos\"]},\"selected\":{\"id\":\"5941\"},\"selection_policy\":{\"id\":\"5955\"}},\"id\":\"5940\",\"type\":\"ColumnDataSource\"},{\"attributes\":{},\"id\":\"5755\",\"type\":\"Selection\"},{\"attributes\":{},\"id\":\"5937\",\"type\":\"AllLabels\"},{\"attributes\":{},\"id\":\"6086\",\"type\":\"UnionRenderers\"},{\"attributes\":{},\"id\":\"5682\",\"type\":\"BasicTickFormatter\"},{\"attributes\":{\"fill_alpha\":{\"value\":0.1},\"fill_color\":{\"value\":\"#30a2da\"},\"line_alpha\":{\"value\":0.1},\"line_color\":{\"value\":\"#30a2da\"},\"size\":{\"value\":5.477225575051661},\"x\":{\"field\":\"PC1\"},\"y\":{\"field\":\"PC3\"}},\"id\":\"5944\",\"type\":\"Scatter\"},{\"attributes\":{\"data\":{\"PC1\":{\"__ndarray__\":\"JNNLfdJFAEA+wpqYeun/P8Bok3rG+gJAc+UA1UdR/T+WrjND15cDQAIeN7Y1IABA5J3NMm53AECnoADkUpT5Pw==\",\"dtype\":\"float64\",\"order\":\"little\",\"shape\":[8]},\"PC3\":{\"__ndarray__\":\"IOunLmPj1r+soVocJjHtv+xn98Sqwu+/OoLVBgi757+qQCVb3Dfyv7YbIhZi29a/pSBBUvws7r9KGqgBqobqvw==\",\"dtype\":\"float64\",\"order\":\"little\",\"shape\":[8]},\"clusters\":[4,4,4,4,4,4,4,4],\"coin_id\":[\"bitcoin\",\"ethereum\",\"cardano\",\"litecoin\",\"cosmos\",\"wrapped-bitcoin\",\"zcash\",\"maker\"]},\"selected\":{\"id\":\"6034\"},\"selection_policy\":{\"id\":\"6056\"}},\"id\":\"6033\",\"type\":\"ColumnDataSource\"},{\"attributes\":{\"toolbar\":{\"id\":\"6474\"},\"toolbar_location\":\"above\"},\"id\":\"6475\",\"type\":\"ToolbarBox\"},{\"attributes\":{},\"id\":\"5670\",\"type\":\"WheelZoomTool\"},{\"attributes\":{\"callback\":null,\"renderers\":[{\"id\":\"5946\"},{\"id\":\"5967\"},{\"id\":\"5989\"},{\"id\":\"6013\"},{\"id\":\"6039\"},{\"id\":\"6067\"},{\"id\":\"6097\"},{\"id\":\"6129\"},{\"id\":\"6163\"},{\"id\":\"6199\"}],\"tags\":[\"hv_created\"],\"tooltips\":[[\"clusters\",\"@{clusters}\"],[\"PC1\",\"@{PC1}\"],[\"PC3\",\"@{PC3}\"],[\"coin_id\",\"@{coin_id}\"]]},\"id\":\"5894\",\"type\":\"HoverTool\"},{\"attributes\":{\"angle\":{\"value\":0.0},\"fill_alpha\":{\"value\":1.0},\"fill_color\":{\"value\":\"#e377c2\"},\"hatch_alpha\":{\"value\":1.0},\"hatch_color\":{\"value\":\"black\"},\"hatch_scale\":{\"value\":12.0},\"hatch_weight\":{\"value\":1.0},\"line_alpha\":{\"value\":1.0},\"line_cap\":{\"value\":\"butt\"},\"line_color\":{\"value\":\"#e377c2\"},\"line_dash\":{\"value\":[]},\"line_dash_offset\":{\"value\":0},\"line_join\":{\"value\":\"bevel\"},\"line_width\":{\"value\":1},\"marker\":{\"value\":\"circle\"},\"size\":{\"value\":5.477225575051661},\"x\":{\"field\":\"PC1\"},\"y\":{\"field\":\"PC3\"}},\"id\":\"6230\",\"type\":\"Scatter\"},{\"attributes\":{\"children\":[{\"id\":\"5644\"},{\"id\":\"6476\"},{\"id\":\"6873\"}],\"margin\":[0,0,0,0],\"name\":\"Row11033\",\"tags\":[\"embedded\"]},\"id\":\"5643\",\"type\":\"Row\"},{\"attributes\":{\"data\":{\"PC1\":{\"__ndarray__\":\"yoCELRtn6b88uSl5ZrXsvw==\",\"dtype\":\"float64\",\"order\":\"little\",\"shape\":[2]},\"PC3\":{\"__ndarray__\":\"RmmR4WMb9z++JixuF5v1Pw==\",\"dtype\":\"float64\",\"order\":\"little\",\"shape\":[2]},\"clusters\":[8,8],\"coin_id\":[\"nem\",\"omisego\"]},\"selected\":{\"id\":\"6158\"},\"selection_policy\":{\"id\":\"6188\"}},\"id\":\"6157\",\"type\":\"ColumnDataSource\"},{\"attributes\":{\"data_source\":{\"id\":\"6061\"},\"glyph\":{\"id\":\"6064\"},\"hover_glyph\":null,\"muted_glyph\":{\"id\":\"6066\"},\"nonselection_glyph\":{\"id\":\"6065\"},\"selection_glyph\":{\"id\":\"6090\"},\"view\":{\"id\":\"6068\"}},\"id\":\"6067\",\"type\":\"GlyphRenderer\"},{\"attributes\":{\"label\":{\"value\":\"5\"},\"renderers\":[{\"id\":\"6067\"}]},\"id\":\"6089\",\"type\":\"LegendItem\"},{\"attributes\":{},\"id\":\"6062\",\"type\":\"Selection\"},{\"attributes\":{\"fill_color\":{\"value\":\"#6d904f\"},\"line_color\":{\"value\":\"#6d904f\"},\"size\":{\"value\":5.477225575051661},\"x\":{\"field\":\"PC1\"},\"y\":{\"field\":\"PC3\"}},\"id\":\"6010\",\"type\":\"Scatter\"},{\"attributes\":{\"end\":3.9900588774599237,\"reset_end\":3.9900588774599237,\"reset_start\":-2.6542485276789156,\"start\":-2.6542485276789156,\"tags\":[[[\"PC1\",\"PC1\",null]]]},\"id\":\"5892\",\"type\":\"Range1d\"},{\"attributes\":{\"below\":[{\"id\":\"5913\"}],\"center\":[{\"id\":\"5916\"},{\"id\":\"5920\"}],\"height\":300,\"left\":[{\"id\":\"5917\"}],\"margin\":null,\"min_border_bottom\":10,\"min_border_left\":10,\"min_border_right\":10,\"min_border_top\":10,\"renderers\":[{\"id\":\"5946\"},{\"id\":\"5967\"},{\"id\":\"5989\"},{\"id\":\"6013\"},{\"id\":\"6039\"},{\"id\":\"6067\"},{\"id\":\"6097\"},{\"id\":\"6129\"},{\"id\":\"6163\"},{\"id\":\"6199\"}],\"right\":[{\"id\":\"5958\"}],\"sizing_mode\":\"fixed\",\"title\":{\"id\":\"5905\"},\"toolbar\":{\"id\":\"5927\"},\"toolbar_location\":null,\"width\":700,\"x_range\":{\"id\":\"5892\"},\"x_scale\":{\"id\":\"5909\"},\"y_range\":{\"id\":\"5893\"},\"y_scale\":{\"id\":\"5911\"}},\"id\":\"5904\",\"subtype\":\"Figure\",\"type\":\"Plot\"},{\"attributes\":{},\"id\":\"5665\",\"type\":\"BasicTicker\"},{\"attributes\":{\"source\":{\"id\":\"6061\"}},\"id\":\"6068\",\"type\":\"CDSView\"},{\"attributes\":{\"fill_alpha\":{\"value\":0.1},\"fill_color\":{\"value\":\"#1f77b4\"},\"line_alpha\":{\"value\":0.1},\"line_color\":{\"value\":\"#1f77b4\"},\"size\":{\"value\":5.477225575051661},\"x\":{\"field\":\"PC1\"},\"y\":{\"field\":\"PC3\"}},\"id\":\"6161\",\"type\":\"Scatter\"},{\"attributes\":{\"click_policy\":\"mute\",\"items\":[{\"id\":\"5706\"},{\"id\":\"5728\"},{\"id\":\"5752\"},{\"id\":\"5778\"}],\"location\":[0,0],\"title\":\"clusters\"},\"id\":\"5705\",\"type\":\"Legend\"},{\"attributes\":{\"fill_alpha\":{\"value\":0.2},\"fill_color\":{\"value\":\"#1f77b4\"},\"line_alpha\":{\"value\":0.2},\"line_color\":{\"value\":\"#1f77b4\"},\"size\":{\"value\":5.477225575051661},\"x\":{\"field\":\"PC1\"},\"y\":{\"field\":\"PC3\"}},\"id\":\"6162\",\"type\":\"Scatter\"},{\"attributes\":{\"below\":[{\"id\":\"5660\"}],\"center\":[{\"id\":\"5663\"},{\"id\":\"5667\"}],\"height\":300,\"left\":[{\"id\":\"5664\"}],\"margin\":null,\"min_border_bottom\":10,\"min_border_left\":10,\"min_border_right\":10,\"min_border_top\":10,\"renderers\":[{\"id\":\"5693\"},{\"id\":\"5714\"},{\"id\":\"5736\"},{\"id\":\"5760\"}],\"right\":[{\"id\":\"5705\"}],\"sizing_mode\":\"fixed\",\"title\":{\"id\":\"5652\"},\"toolbar\":{\"id\":\"5674\"},\"toolbar_location\":null,\"width\":700,\"x_range\":{\"id\":\"5645\"},\"x_scale\":{\"id\":\"5656\"},\"y_range\":{\"id\":\"5646\"},\"y_scale\":{\"id\":\"5658\"}},\"id\":\"5651\",\"subtype\":\"Figure\",\"type\":\"Plot\"},{\"attributes\":{\"data\":{\"clusters\":[3,3,3,3,3,3,3,3,3,3,3,3,3,3,3,3,3,3,3,3,3,3,3,3,3,3],\"coin_id\":[\"tether\",\"ripple\",\"bitcoin-cash-sv\",\"crypto-com-chain\",\"usd-coin\",\"eos\",\"tron\",\"okb\",\"stellar\",\"cdai\",\"neo\",\"leo-token\",\"huobi-token\",\"nem\",\"binance-usd\",\"iota\",\"vechain\",\"theta-token\",\"dash\",\"ethereum-classic\",\"havven\",\"omisego\",\"ontology\",\"ftx-token\",\"true-usd\",\"digibyte\"],\"price_change_percentage_24h\":{\"__ndarray__\":\"mCJF1OlLlj/mJRG3Ed+kv1qZGRifu9w//rJXHrAz1T/yMTqenpahPx9kk3dK7sM/GTRehHalwD90fnl54Irtv9XPDahDw9G/+VOWQSEmxz+kpbukw1bSP6eM4M4OgKo/BcMOj9+jqr/Chq6S5ebLv2h3TIfCZ68/weEQ8QyV0D/KmZTmC7niP1YH9WGFy/m/N7JuVBEB07/EU4GAhEGyv8Ocf0hw2/a/lrPBJY23/j/IKcQzxy3av5WrmDyeito/Bf22eE/6sz9Y362Ir3rzPw==\",\"dtype\":\"float64\",\"order\":\"little\",\"shape\":[26]},\"price_change_percentage_7d\":{\"__ndarray__\":\"bZSIvk+a5r9RujxqH/Ppvw2U7adXaMi/d+r7VGbW+b9EGSx/8nTnv4rfBo4Lhe2/BEBwXEEApb8Udj8VbP/2vySelkVDp9i/7SZvVsyO5r8uu+JVH+LUvziN+gRMte2/o2qlez1D3b/CtPLKIS7rvyYjaswHnea/US6joeTvzz/dRmuCvtDvv/9TV66U6fq/ZWX+mWVCuD8GJ0pHuV/Nv8nIE2ZWH5q/TTxj/me11z+Htdvf1gXtv2Avihmzf9o/e31xtwIC5r/STlu6Y3Ljvw==\",\"dtype\":\"float64\",\"order\":\"little\",\"shape\":[26]}},\"selected\":{\"id\":\"5755\"},\"selection_policy\":{\"id\":\"5775\"}},\"id\":\"5754\",\"type\":\"ColumnDataSource\"},{\"attributes\":{\"fill_alpha\":{\"value\":0.2},\"fill_color\":{\"value\":\"#30a2da\"},\"line_alpha\":{\"value\":0.2},\"line_color\":{\"value\":\"#30a2da\"},\"size\":{\"value\":5.477225575051661},\"x\":{\"field\":\"PC1\"},\"y\":{\"field\":\"PC3\"}},\"id\":\"5945\",\"type\":\"Scatter\"},{\"attributes\":{\"fill_alpha\":{\"value\":0.2},\"fill_color\":{\"value\":\"#9467bd\"},\"line_alpha\":{\"value\":0.2},\"line_color\":{\"value\":\"#9467bd\"},\"size\":{\"value\":5.477225575051661},\"x\":{\"field\":\"PC1\"},\"y\":{\"field\":\"PC3\"}},\"id\":\"6096\",\"type\":\"Scatter\"},{\"attributes\":{\"end\":2.997678656273595,\"reset_end\":2.997678656273595,\"reset_start\":-2.107454305728652,\"start\":-2.107454305728652,\"tags\":[[[\"price_change_percentage_7d\",\"price_change_percentage_7d\",null]]]},\"id\":\"5646\",\"type\":\"Range1d\"},{\"attributes\":{\"callback\":null,\"renderers\":[{\"id\":\"5693\"},{\"id\":\"5714\"},{\"id\":\"5736\"},{\"id\":\"5760\"}],\"tags\":[\"hv_created\"],\"tooltips\":[[\"clusters\",\"@{clusters}\"],[\"price_change_percentage_24h\",\"@{price_change_percentage_24h}\"],[\"price_change_percentage_7d\",\"@{price_change_percentage_7d}\"],[\"coin_id\",\"@{coin_id}\"]]},\"id\":\"5647\",\"type\":\"HoverTool\"},{\"attributes\":{\"bottom_units\":\"screen\",\"fill_alpha\":0.5,\"fill_color\":\"lightgrey\",\"left_units\":\"screen\",\"level\":\"overlay\",\"line_alpha\":1.0,\"line_color\":\"black\",\"line_dash\":[4,4],\"line_width\":2,\"right_units\":\"screen\",\"syncable\":false,\"top_units\":\"screen\"},\"id\":\"5926\",\"type\":\"BoxAnnotation\"},{\"attributes\":{},\"id\":\"5984\",\"type\":\"Selection\"},{\"attributes\":{\"data_source\":{\"id\":\"6123\"},\"glyph\":{\"id\":\"6126\"},\"hover_glyph\":null,\"muted_glyph\":{\"id\":\"6128\"},\"nonselection_glyph\":{\"id\":\"6127\"},\"selection_glyph\":{\"id\":\"6156\"},\"view\":{\"id\":\"6130\"}},\"id\":\"6129\",\"type\":\"GlyphRenderer\"},{\"attributes\":{\"label\":{\"value\":\"1\"},\"renderers\":[{\"id\":\"5714\"}]},\"id\":\"5728\",\"type\":\"LegendItem\"},{\"attributes\":{\"source\":{\"id\":\"5940\"}},\"id\":\"5947\",\"type\":\"CDSView\"},{\"attributes\":{\"fill_color\":{\"value\":\"#d62728\"},\"line_color\":{\"value\":\"#d62728\"},\"size\":{\"value\":5.477225575051661},\"x\":{\"field\":\"PC1\"},\"y\":{\"field\":\"PC3\"}},\"id\":\"6126\",\"type\":\"Scatter\"},{\"attributes\":{\"angle\":{\"value\":0.0},\"fill_alpha\":{\"value\":1.0},\"fill_color\":{\"value\":\"#e5ae38\"},\"hatch_alpha\":{\"value\":1.0},\"hatch_color\":{\"value\":\"black\"},\"hatch_scale\":{\"value\":12.0},\"hatch_weight\":{\"value\":1.0},\"line_alpha\":{\"value\":1.0},\"line_cap\":{\"value\":\"butt\"},\"line_color\":{\"value\":\"#e5ae38\"},\"line_dash\":{\"value\":[]},\"line_dash_offset\":{\"value\":0},\"line_join\":{\"value\":\"bevel\"},\"line_width\":{\"value\":1},\"marker\":{\"value\":\"circle\"},\"size\":{\"value\":5.477225575051661},\"x\":{\"field\":\"price_change_percentage_24h\"},\"y\":{\"field\":\"price_change_percentage_7d\"}},\"id\":\"5753\",\"type\":\"Scatter\"},{\"attributes\":{},\"id\":\"5934\",\"type\":\"AllLabels\"},{\"attributes\":{\"label\":{\"value\":\"6\"},\"renderers\":[{\"id\":\"6097\"}]},\"id\":\"6121\",\"type\":\"LegendItem\"},{\"attributes\":{},\"id\":\"6194\",\"type\":\"Selection\"},{\"attributes\":{\"axis_label\":\"price_change_percentage_7d\",\"formatter\":{\"id\":\"5685\"},\"major_label_policy\":{\"id\":\"5684\"},\"ticker\":{\"id\":\"5665\"}},\"id\":\"5664\",\"type\":\"LinearAxis\"},{\"attributes\":{\"angle\":{\"value\":0.0},\"fill_alpha\":{\"value\":1.0},\"fill_color\":{\"value\":\"#fc4f30\"},\"hatch_alpha\":{\"value\":1.0},\"hatch_color\":{\"value\":\"black\"},\"hatch_scale\":{\"value\":12.0},\"hatch_weight\":{\"value\":1.0},\"line_alpha\":{\"value\":1.0},\"line_cap\":{\"value\":\"butt\"},\"line_color\":{\"value\":\"#fc4f30\"},\"line_dash\":{\"value\":[]},\"line_dash_offset\":{\"value\":0},\"line_join\":{\"value\":\"bevel\"},\"line_width\":{\"value\":1},\"marker\":{\"value\":\"circle\"},\"size\":{\"value\":5.477225575051661},\"x\":{\"field\":\"price_change_percentage_24h\"},\"y\":{\"field\":\"price_change_percentage_7d\"}},\"id\":\"5729\",\"type\":\"Scatter\"},{\"attributes\":{\"data\":{\"PC1\":{\"__ndarray__\":\"kgL6EoMDAcCo/X9e5pn+v2uZFt3CIgPA7XRmKWUpAsA=\",\"dtype\":\"float64\",\"order\":\"little\",\"shape\":[4]},\"PC3\":{\"__ndarray__\":\"txS+bpuUwD8vC+9BE6mUP2vj2Kb2utq/QpCYe5LD678=\",\"dtype\":\"float64\",\"order\":\"little\",\"shape\":[4]},\"clusters\":[5,5,5,5],\"coin_id\":[\"crypto-com-chain\",\"okb\",\"vechain\",\"ontology\"]},\"selected\":{\"id\":\"6062\"},\"selection_policy\":{\"id\":\"6086\"}},\"id\":\"6061\",\"type\":\"ColumnDataSource\"},{\"attributes\":{\"axis_label\":\"PC3\",\"formatter\":{\"id\":\"5938\"},\"major_label_policy\":{\"id\":\"5937\"},\"ticker\":{\"id\":\"5918\"}},\"id\":\"5917\",\"type\":\"LinearAxis\"},{\"attributes\":{},\"id\":\"5684\",\"type\":\"AllLabels\"},{\"attributes\":{\"fill_color\":{\"value\":\"#e5ae38\"},\"line_color\":{\"value\":\"#e5ae38\"},\"size\":{\"value\":5.477225575051661},\"x\":{\"field\":\"PC1\"},\"y\":{\"field\":\"PC3\"}},\"id\":\"5986\",\"type\":\"Scatter\"},{\"attributes\":{\"data_source\":{\"id\":\"5983\"},\"glyph\":{\"id\":\"5986\"},\"hover_glyph\":null,\"muted_glyph\":{\"id\":\"5988\"},\"nonselection_glyph\":{\"id\":\"5987\"},\"selection_glyph\":{\"id\":\"6006\"},\"view\":{\"id\":\"5990\"}},\"id\":\"5989\",\"type\":\"GlyphRenderer\"},{\"attributes\":{},\"id\":\"5938\",\"type\":\"BasicTickFormatter\"},{\"attributes\":{\"angle\":{\"value\":0.0},\"fill_alpha\":{\"value\":1.0},\"fill_color\":{\"value\":\"#1f77b4\"},\"hatch_alpha\":{\"value\":1.0},\"hatch_color\":{\"value\":\"black\"},\"hatch_scale\":{\"value\":12.0},\"hatch_weight\":{\"value\":1.0},\"line_alpha\":{\"value\":1.0},\"line_cap\":{\"value\":\"butt\"},\"line_color\":{\"value\":\"#1f77b4\"},\"line_dash\":{\"value\":[]},\"line_dash_offset\":{\"value\":0},\"line_join\":{\"value\":\"bevel\"},\"line_width\":{\"value\":1},\"marker\":{\"value\":\"circle\"},\"size\":{\"value\":5.477225575051661},\"x\":{\"field\":\"PC1\"},\"y\":{\"field\":\"PC3\"}},\"id\":\"6192\",\"type\":\"Scatter\"},{\"attributes\":{\"source\":{\"id\":\"5687\"}},\"id\":\"5694\",\"type\":\"CDSView\"},{\"attributes\":{\"source\":{\"id\":\"6157\"}},\"id\":\"6164\",\"type\":\"CDSView\"},{\"attributes\":{\"bottom_units\":\"screen\",\"fill_alpha\":0.5,\"fill_color\":\"lightgrey\",\"left_units\":\"screen\",\"level\":\"overlay\",\"line_alpha\":1.0,\"line_color\":\"black\",\"line_dash\":[4,4],\"line_width\":2,\"right_units\":\"screen\",\"syncable\":false,\"top_units\":\"screen\"},\"id\":\"5673\",\"type\":\"BoxAnnotation\"},{\"attributes\":{\"source\":{\"id\":\"6123\"}},\"id\":\"6130\",\"type\":\"CDSView\"},{\"attributes\":{},\"id\":\"5775\",\"type\":\"UnionRenderers\"},{\"attributes\":{},\"id\":\"6226\",\"type\":\"UnionRenderers\"},{\"attributes\":{\"axis_label\":\"price_change_percentage_24h\",\"formatter\":{\"id\":\"5682\"},\"major_label_policy\":{\"id\":\"5681\"},\"ticker\":{\"id\":\"5661\"}},\"id\":\"5660\",\"type\":\"LinearAxis\"},{\"attributes\":{\"fill_alpha\":{\"value\":0.1},\"fill_color\":{\"value\":\"#8b8b8b\"},\"line_alpha\":{\"value\":0.1},\"line_color\":{\"value\":\"#8b8b8b\"},\"size\":{\"value\":5.477225575051661},\"x\":{\"field\":\"PC1\"},\"y\":{\"field\":\"PC3\"}},\"id\":\"6037\",\"type\":\"Scatter\"},{\"attributes\":{},\"id\":\"5935\",\"type\":\"BasicTickFormatter\"},{\"attributes\":{\"source\":{\"id\":\"5983\"}},\"id\":\"5990\",\"type\":\"CDSView\"},{\"attributes\":{\"source\":{\"id\":\"6193\"}},\"id\":\"6200\",\"type\":\"CDSView\"},{\"attributes\":{\"text\":\"PCA clusters 1 & 3\",\"text_color\":\"black\",\"text_font_size\":\"12pt\"},\"id\":\"5905\",\"type\":\"Title\"},{\"attributes\":{\"fill_alpha\":{\"value\":0.1},\"fill_color\":{\"value\":\"#fc4f30\"},\"line_alpha\":{\"value\":0.1},\"line_color\":{\"value\":\"#fc4f30\"},\"size\":{\"value\":5.477225575051661},\"x\":{\"field\":\"PC1\"},\"y\":{\"field\":\"PC3\"}},\"id\":\"5965\",\"type\":\"Scatter\"},{\"attributes\":{\"data\":{\"PC1\":{\"__ndarray__\":\"opXVt8EY8b/avP1Qmqfwv9TsAiEAs+2/L2wh725O8b+toly7tobzv/f+wvZQK+m/+SnKzXoL879TQPhaV/vwv6aYrfgUnPm/0PPK46uz+L+PCDVwRmzvv47eoDOV+PC/imeaqsaY7r8vAOzA9y7svxQusjkbVe+/O2iHiRvt47+ljh6Yd7/wv7o080Hbx/K/\",\"dtype\":\"float64\",\"order\":\"little\",\"shape\":[18]},\"PC3\":{\"__ndarray__\":\"0jNJZPoU4z9iZtLAcvDdP9brFdpkVdU/1t4EfgpI4z8zenhHpUHTPwzufq6EbdM/5avagTaLwr/+k59fEOzjP2JnuN2e+JY/US/gisR13D9wnUl65QLaPyDmN4ecleM/Iqj/UE5swb/5bp2xMB7Gv2ToOup9/sQ/uk3zWkil0T+4TpfIVb3jPyinM8sT7uY/\",\"dtype\":\"float64\",\"order\":\"little\",\"shape\":[18]},\"clusters\":[1,1,1,1,1,1,1,1,1,1,1,1,1,1,1,1,1,1],\"coin_id\":[\"tether\",\"ripple\",\"bitcoin-cash-sv\",\"usd-coin\",\"eos\",\"tron\",\"stellar\",\"cdai\",\"neo\",\"leo-token\",\"huobi-token\",\"binance-usd\",\"iota\",\"dash\",\"ethereum-classic\",\"ftx-token\",\"true-usd\",\"digibyte\"]},\"selected\":{\"id\":\"5962\"},\"selection_policy\":{\"id\":\"5978\"}},\"id\":\"5961\",\"type\":\"ColumnDataSource\"},{\"attributes\":{\"fill_color\":{\"value\":\"#1f77b4\"},\"line_color\":{\"value\":\"#1f77b4\"},\"size\":{\"value\":5.477225575051661},\"x\":{\"field\":\"PC1\"},\"y\":{\"field\":\"PC3\"}},\"id\":\"6160\",\"type\":\"Scatter\"},{\"attributes\":{\"fill_alpha\":{\"value\":0.1},\"fill_color\":{\"value\":\"#e5ae38\"},\"line_alpha\":{\"value\":0.1},\"line_color\":{\"value\":\"#e5ae38\"},\"size\":{\"value\":5.477225575051661},\"x\":{\"field\":\"price_change_percentage_24h\"},\"y\":{\"field\":\"price_change_percentage_7d\"}},\"id\":\"5734\",\"type\":\"Scatter\"},{\"attributes\":{\"source\":{\"id\":\"5754\"}},\"id\":\"5761\",\"type\":\"CDSView\"},{\"attributes\":{\"label\":{\"value\":\"1\"},\"renderers\":[{\"id\":\"5967\"}]},\"id\":\"5981\",\"type\":\"LegendItem\"},{\"attributes\":{\"active_multi\":null,\"tools\":[{\"id\":\"5647\"},{\"id\":\"5668\"},{\"id\":\"5669\"},{\"id\":\"5670\"},{\"id\":\"5671\"},{\"id\":\"5672\"}]},\"id\":\"5674\",\"type\":\"Toolbar\"},{\"attributes\":{\"fill_alpha\":{\"value\":0.1},\"fill_color\":{\"value\":\"#e377c2\"},\"line_alpha\":{\"value\":0.1},\"line_color\":{\"value\":\"#e377c2\"},\"size\":{\"value\":5.477225575051661},\"x\":{\"field\":\"PC1\"},\"y\":{\"field\":\"PC3\"}},\"id\":\"6197\",\"type\":\"Scatter\"},{\"attributes\":{\"data\":{\"clusters\":[1],\"coin_id\":[\"ethlend\"],\"price_change_percentage_24h\":{\"__ndarray__\":\"3WeHPpbsE8A=\",\"dtype\":\"float64\",\"order\":\"little\",\"shape\":[1]},\"price_change_percentage_7d\":{\"__ndarray__\":\"dIWi2pshp78=\",\"dtype\":\"float64\",\"order\":\"little\",\"shape\":[1]}},\"selected\":{\"id\":\"5709\"},\"selection_policy\":{\"id\":\"5725\"}},\"id\":\"5708\",\"type\":\"ColumnDataSource\"},{\"attributes\":{},\"id\":\"6002\",\"type\":\"UnionRenderers\"},{\"attributes\":{},\"id\":\"6152\",\"type\":\"UnionRenderers\"},{\"attributes\":{\"angle\":{\"value\":0.0},\"fill_alpha\":{\"value\":1.0},\"fill_color\":{\"value\":\"#30a2da\"},\"hatch_alpha\":{\"value\":1.0},\"hatch_color\":{\"value\":\"black\"},\"hatch_scale\":{\"value\":12.0},\"hatch_weight\":{\"value\":1.0},\"line_alpha\":{\"value\":1.0},\"line_cap\":{\"value\":\"butt\"},\"line_color\":{\"value\":\"#30a2da\"},\"line_dash\":{\"value\":[]},\"line_dash_offset\":{\"value\":0},\"line_join\":{\"value\":\"bevel\"},\"line_width\":{\"value\":1},\"marker\":{\"value\":\"circle\"},\"size\":{\"value\":5.477225575051661},\"x\":{\"field\":\"price_change_percentage_24h\"},\"y\":{\"field\":\"price_change_percentage_7d\"}},\"id\":\"5707\",\"type\":\"Scatter\"},{\"attributes\":{\"fill_alpha\":{\"value\":0.1},\"fill_color\":{\"value\":\"#30a2da\"},\"line_alpha\":{\"value\":0.1},\"line_color\":{\"value\":\"#30a2da\"},\"size\":{\"value\":5.477225575051661},\"x\":{\"field\":\"price_change_percentage_24h\"},\"y\":{\"field\":\"price_change_percentage_7d\"}},\"id\":\"5691\",\"type\":\"Scatter\"},{\"attributes\":{\"label\":{\"value\":\"2\"},\"renderers\":[{\"id\":\"5989\"}]},\"id\":\"6005\",\"type\":\"LegendItem\"},{\"attributes\":{},\"id\":\"6092\",\"type\":\"Selection\"},{\"attributes\":{\"data_source\":{\"id\":\"5754\"},\"glyph\":{\"id\":\"5757\"},\"hover_glyph\":null,\"muted_glyph\":{\"id\":\"5759\"},\"nonselection_glyph\":{\"id\":\"5758\"},\"selection_glyph\":{\"id\":\"5779\"},\"view\":{\"id\":\"5761\"}},\"id\":\"5760\",\"type\":\"GlyphRenderer\"},{\"attributes\":{\"fill_alpha\":{\"value\":0.1},\"fill_color\":{\"value\":\"#6d904f\"},\"line_alpha\":{\"value\":0.1},\"line_color\":{\"value\":\"#6d904f\"},\"size\":{\"value\":5.477225575051661},\"x\":{\"field\":\"price_change_percentage_24h\"},\"y\":{\"field\":\"price_change_percentage_7d\"}},\"id\":\"5758\",\"type\":\"Scatter\"},{\"attributes\":{},\"id\":\"6158\",\"type\":\"Selection\"},{\"attributes\":{\"fill_alpha\":{\"value\":0.1},\"fill_color\":{\"value\":\"#fc4f30\"},\"line_alpha\":{\"value\":0.1},\"line_color\":{\"value\":\"#fc4f30\"},\"size\":{\"value\":5.477225575051661},\"x\":{\"field\":\"price_change_percentage_24h\"},\"y\":{\"field\":\"price_change_percentage_7d\"}},\"id\":\"5712\",\"type\":\"Scatter\"},{\"attributes\":{\"angle\":{\"value\":0.0},\"fill_alpha\":{\"value\":1.0},\"fill_color\":{\"value\":\"#d62728\"},\"hatch_alpha\":{\"value\":1.0},\"hatch_color\":{\"value\":\"black\"},\"hatch_scale\":{\"value\":12.0},\"hatch_weight\":{\"value\":1.0},\"line_alpha\":{\"value\":1.0},\"line_cap\":{\"value\":\"butt\"},\"line_color\":{\"value\":\"#d62728\"},\"line_dash\":{\"value\":[]},\"line_dash_offset\":{\"value\":0},\"line_join\":{\"value\":\"bevel\"},\"line_width\":{\"value\":1},\"marker\":{\"value\":\"circle\"},\"size\":{\"value\":5.477225575051661},\"x\":{\"field\":\"PC1\"},\"y\":{\"field\":\"PC3\"}},\"id\":\"6156\",\"type\":\"Scatter\"},{\"attributes\":{},\"id\":\"5709\",\"type\":\"Selection\"},{\"attributes\":{\"angle\":{\"value\":0.0},\"fill_alpha\":{\"value\":1.0},\"fill_color\":{\"value\":\"#6d904f\"},\"hatch_alpha\":{\"value\":1.0},\"hatch_color\":{\"value\":\"black\"},\"hatch_scale\":{\"value\":12.0},\"hatch_weight\":{\"value\":1.0},\"line_alpha\":{\"value\":1.0},\"line_cap\":{\"value\":\"butt\"},\"line_color\":{\"value\":\"#6d904f\"},\"line_dash\":{\"value\":[]},\"line_dash_offset\":{\"value\":0},\"line_join\":{\"value\":\"bevel\"},\"line_width\":{\"value\":1},\"marker\":{\"value\":\"circle\"},\"size\":{\"value\":5.477225575051661},\"x\":{\"field\":\"price_change_percentage_24h\"},\"y\":{\"field\":\"price_change_percentage_7d\"}},\"id\":\"5779\",\"type\":\"Scatter\"},{\"attributes\":{\"end\":2.2155632386560065,\"reset_end\":2.2155632386560065,\"reset_start\":-5.276792781891412,\"start\":-5.276792781891412,\"tags\":[[[\"price_change_percentage_24h\",\"price_change_percentage_24h\",null]]]},\"id\":\"5645\",\"type\":\"Range1d\"},{\"attributes\":{\"fill_alpha\":{\"value\":0.2},\"fill_color\":{\"value\":\"#6d904f\"},\"line_alpha\":{\"value\":0.2},\"line_color\":{\"value\":\"#6d904f\"},\"size\":{\"value\":5.477225575051661},\"x\":{\"field\":\"price_change_percentage_24h\"},\"y\":{\"field\":\"price_change_percentage_7d\"}},\"id\":\"5759\",\"type\":\"Scatter\"},{\"attributes\":{},\"id\":\"5681\",\"type\":\"AllLabels\"},{\"attributes\":{\"text\":\"Coin % change scatterplot - 24 hours vs. 7 days\",\"text_color\":\"black\",\"text_font_size\":\"12pt\"},\"id\":\"5652\",\"type\":\"Title\"},{\"attributes\":{\"source\":{\"id\":\"5708\"}},\"id\":\"5715\",\"type\":\"CDSView\"},{\"attributes\":{},\"id\":\"6008\",\"type\":\"Selection\"},{\"attributes\":{\"fill_color\":{\"value\":\"#fc4f30\"},\"line_color\":{\"value\":\"#fc4f30\"},\"size\":{\"value\":5.477225575051661},\"x\":{\"field\":\"price_change_percentage_24h\"},\"y\":{\"field\":\"price_change_percentage_7d\"}},\"id\":\"5711\",\"type\":\"Scatter\"},{\"attributes\":{\"label\":{\"value\":\"0\"},\"renderers\":[{\"id\":\"5946\"}]},\"id\":\"5959\",\"type\":\"LegendItem\"},{\"attributes\":{\"label\":{\"value\":\"3\"},\"renderers\":[{\"id\":\"5760\"}]},\"id\":\"5778\",\"type\":\"LegendItem\"},{\"attributes\":{\"fill_alpha\":{\"value\":0.2},\"fill_color\":{\"value\":\"#30a2da\"},\"line_alpha\":{\"value\":0.2},\"line_color\":{\"value\":\"#30a2da\"},\"size\":{\"value\":5.477225575051661},\"x\":{\"field\":\"price_change_percentage_24h\"},\"y\":{\"field\":\"price_change_percentage_7d\"}},\"id\":\"5692\",\"type\":\"Scatter\"},{\"attributes\":{\"children\":[[{\"id\":\"5651\"},0,0],[{\"id\":\"5904\"},0,1]]},\"id\":\"6473\",\"type\":\"GridBox\"},{\"attributes\":{},\"id\":\"5923\",\"type\":\"WheelZoomTool\"},{\"attributes\":{\"fill_alpha\":{\"value\":0.1},\"fill_color\":{\"value\":\"#17becf\"},\"line_alpha\":{\"value\":0.1},\"line_color\":{\"value\":\"#17becf\"},\"size\":{\"value\":5.477225575051661},\"x\":{\"field\":\"PC1\"},\"y\":{\"field\":\"PC3\"}},\"id\":\"6065\",\"type\":\"Scatter\"},{\"attributes\":{},\"id\":\"5725\",\"type\":\"UnionRenderers\"},{\"attributes\":{\"fill_alpha\":{\"value\":0.1},\"fill_color\":{\"value\":\"#d62728\"},\"line_alpha\":{\"value\":0.1},\"line_color\":{\"value\":\"#d62728\"},\"size\":{\"value\":5.477225575051661},\"x\":{\"field\":\"PC1\"},\"y\":{\"field\":\"PC3\"}},\"id\":\"6127\",\"type\":\"Scatter\"},{\"attributes\":{},\"id\":\"5702\",\"type\":\"UnionRenderers\"},{\"attributes\":{\"axis_label\":\"PC1\",\"formatter\":{\"id\":\"5935\"},\"major_label_policy\":{\"id\":\"5934\"},\"ticker\":{\"id\":\"5914\"}},\"id\":\"5913\",\"type\":\"LinearAxis\"},{\"attributes\":{\"data\":{\"PC1\":{\"__ndarray__\":\"QIjbcg9sCkA0dfgJqAsEQF9XRjOA0g1A\",\"dtype\":\"float64\",\"order\":\"little\",\"shape\":[3]},\"PC3\":{\"__ndarray__\":\"yajnOrPPy79gotTQzY/Av5ejkMOt6uQ/\",\"dtype\":\"float64\",\"order\":\"little\",\"shape\":[3]},\"clusters\":[7,7,7],\"coin_id\":[\"bitcoin-cash\",\"binancecoin\",\"monero\"]},\"selected\":{\"id\":\"6124\"},\"selection_policy\":{\"id\":\"6152\"}},\"id\":\"6123\",\"type\":\"ColumnDataSource\"},{\"attributes\":{\"angle\":{\"value\":0.0},\"fill_alpha\":{\"value\":1.0},\"fill_color\":{\"value\":\"#30a2da\"},\"hatch_alpha\":{\"value\":1.0},\"hatch_color\":{\"value\":\"black\"},\"hatch_scale\":{\"value\":12.0},\"hatch_weight\":{\"value\":1.0},\"line_alpha\":{\"value\":1.0},\"line_cap\":{\"value\":\"butt\"},\"line_color\":{\"value\":\"#30a2da\"},\"line_dash\":{\"value\":[]},\"line_dash_offset\":{\"value\":0},\"line_join\":{\"value\":\"bevel\"},\"line_width\":{\"value\":1},\"marker\":{\"value\":\"circle\"},\"size\":{\"value\":5.477225575051661},\"x\":{\"field\":\"PC1\"},\"y\":{\"field\":\"PC3\"}},\"id\":\"5960\",\"type\":\"Scatter\"},{\"attributes\":{},\"id\":\"5656\",\"type\":\"LinearScale\"},{\"attributes\":{},\"id\":\"5688\",\"type\":\"Selection\"},{\"attributes\":{\"data_source\":{\"id\":\"5961\"},\"glyph\":{\"id\":\"5964\"},\"hover_glyph\":null,\"muted_glyph\":{\"id\":\"5966\"},\"nonselection_glyph\":{\"id\":\"5965\"},\"selection_glyph\":{\"id\":\"5982\"},\"view\":{\"id\":\"5968\"}},\"id\":\"5967\",\"type\":\"GlyphRenderer\"},{\"attributes\":{},\"id\":\"5672\",\"type\":\"ResetTool\"},{\"attributes\":{\"fill_color\":{\"value\":\"#30a2da\"},\"line_color\":{\"value\":\"#30a2da\"},\"size\":{\"value\":5.477225575051661},\"x\":{\"field\":\"price_change_percentage_24h\"},\"y\":{\"field\":\"price_change_percentage_7d\"}},\"id\":\"5690\",\"type\":\"Scatter\"},{\"attributes\":{},\"id\":\"5925\",\"type\":\"ResetTool\"},{\"attributes\":{\"fill_color\":{\"value\":\"#8b8b8b\"},\"line_color\":{\"value\":\"#8b8b8b\"},\"size\":{\"value\":5.477225575051661},\"x\":{\"field\":\"PC1\"},\"y\":{\"field\":\"PC3\"}},\"id\":\"6036\",\"type\":\"Scatter\"},{\"attributes\":{\"fill_color\":{\"value\":\"#17becf\"},\"line_color\":{\"value\":\"#17becf\"},\"size\":{\"value\":5.477225575051661},\"x\":{\"field\":\"PC1\"},\"y\":{\"field\":\"PC3\"}},\"id\":\"6064\",\"type\":\"Scatter\"},{\"attributes\":{\"fill_alpha\":{\"value\":0.2},\"fill_color\":{\"value\":\"#fc4f30\"},\"line_alpha\":{\"value\":0.2},\"line_color\":{\"value\":\"#fc4f30\"},\"size\":{\"value\":5.477225575051661},\"x\":{\"field\":\"PC1\"},\"y\":{\"field\":\"PC3\"}},\"id\":\"5966\",\"type\":\"Scatter\"},{\"attributes\":{\"fill_alpha\":{\"value\":0.2},\"fill_color\":{\"value\":\"#e5ae38\"},\"line_alpha\":{\"value\":0.2},\"line_color\":{\"value\":\"#e5ae38\"},\"size\":{\"value\":5.477225575051661},\"x\":{\"field\":\"PC1\"},\"y\":{\"field\":\"PC3\"}},\"id\":\"5988\",\"type\":\"Scatter\"},{\"attributes\":{},\"id\":\"5911\",\"type\":\"LinearScale\"},{\"attributes\":{\"fill_color\":{\"value\":\"#e377c2\"},\"line_color\":{\"value\":\"#e377c2\"},\"size\":{\"value\":5.477225575051661},\"x\":{\"field\":\"PC1\"},\"y\":{\"field\":\"PC3\"}},\"id\":\"6196\",\"type\":\"Scatter\"},{\"attributes\":{\"margin\":[5,5,5,5],\"name\":\"HSpacer11038\",\"sizing_mode\":\"stretch_width\"},\"id\":\"6873\",\"type\":\"Spacer\"},{\"attributes\":{},\"id\":\"5909\",\"type\":\"LinearScale\"},{\"attributes\":{},\"id\":\"5941\",\"type\":\"Selection\"},{\"attributes\":{\"axis\":{\"id\":\"5917\"},\"dimension\":1,\"grid_line_color\":null,\"ticker\":null},\"id\":\"5920\",\"type\":\"Grid\"},{\"attributes\":{\"label\":{\"value\":\"7\"},\"renderers\":[{\"id\":\"6129\"}]},\"id\":\"6155\",\"type\":\"LegendItem\"},{\"attributes\":{},\"id\":\"5731\",\"type\":\"Selection\"},{\"attributes\":{},\"id\":\"5922\",\"type\":\"PanTool\"},{\"attributes\":{\"fill_color\":{\"value\":\"#6d904f\"},\"line_color\":{\"value\":\"#6d904f\"},\"size\":{\"value\":5.477225575051661},\"x\":{\"field\":\"price_change_percentage_24h\"},\"y\":{\"field\":\"price_change_percentage_7d\"}},\"id\":\"5757\",\"type\":\"Scatter\"},{\"attributes\":{\"overlay\":{\"id\":\"5926\"}},\"id\":\"5924\",\"type\":\"BoxZoomTool\"},{\"attributes\":{},\"id\":\"5978\",\"type\":\"UnionRenderers\"},{\"attributes\":{},\"id\":\"6034\",\"type\":\"Selection\"},{\"attributes\":{},\"id\":\"5921\",\"type\":\"SaveTool\"},{\"attributes\":{},\"id\":\"5658\",\"type\":\"LinearScale\"},{\"attributes\":{\"data_source\":{\"id\":\"6157\"},\"glyph\":{\"id\":\"6160\"},\"hover_glyph\":null,\"muted_glyph\":{\"id\":\"6162\"},\"nonselection_glyph\":{\"id\":\"6161\"},\"selection_glyph\":{\"id\":\"6192\"},\"view\":{\"id\":\"6164\"}},\"id\":\"6163\",\"type\":\"GlyphRenderer\"},{\"attributes\":{\"data_source\":{\"id\":\"6193\"},\"glyph\":{\"id\":\"6196\"},\"hover_glyph\":null,\"muted_glyph\":{\"id\":\"6198\"},\"nonselection_glyph\":{\"id\":\"6197\"},\"selection_glyph\":{\"id\":\"6230\"},\"view\":{\"id\":\"6200\"}},\"id\":\"6199\",\"type\":\"GlyphRenderer\"},{\"attributes\":{\"data_source\":{\"id\":\"5708\"},\"glyph\":{\"id\":\"5711\"},\"hover_glyph\":null,\"muted_glyph\":{\"id\":\"5713\"},\"nonselection_glyph\":{\"id\":\"5712\"},\"selection_glyph\":{\"id\":\"5729\"},\"view\":{\"id\":\"5715\"}},\"id\":\"5714\",\"type\":\"GlyphRenderer\"},{\"attributes\":{\"label\":{\"value\":\"8\"},\"renderers\":[{\"id\":\"6163\"}]},\"id\":\"6191\",\"type\":\"LegendItem\"},{\"attributes\":{},\"id\":\"5661\",\"type\":\"BasicTicker\"},{\"attributes\":{\"fill_alpha\":{\"value\":0.2},\"fill_color\":{\"value\":\"#fc4f30\"},\"line_alpha\":{\"value\":0.2},\"line_color\":{\"value\":\"#fc4f30\"},\"size\":{\"value\":5.477225575051661},\"x\":{\"field\":\"price_change_percentage_24h\"},\"y\":{\"field\":\"price_change_percentage_7d\"}},\"id\":\"5713\",\"type\":\"Scatter\"},{\"attributes\":{\"data\":{\"PC1\":{\"__ndarray__\":\"qNBii3lK5L8=\",\"dtype\":\"float64\",\"order\":\"little\",\"shape\":[1]},\"PC3\":{\"__ndarray__\":\"WJK+j+aeEcA=\",\"dtype\":\"float64\",\"order\":\"little\",\"shape\":[1]},\"clusters\":[2],\"coin_id\":[\"ethlend\"]},\"selected\":{\"id\":\"5984\"},\"selection_policy\":{\"id\":\"6002\"}},\"id\":\"5983\",\"type\":\"ColumnDataSource\"},{\"attributes\":{\"angle\":{\"value\":0.0},\"fill_alpha\":{\"value\":1.0},\"fill_color\":{\"value\":\"#e5ae38\"},\"hatch_alpha\":{\"value\":1.0},\"hatch_color\":{\"value\":\"black\"},\"hatch_scale\":{\"value\":12.0},\"hatch_weight\":{\"value\":1.0},\"line_alpha\":{\"value\":1.0},\"line_cap\":{\"value\":\"butt\"},\"line_color\":{\"value\":\"#e5ae38\"},\"line_dash\":{\"value\":[]},\"line_dash_offset\":{\"value\":0},\"line_join\":{\"value\":\"bevel\"},\"line_width\":{\"value\":1},\"marker\":{\"value\":\"circle\"},\"size\":{\"value\":5.477225575051661},\"x\":{\"field\":\"PC1\"},\"y\":{\"field\":\"PC3\"}},\"id\":\"6006\",\"type\":\"Scatter\"},{\"attributes\":{\"data_source\":{\"id\":\"5687\"},\"glyph\":{\"id\":\"5690\"},\"hover_glyph\":null,\"muted_glyph\":{\"id\":\"5692\"},\"nonselection_glyph\":{\"id\":\"5691\"},\"selection_glyph\":{\"id\":\"5707\"},\"view\":{\"id\":\"5694\"}},\"id\":\"5693\",\"type\":\"GlyphRenderer\"},{\"attributes\":{\"data\":{\"PC1\":{\"__ndarray__\":\"K4eSA5pv9r8=\",\"dtype\":\"float64\",\"order\":\"little\",\"shape\":[1]},\"PC3\":{\"__ndarray__\":\"gKwSq86P9z8=\",\"dtype\":\"float64\",\"order\":\"little\",\"shape\":[1]},\"clusters\":[6],\"coin_id\":[\"theta-token\"]},\"selected\":{\"id\":\"6092\"},\"selection_policy\":{\"id\":\"6118\"}},\"id\":\"6091\",\"type\":\"ColumnDataSource\"}],\"root_ids\":[\"5643\"]},\"title\":\"Bokeh Application\",\"version\":\"2.3.2\"}};\n",
       "    var render_items = [{\"docid\":\"6c1cf405-a82b-4c71-b4fc-2bebf0b37f8b\",\"root_ids\":[\"5643\"],\"roots\":{\"5643\":\"6ed482ec-a65d-4ac9-80e3-5e79acd8181c\"}}];\n",
       "    root.Bokeh.embed.embed_items_notebook(docs_json, render_items);\n",
       "  }\n",
       "  if (root.Bokeh !== undefined && root.Bokeh.Panel !== undefined) {\n",
       "    embed_document(root);\n",
       "  } else {\n",
       "    var attempts = 0;\n",
       "    var timer = setInterval(function(root) {\n",
       "      if (root.Bokeh !== undefined && root.Bokeh.Panel !== undefined) {\n",
       "        clearInterval(timer);\n",
       "        embed_document(root);\n",
       "      } else if (document.readyState == \"complete\") {\n",
       "        attempts++;\n",
       "        if (attempts > 200) {\n",
       "          clearInterval(timer);\n",
       "          console.log(\"Bokeh: ERROR: Unable to run BokehJS code because BokehJS library is missing\");\n",
       "        }\n",
       "      }\n",
       "    }, 25, root)\n",
       "  }\n",
       "})(window);</script>"
      ],
      "text/plain": [
       ":Layout\n",
       "   .NdOverlay.I  :NdOverlay   [clusters]\n",
       "      :Scatter   [price_change_percentage_24h]   (price_change_percentage_7d,coin_id)\n",
       "   .NdOverlay.II :NdOverlay   [clusters]\n",
       "      :Scatter   [PC1]   (PC3,coin_id)"
      ]
     },
     "metadata": {
      "application/vnd.holoviews_exec.v0+json": {
       "id": "5643"
      }
     },
     "output_type": "display_data"
    }
   ],
   "source": [
    "# Compoosite plot to contrast the clusters\n",
    "display(cluster * cluster2)\n",
    "display(cluster + cluster2)"
   ]
  },
  {
   "cell_type": "markdown",
   "metadata": {},
   "source": [
    "#### Answer the following question: After visually analyzing the cluster analysis results, what is the impact of using fewer features to cluster the data using K-Means?\n",
    "\n",
    "  * **Question:** After visually analyzing the cluster analysis results, what is the impact of using fewer features to cluster the data using K-Means?\n",
    "\n",
    "  * **Answer:** There is a tradeoff between degrees of freedom and marginal explanatory power.  As the degrees of freedom increase, inertia decreases at a diminishing marginal rate.  Like most minimization problems, there is an optimal point on the elbow curve that lies at its estimated tangential minimum.  The elbow curve visualization is particularly useful aid for visualizing the optimal minimum number of variables."
   ]
  },
  {
   "cell_type": "code",
   "execution_count": null,
   "metadata": {},
   "outputs": [],
   "source": []
  }
 ],
 "metadata": {
  "kernelspec": {
   "display_name": "Python [conda env:dev] *",
   "language": "python",
   "name": "conda-env-dev-py"
  },
  "language_info": {
   "codemirror_mode": {
    "name": "ipython",
    "version": 3
   },
   "file_extension": ".py",
   "mimetype": "text/x-python",
   "name": "python",
   "nbconvert_exporter": "python",
   "pygments_lexer": "ipython3",
   "version": "3.7.10"
  }
 },
 "nbformat": 4,
 "nbformat_minor": 4
}
